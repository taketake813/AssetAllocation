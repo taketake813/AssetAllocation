{
 "cells": [
  {
   "cell_type": "code",
   "execution_count": 1,
   "metadata": {},
   "outputs": [],
   "source": [
    "import sys\n",
    "import os\n",
    "import pandas as pd\n",
    "import numpy as np\n",
    "import random\n",
    "import datetime\n",
    "import scipy.cluster.hierarchy as sch\n",
    "\n",
    "from mlfinlab.portfolio_optimization.hrp import HierarchicalRiskParity\n",
    "from pypfopt import expected_returns, risk_models\n",
    "from pypfopt import EfficientFrontier\n",
    "from pypfopt import HRPOpt"
   ]
  },
  {
   "cell_type": "code",
   "execution_count": 2,
   "metadata": {},
   "outputs": [],
   "source": [
    "dataset = pd.read_excel('./Bloomberg_DRL.xlsx', sheet_name = 'Data',index_col='Date')\n",
    "# dataset['UST_JPY'] = dataset['SPBDU10T Index'] * dataset['JPY BGN Curncy']\n",
    "# dataset['SPX_JPY'] = dataset['SPXT Index'] * dataset['JPY BGN Curncy']"
   ]
  },
  {
   "cell_type": "code",
   "execution_count": 3,
   "metadata": {},
   "outputs": [],
   "source": [
    "# すべて現地通貨建て(先物で執行前提)\n",
    "target_name = ['SPBDU10T Index', 'SPXT Index', 'TPXDDVD Index', 'SPJGBTR Index', 'SX5E Index', 'MXEF Index', 'SHCOMP Index', 'HSI Index', 'ASX Index',\n",
    "               'XAU BGN Curncy', 'CL1 COMB Comdty', 'HG1 COMB Comdty']"
   ]
  },
  {
   "cell_type": "code",
   "execution_count": 4,
   "metadata": {},
   "outputs": [
    {
     "output_type": "execute_result",
     "data": {
      "text/plain": "Index(['SPX Index', 'SX5E Index', 'TPX Index', 'MXEF Index', 'SHCOMP Index',\n       'HSI Index', 'ASX Index', 'JPY BGN Curncy', 'EUR BGN Curncy',\n       'GBP BGN Curncy', 'AUD BGN Curncy', 'CAD BGN Curncy', 'MXN BGN Curncy',\n       'CNY BGN Curncy', 'VIX Index', 'MOVE Index', 'CESIUSD index',\n       'CESIEUR index', 'CBT42NCN index', 'CBT55NCN index', 'CBT4TNCN Index',\n       'CBT3TNCN Index', 'USGG2YR Index', 'USGG5YR Index', 'USGG10YR Index',\n       'USGG30YR Index', 'GDBR2 Index', 'GDBR5 Index', 'GDBR10 Index',\n       'GDBR30 Index', 'GJGB2 index', 'GJGB5 index', 'GJGB10 index',\n       'GJGB30 index', 'XAU BGN Curncy', 'CL1 COMB Comdty', 'HG1 COMB Comdty',\n       'LUCROAS Index', 'LECPOAS Index', 'USGG5Y5Y Index', 'IMM5JNCN Index',\n       'IMMBENCN Index', 'IMM6ANCN Index', 'IMM5PNCN Index', 'IMM6MNCN Index',\n       'IMM3CNCN Index', 'CESIEM Index', 'CESIJPY Index', 'CESIGL Index',\n       'SPBDU10T Index', 'SPXT Index', 'TPXDDVD Index', 'SPJGBTR Index'],\n      dtype='object')"
     },
     "metadata": {},
     "execution_count": 4
    }
   ],
   "source": [
    "dataset.columns"
   ]
  },
  {
   "cell_type": "code",
   "execution_count": 5,
   "metadata": {},
   "outputs": [],
   "source": [
    "window = int(52 * 4) # rolling window\n",
    "StartDate = pd.to_datetime(datetime.datetime(2006, 12, 29)) - pd.offsets.Week(window)\n",
    "EndDate = pd.to_datetime(datetime.datetime(2019, 12, 31)) \n",
    "df_data = dataset[target_name][1:][StartDate:EndDate]\n",
    "df_data.index = pd.to_datetime(df_data.index)"
   ]
  },
  {
   "cell_type": "code",
   "execution_count": 6,
   "metadata": {},
   "outputs": [
    {
     "output_type": "execute_result",
     "data": {
      "text/plain": "            SPBDU10T Index  SPXT Index  TPXDDVD Index  SPJGBTR Index  \\\nDate                                                                   \n2019-11-29         650.111     6361.56        2588.40         164.53   \n2019-12-06         647.491     6374.70        2609.89         163.76   \n2019-12-13         648.413     6423.93        2650.45         163.61   \n2019-12-20         644.216     6531.75        2639.92         163.08   \n2019-12-27         646.574     6571.03        2643.93         163.37   \n\n            SX5E Index  \nDate                    \n2019-11-29     3703.58  \n2019-12-06     3692.34  \n2019-12-13     3731.07  \n2019-12-20     3776.56  \n2019-12-27     3782.27  ",
      "text/html": "<div>\n<style scoped>\n    .dataframe tbody tr th:only-of-type {\n        vertical-align: middle;\n    }\n\n    .dataframe tbody tr th {\n        vertical-align: top;\n    }\n\n    .dataframe thead th {\n        text-align: right;\n    }\n</style>\n<table border=\"1\" class=\"dataframe\">\n  <thead>\n    <tr style=\"text-align: right;\">\n      <th></th>\n      <th>SPBDU10T Index</th>\n      <th>SPXT Index</th>\n      <th>TPXDDVD Index</th>\n      <th>SPJGBTR Index</th>\n      <th>SX5E Index</th>\n    </tr>\n    <tr>\n      <th>Date</th>\n      <th></th>\n      <th></th>\n      <th></th>\n      <th></th>\n      <th></th>\n    </tr>\n  </thead>\n  <tbody>\n    <tr>\n      <th>2019-11-29</th>\n      <td>650.111</td>\n      <td>6361.56</td>\n      <td>2588.40</td>\n      <td>164.53</td>\n      <td>3703.58</td>\n    </tr>\n    <tr>\n      <th>2019-12-06</th>\n      <td>647.491</td>\n      <td>6374.70</td>\n      <td>2609.89</td>\n      <td>163.76</td>\n      <td>3692.34</td>\n    </tr>\n    <tr>\n      <th>2019-12-13</th>\n      <td>648.413</td>\n      <td>6423.93</td>\n      <td>2650.45</td>\n      <td>163.61</td>\n      <td>3731.07</td>\n    </tr>\n    <tr>\n      <th>2019-12-20</th>\n      <td>644.216</td>\n      <td>6531.75</td>\n      <td>2639.92</td>\n      <td>163.08</td>\n      <td>3776.56</td>\n    </tr>\n    <tr>\n      <th>2019-12-27</th>\n      <td>646.574</td>\n      <td>6571.03</td>\n      <td>2643.93</td>\n      <td>163.37</td>\n      <td>3782.27</td>\n    </tr>\n  </tbody>\n</table>\n</div>"
     },
     "metadata": {},
     "execution_count": 6
    }
   ],
   "source": [
    "df_data.tail()"
   ]
  },
  {
   "cell_type": "code",
   "execution_count": 7,
   "metadata": {},
   "outputs": [
    {
     "output_type": "execute_result",
     "data": {
      "text/plain": "            SPBDU10T Index  SPXT Index  TPXDDVD Index  SPJGBTR Index  \\\nDate                                                                   \n2003-01-10       -0.006981    0.021297      -0.006632      -0.001774   \n2003-01-17        0.009910   -0.027558       0.025732       0.004200   \n2003-01-24        0.008102   -0.044673       0.002458       0.002171   \n2003-01-31       -0.004029   -0.006231      -0.046580       0.000562   \n2003-02-07        0.003746   -0.029866       0.021824      -0.001123   \n\n            SX5E Index  \nDate                    \n2003-01-10   -0.005267  \n2003-01-17   -0.039634  \n2003-01-24   -0.065178  \n2003-01-31    0.006091  \n2003-02-07   -0.050961  ",
      "text/html": "<div>\n<style scoped>\n    .dataframe tbody tr th:only-of-type {\n        vertical-align: middle;\n    }\n\n    .dataframe tbody tr th {\n        vertical-align: top;\n    }\n\n    .dataframe thead th {\n        text-align: right;\n    }\n</style>\n<table border=\"1\" class=\"dataframe\">\n  <thead>\n    <tr style=\"text-align: right;\">\n      <th></th>\n      <th>SPBDU10T Index</th>\n      <th>SPXT Index</th>\n      <th>TPXDDVD Index</th>\n      <th>SPJGBTR Index</th>\n      <th>SX5E Index</th>\n    </tr>\n    <tr>\n      <th>Date</th>\n      <th></th>\n      <th></th>\n      <th></th>\n      <th></th>\n      <th></th>\n    </tr>\n  </thead>\n  <tbody>\n    <tr>\n      <th>2003-01-10</th>\n      <td>-0.006981</td>\n      <td>0.021297</td>\n      <td>-0.006632</td>\n      <td>-0.001774</td>\n      <td>-0.005267</td>\n    </tr>\n    <tr>\n      <th>2003-01-17</th>\n      <td>0.009910</td>\n      <td>-0.027558</td>\n      <td>0.025732</td>\n      <td>0.004200</td>\n      <td>-0.039634</td>\n    </tr>\n    <tr>\n      <th>2003-01-24</th>\n      <td>0.008102</td>\n      <td>-0.044673</td>\n      <td>0.002458</td>\n      <td>0.002171</td>\n      <td>-0.065178</td>\n    </tr>\n    <tr>\n      <th>2003-01-31</th>\n      <td>-0.004029</td>\n      <td>-0.006231</td>\n      <td>-0.046580</td>\n      <td>0.000562</td>\n      <td>0.006091</td>\n    </tr>\n    <tr>\n      <th>2003-02-07</th>\n      <td>0.003746</td>\n      <td>-0.029866</td>\n      <td>0.021824</td>\n      <td>-0.001123</td>\n      <td>-0.050961</td>\n    </tr>\n  </tbody>\n</table>\n</div>"
     },
     "metadata": {},
     "execution_count": 7
    }
   ],
   "source": [
    "df_data_pct = df_data.pct_change().dropna()\n",
    "df_data_pct.head()"
   ]
  },
  {
   "cell_type": "markdown",
   "metadata": {},
   "source": [
    "### mlfinlabを使用"
   ]
  },
  {
   "cell_type": "code",
   "execution_count": 8,
   "metadata": {},
   "outputs": [],
   "source": [
    "weight = pd.DataFrame(columns=target_name)\n",
    "for w in range(1, len(df_data)-window): # 時点注意\n",
    "    df_data_temp = df_data[w:w+window]\n",
    "    hrp = HierarchicalRiskParity() \n",
    "    hrp.allocate(asset_prices=df_data_temp)\n",
    "    weight = weight.append(hrp.weights.sort_values(by=0, ascending=False, axis=1))\n",
    "weight.index = df_data[window:-1].index\n",
    "# weight.to_csv('weight_HRP_mlfinlab.csv')"
   ]
  },
  {
   "cell_type": "markdown",
   "metadata": {},
   "source": [
    "### PyPortfolioOptを使用"
   ]
  },
  {
   "cell_type": "code",
   "execution_count": 9,
   "metadata": {},
   "outputs": [],
   "source": [
    "weight = []\n",
    "for w in range(len(df_data)-window-1): # 時点注意\n",
    "    returns = df_data_pct[w:w+window]\n",
    "    hrp = HRPOpt(returns)\n",
    "    weight.append(hrp.optimize())\n",
    "weight_df = pd.DataFrame([], columns=weight[0].keys())\n",
    "weight_df = pd.concat([weight_df, pd.DataFrame.from_dict(weight)])\n",
    "weight_df.index = df_data[window:-1].index\n",
    "weight_df = weight_df.loc[:, target_name]\n",
    "# weight_df.to_csv('weight_HRP.csv')"
   ]
  },
  {
   "cell_type": "markdown",
   "metadata": {},
   "source": [
    "## ここからマルコス本をもとに自作"
   ]
  },
  {
   "cell_type": "code",
   "execution_count": 10,
   "metadata": {},
   "outputs": [
    {
     "output_type": "execute_result",
     "data": {
      "text/plain": "array([[1.        , 4.        , 0.43144853, 2.        ],\n       [2.        , 5.        , 0.65096186, 3.        ],\n       [0.        , 3.        , 0.75997081, 2.        ],\n       [6.        , 7.        , 1.28262356, 5.        ]])"
     },
     "metadata": {},
     "execution_count": 10
    }
   ],
   "source": [
    "cov, corr = df_data_pct.cov(), df_data_pct.corr()\n",
    "dist = ((1-corr)/2.)**0.5\n",
    "link = sch.linkage(dist, 'single')\n",
    "link"
   ]
  },
  {
   "cell_type": "code",
   "execution_count": 11,
   "metadata": {},
   "outputs": [],
   "source": [
    "def getQuasiDiag(link): # Sort clustered items by distance \n",
    "    link=link.astype(int) \n",
    "    sortIx=pd.Series([link[-1,0],link[-1,1]]) \n",
    "    numItems=link[-1,3] # number of original items \n",
    "    while sortIx.max()>=numItems: \n",
    "        sortIx.index=range(0,sortIx.shape[0]*2,2) # make space \n",
    "        df0=sortIx[sortIx>=numItems] # find clusters \n",
    "        i=df0.index;j=df0.values-numItems \n",
    "        sortIx[i]=link[j,0] # item 1 \n",
    "        df0=pd.Series(link[j,1],index=i+1) \n",
    "        sortIx=sortIx.append(df0) # item 2 \n",
    "        sortIx=sortIx.sort_index() # re-sort \n",
    "        sortIx.index=range(sortIx.shape[0]) # re-index \n",
    "    return sortIx.tolist()"
   ]
  },
  {
   "cell_type": "code",
   "execution_count": 12,
   "metadata": {
    "tags": []
   },
   "outputs": [
    {
     "output_type": "stream",
     "name": "stdout",
     "text": "0    6\n1    7\ndtype: int64\n"
    }
   ],
   "source": [
    "linka=link.astype(int)\n",
    "sortIxa=pd.Series([linka[-1,0],linka[-1,1]]) \n",
    "numItems=linka[-1,3] # number of original items \n",
    "print(sortIxa)"
   ]
  },
  {
   "cell_type": "code",
   "execution_count": 13,
   "metadata": {},
   "outputs": [
    {
     "output_type": "execute_result",
     "data": {
      "text/plain": "0    6\n2    7\ndtype: int64"
     },
     "metadata": {},
     "execution_count": 13
    }
   ],
   "source": [
    "# ここからwhile文\n",
    "sortIxa.index=range(0,sortIxa.shape[0]*2,2) # make space \n",
    "df0=sortIxa[sortIxa>=numItems] # find clusters \n",
    "df0"
   ]
  },
  {
   "cell_type": "code",
   "execution_count": 14,
   "metadata": {
    "tags": []
   },
   "outputs": [
    {
     "output_type": "stream",
     "name": "stdout",
     "text": "0    2\n2    0\ndtype: int32\n"
    }
   ],
   "source": [
    "i=df0.index\n",
    "j=df0.values-numItems \n",
    "sortIxa[i]=linka[j,0] # item 1 \n",
    "print(sortIxa)"
   ]
  },
  {
   "cell_type": "code",
   "execution_count": 15,
   "metadata": {},
   "outputs": [
    {
     "output_type": "execute_result",
     "data": {
      "text/plain": "(Int64Index([0, 2], dtype='int64'), array([1, 2], dtype=int64))"
     },
     "metadata": {},
     "execution_count": 15
    }
   ],
   "source": [
    "i, j"
   ]
  },
  {
   "cell_type": "code",
   "execution_count": 16,
   "metadata": {},
   "outputs": [
    {
     "output_type": "execute_result",
     "data": {
      "text/plain": "1    5\n3    3\ndtype: int32"
     },
     "metadata": {},
     "execution_count": 16
    }
   ],
   "source": [
    "df0=pd.Series(linka[j,1],index=i+1) \n",
    "df0"
   ]
  },
  {
   "cell_type": "code",
   "execution_count": 17,
   "metadata": {},
   "outputs": [
    {
     "output_type": "execute_result",
     "data": {
      "text/plain": "0    2\n1    5\n2    0\n3    3\ndtype: int32"
     },
     "metadata": {},
     "execution_count": 17
    }
   ],
   "source": [
    "sortIxa=sortIxa.append(df0) # item 2 \n",
    "sortIxa=sortIxa.sort_index() # re-sort \n",
    "sortIxa.index=range(sortIxa.shape[0])\n",
    "sortIxa"
   ]
  },
  {
   "cell_type": "code",
   "execution_count": 18,
   "metadata": {},
   "outputs": [
    {
     "output_type": "execute_result",
     "data": {
      "text/plain": "[2, 5, 0, 3]"
     },
     "metadata": {},
     "execution_count": 18
    }
   ],
   "source": [
    "sortIxa.tolist()"
   ]
  },
  {
   "cell_type": "code",
   "execution_count": 19,
   "metadata": {},
   "outputs": [],
   "source": [
    "def getIVP(cov,**kargs): # Compute the inverse-variance portfolio \n",
    "    ivp=1./np.diag(cov) \n",
    "    ivp/=ivp.sum() \n",
    "    return ivp\n",
    "\n",
    "def getClusterVar(cov,cItems): # Compute variance per cluster \n",
    "    cov_=cov.loc[cItems,cItems] # matrix slice \n",
    "    w_=getIVP(cov_).reshape(-1,1) \n",
    "    cVar=np.dot(np.dot(w_.T,cov_),w_)[0,0] \n",
    "    return cVar\n",
    "\n",
    "def getRecBipart(cov,sortIx): # Compute HRP alloc \n",
    "    w=pd.Series(1,index=sortIx)\n",
    "    cItems=[sortIx] # initialize all items in one cluster \n",
    "    while len(cItems)>0: \n",
    "        cItems=[i[j:k] for i in cItems for j,k in ((0,int(len(i)/2)), (int(len(i)/2),len(i))) if len(i)>1] # bi-section \n",
    "        for i in range(0,len(cItems),2): # parse in pairs \n",
    "            cItems0=cItems[i] # cluster 1 \n",
    "            cItems1=cItems[i+1] # cluster 2 \n",
    "            cVar0=getClusterVar(cov,cItems0) \n",
    "            cVar1=getClusterVar(cov,cItems1) \n",
    "            alpha=1-cVar0/(cVar0+cVar1) \n",
    "            w[cItems0]*=alpha # weight 1 \n",
    "            w[cItems1]*=1-alpha # weight 2 \n",
    "    return w"
   ]
  },
  {
   "cell_type": "code",
   "execution_count": 20,
   "metadata": {},
   "outputs": [
    {
     "output_type": "execute_result",
     "data": {
      "text/plain": "[2, 1, 4, 0, 3]"
     },
     "metadata": {},
     "execution_count": 20
    }
   ],
   "source": [
    "temp = getQuasiDiag(link)\n",
    "temp"
   ]
  },
  {
   "cell_type": "code",
   "execution_count": 21,
   "metadata": {},
   "outputs": [
    {
     "output_type": "execute_result",
     "data": {
      "text/plain": "['TPXDDVD Index',\n 'SPXT Index',\n 'SX5E Index',\n 'SPBDU10T Index',\n 'SPJGBTR Index']"
     },
     "metadata": {},
     "execution_count": 21
    }
   ],
   "source": [
    "sortIx = [df_data.columns[i] for i in temp]\n",
    "sortIx"
   ]
  },
  {
   "cell_type": "code",
   "execution_count": 22,
   "metadata": {},
   "outputs": [
    {
     "output_type": "execute_result",
     "data": {
      "text/plain": "[['TPXDDVD Index',\n  'SPXT Index',\n  'SX5E Index',\n  'SPBDU10T Index',\n  'SPJGBTR Index']]"
     },
     "metadata": {},
     "execution_count": 22
    }
   ],
   "source": [
    "w=pd.Series(1,index=sortIx)\n",
    "cItems=[sortIx]\n",
    "cItems"
   ]
  },
  {
   "cell_type": "code",
   "execution_count": 23,
   "metadata": {
    "tags": []
   },
   "outputs": [
    {
     "output_type": "stream",
     "name": "stdout",
     "text": "[['TPXDDVD Index', 'SPXT Index'], ['SX5E Index', 'SPBDU10T Index', 'SPJGBTR Index']]\nTPXDDVD Index     0.029215\nSPXT Index        0.029215\nSX5E Index        0.970785\nSPBDU10T Index    0.970785\nSPJGBTR Index     0.970785\ndtype: float64 0.0004691055122846965 1.4117137498340659e-05 0.029214560833767056\n[['TPXDDVD Index'], ['SPXT Index'], ['SX5E Index'], ['SPBDU10T Index', 'SPJGBTR Index']]\nTPXDDVD Index     0.011975\nSPXT Index        0.017240\nSX5E Index        0.970785\nSPBDU10T Index    0.970785\nSPJGBTR Index     0.970785\ndtype: float64 0.0007281324541361425 0.0005057469006305546 0.4098835908687213\nTPXDDVD Index     0.011975\nSPXT Index        0.017240\nSX5E Index        0.018663\nSPBDU10T Index    0.952122\nSPJGBTR Index     0.952122\ndtype: float64 0.0007835519584962987 1.535895574043813e-05 0.019224866586172173\n[['SPBDU10T Index'], ['SPJGBTR Index']]\nTPXDDVD Index     0.011975\nSPXT Index        0.017240\nSX5E Index        0.018663\nSPBDU10T Index    0.151465\nSPJGBTR Index     0.800657\ndtype: float64 7.34920582835339e-05 1.3902946014430454e-05 0.1590817018216485\n[]\n"
    }
   ],
   "source": [
    "while len(cItems)>0:\n",
    "    cItems = [i[j:k] for i in cItems for j,k in ((0,int(len(i)/2)), (int(len(i)/2),len(i))) if len(i)>1]\n",
    "    print(cItems)\n",
    "    for i in range(0,len(cItems),2):\n",
    "        cItems0=cItems[i] # cluster 1 \n",
    "        cItems1=cItems[i+1] # cluster 2 \n",
    "        cVar0=getClusterVar(cov,cItems0) \n",
    "        cVar1=getClusterVar(cov,cItems1) \n",
    "        alpha=1-cVar0/(cVar0+cVar1) \n",
    "        w[cItems0]*=alpha # weight 1 \n",
    "        w[cItems1]*=1-alpha # weight 2\n",
    "        print(w, cVar0, cVar1, alpha)"
   ]
  },
  {
   "cell_type": "code",
   "execution_count": 24,
   "metadata": {
    "tags": []
   },
   "outputs": [
    {
     "output_type": "stream",
     "name": "stdout",
     "text": "0 3 ['TPXDDVD Index', 'SPXT Index', 'SX5E Index']\n3 7 ['SPBDU10T Index', 'SPJGBTR Index']\n"
    }
   ],
   "source": [
    "for j,k in ((0,int(7/2)), (int(7/2),7)):\n",
    "    print(j, k, sortIx[j:k])"
   ]
  },
  {
   "cell_type": "code",
   "execution_count": 25,
   "metadata": {},
   "outputs": [
    {
     "output_type": "execute_result",
     "data": {
      "text/plain": "array([1.  , 0.25])"
     },
     "metadata": {},
     "execution_count": 25
    }
   ],
   "source": [
    "1./np.diag([[1,2],[3,4]]) "
   ]
  },
  {
   "cell_type": "markdown",
   "metadata": {},
   "source": [
    "# 非階層型クラスタリング"
   ]
  },
  {
   "cell_type": "code",
   "execution_count": 26,
   "metadata": {},
   "outputs": [
    {
     "output_type": "execute_result",
     "data": {
      "text/plain": "            SPBDU10T Index  SPXT Index  TPXDDVD Index  SPJGBTR Index  \\\nDate                                                                   \n2019-11-29       -0.000503    0.010358       0.004775      -0.000061   \n2019-12-06       -0.004030    0.002066       0.008302      -0.004680   \n2019-12-13        0.001424    0.007723       0.015541      -0.000916   \n2019-12-20       -0.006473    0.016784      -0.003973      -0.003239   \n2019-12-27        0.003660    0.006014       0.001519       0.001778   \n\n            SX5E Index  \nDate                    \n2019-11-29    0.004410  \n2019-12-06   -0.003035  \n2019-12-13    0.010489  \n2019-12-20    0.012192  \n2019-12-27    0.001512  ",
      "text/html": "<div>\n<style scoped>\n    .dataframe tbody tr th:only-of-type {\n        vertical-align: middle;\n    }\n\n    .dataframe tbody tr th {\n        vertical-align: top;\n    }\n\n    .dataframe thead th {\n        text-align: right;\n    }\n</style>\n<table border=\"1\" class=\"dataframe\">\n  <thead>\n    <tr style=\"text-align: right;\">\n      <th></th>\n      <th>SPBDU10T Index</th>\n      <th>SPXT Index</th>\n      <th>TPXDDVD Index</th>\n      <th>SPJGBTR Index</th>\n      <th>SX5E Index</th>\n    </tr>\n    <tr>\n      <th>Date</th>\n      <th></th>\n      <th></th>\n      <th></th>\n      <th></th>\n      <th></th>\n    </tr>\n  </thead>\n  <tbody>\n    <tr>\n      <th>2019-11-29</th>\n      <td>-0.000503</td>\n      <td>0.010358</td>\n      <td>0.004775</td>\n      <td>-0.000061</td>\n      <td>0.004410</td>\n    </tr>\n    <tr>\n      <th>2019-12-06</th>\n      <td>-0.004030</td>\n      <td>0.002066</td>\n      <td>0.008302</td>\n      <td>-0.004680</td>\n      <td>-0.003035</td>\n    </tr>\n    <tr>\n      <th>2019-12-13</th>\n      <td>0.001424</td>\n      <td>0.007723</td>\n      <td>0.015541</td>\n      <td>-0.000916</td>\n      <td>0.010489</td>\n    </tr>\n    <tr>\n      <th>2019-12-20</th>\n      <td>-0.006473</td>\n      <td>0.016784</td>\n      <td>-0.003973</td>\n      <td>-0.003239</td>\n      <td>0.012192</td>\n    </tr>\n    <tr>\n      <th>2019-12-27</th>\n      <td>0.003660</td>\n      <td>0.006014</td>\n      <td>0.001519</td>\n      <td>0.001778</td>\n      <td>0.001512</td>\n    </tr>\n  </tbody>\n</table>\n</div>"
     },
     "metadata": {},
     "execution_count": 26
    }
   ],
   "source": [
    "df_data_pct.tail()"
   ]
  },
  {
   "cell_type": "code",
   "execution_count": 27,
   "metadata": {},
   "outputs": [
    {
     "output_type": "display_data",
     "data": {
      "text/plain": "<Figure size 432x288 with 1 Axes>",
      "image/svg+xml": "<?xml version=\"1.0\" encoding=\"utf-8\" standalone=\"no\"?>\r\n<!DOCTYPE svg PUBLIC \"-//W3C//DTD SVG 1.1//EN\"\r\n  \"http://www.w3.org/Graphics/SVG/1.1/DTD/svg11.dtd\">\r\n<!-- Created with matplotlib (https://matplotlib.org/) -->\r\n<svg height=\"235.34pt\" version=\"1.1\" viewBox=\"0 0 352.7 235.34\" width=\"352.7pt\" xmlns=\"http://www.w3.org/2000/svg\" xmlns:xlink=\"http://www.w3.org/1999/xlink\">\r\n <defs>\r\n  <style type=\"text/css\">\r\n*{stroke-linecap:butt;stroke-linejoin:round;}\r\n  </style>\r\n </defs>\r\n <g id=\"figure_1\">\r\n  <g id=\"patch_1\">\r\n   <path d=\"M 0 235.34 \r\nL 352.7 235.34 \r\nL 352.7 0 \r\nL 0 0 \r\nz\r\n\" style=\"fill:none;\"/>\r\n  </g>\r\n  <g id=\"axes_1\">\r\n   <g id=\"patch_2\">\r\n    <path d=\"M 10.7 224.64 \r\nL 345.5 224.64 \r\nL 345.5 7.2 \r\nL 10.7 7.2 \r\nz\r\n\" style=\"fill:#ffffff;\"/>\r\n   </g>\r\n   <g id=\"matplotlib.axis_1\">\r\n    <g id=\"xtick_1\">\r\n     <g id=\"line2d_1\">\r\n      <path clip-path=\"url(#p49b4ae5c53)\" d=\"M 20.362386 224.64 \r\nL 20.362386 7.2 \r\n\" style=\"fill:none;stroke:#b0b0b0;stroke-linecap:square;stroke-width:0.8;\"/>\r\n     </g>\r\n     <g id=\"line2d_2\">\r\n      <defs>\r\n       <path d=\"M 0 0 \r\nL 0 3.5 \r\n\" id=\"mdebf208566\" style=\"stroke:#000000;stroke-width:0.8;\"/>\r\n      </defs>\r\n      <g>\r\n       <use style=\"stroke:#000000;stroke-width:0.8;\" x=\"20.362386\" xlink:href=\"#mdebf208566\" y=\"224.64\"/>\r\n      </g>\r\n     </g>\r\n    </g>\r\n    <g id=\"xtick_2\">\r\n     <g id=\"line2d_3\">\r\n      <path clip-path=\"url(#p49b4ae5c53)\" d=\"M 85.588863 224.64 \r\nL 85.588863 7.2 \r\n\" style=\"fill:none;stroke:#b0b0b0;stroke-linecap:square;stroke-width:0.8;\"/>\r\n     </g>\r\n     <g id=\"line2d_4\">\r\n      <g>\r\n       <use style=\"stroke:#000000;stroke-width:0.8;\" x=\"85.588863\" xlink:href=\"#mdebf208566\" y=\"224.64\"/>\r\n      </g>\r\n     </g>\r\n    </g>\r\n    <g id=\"xtick_3\">\r\n     <g id=\"line2d_5\">\r\n      <path clip-path=\"url(#p49b4ae5c53)\" d=\"M 150.815341 224.64 \r\nL 150.815341 7.2 \r\n\" style=\"fill:none;stroke:#b0b0b0;stroke-linecap:square;stroke-width:0.8;\"/>\r\n     </g>\r\n     <g id=\"line2d_6\">\r\n      <g>\r\n       <use style=\"stroke:#000000;stroke-width:0.8;\" x=\"150.815341\" xlink:href=\"#mdebf208566\" y=\"224.64\"/>\r\n      </g>\r\n     </g>\r\n    </g>\r\n    <g id=\"xtick_4\">\r\n     <g id=\"line2d_7\">\r\n      <path clip-path=\"url(#p49b4ae5c53)\" d=\"M 216.041818 224.64 \r\nL 216.041818 7.2 \r\n\" style=\"fill:none;stroke:#b0b0b0;stroke-linecap:square;stroke-width:0.8;\"/>\r\n     </g>\r\n     <g id=\"line2d_8\">\r\n      <g>\r\n       <use style=\"stroke:#000000;stroke-width:0.8;\" x=\"216.041818\" xlink:href=\"#mdebf208566\" y=\"224.64\"/>\r\n      </g>\r\n     </g>\r\n    </g>\r\n    <g id=\"xtick_5\">\r\n     <g id=\"line2d_9\">\r\n      <path clip-path=\"url(#p49b4ae5c53)\" d=\"M 281.268295 224.64 \r\nL 281.268295 7.2 \r\n\" style=\"fill:none;stroke:#b0b0b0;stroke-linecap:square;stroke-width:0.8;\"/>\r\n     </g>\r\n     <g id=\"line2d_10\">\r\n      <g>\r\n       <use style=\"stroke:#000000;stroke-width:0.8;\" x=\"281.268295\" xlink:href=\"#mdebf208566\" y=\"224.64\"/>\r\n      </g>\r\n     </g>\r\n    </g>\r\n   </g>\r\n   <g id=\"matplotlib.axis_2\">\r\n    <g id=\"ytick_1\">\r\n     <g id=\"line2d_11\">\r\n      <path clip-path=\"url(#p49b4ae5c53)\" d=\"M 10.7 216.965706 \r\nL 345.5 216.965706 \r\n\" style=\"fill:none;stroke:#b0b0b0;stroke-linecap:square;stroke-width:0.8;\"/>\r\n     </g>\r\n     <g id=\"line2d_12\">\r\n      <defs>\r\n       <path d=\"M 0 0 \r\nL -3.5 0 \r\n\" id=\"m1b8a4fa0ff\" style=\"stroke:#000000;stroke-width:0.8;\"/>\r\n      </defs>\r\n      <g>\r\n       <use style=\"stroke:#000000;stroke-width:0.8;\" x=\"10.7\" xlink:href=\"#m1b8a4fa0ff\" y=\"216.965706\"/>\r\n      </g>\r\n     </g>\r\n    </g>\r\n    <g id=\"ytick_2\">\r\n     <g id=\"line2d_13\">\r\n      <path clip-path=\"url(#p49b4ae5c53)\" d=\"M 10.7 176.861472 \r\nL 345.5 176.861472 \r\n\" style=\"fill:none;stroke:#b0b0b0;stroke-linecap:square;stroke-width:0.8;\"/>\r\n     </g>\r\n     <g id=\"line2d_14\">\r\n      <g>\r\n       <use style=\"stroke:#000000;stroke-width:0.8;\" x=\"10.7\" xlink:href=\"#m1b8a4fa0ff\" y=\"176.861472\"/>\r\n      </g>\r\n     </g>\r\n    </g>\r\n    <g id=\"ytick_3\">\r\n     <g id=\"line2d_15\">\r\n      <path clip-path=\"url(#p49b4ae5c53)\" d=\"M 10.7 136.757238 \r\nL 345.5 136.757238 \r\n\" style=\"fill:none;stroke:#b0b0b0;stroke-linecap:square;stroke-width:0.8;\"/>\r\n     </g>\r\n     <g id=\"line2d_16\">\r\n      <g>\r\n       <use style=\"stroke:#000000;stroke-width:0.8;\" x=\"10.7\" xlink:href=\"#m1b8a4fa0ff\" y=\"136.757238\"/>\r\n      </g>\r\n     </g>\r\n    </g>\r\n    <g id=\"ytick_4\">\r\n     <g id=\"line2d_17\">\r\n      <path clip-path=\"url(#p49b4ae5c53)\" d=\"M 10.7 96.653004 \r\nL 345.5 96.653004 \r\n\" style=\"fill:none;stroke:#b0b0b0;stroke-linecap:square;stroke-width:0.8;\"/>\r\n     </g>\r\n     <g id=\"line2d_18\">\r\n      <g>\r\n       <use style=\"stroke:#000000;stroke-width:0.8;\" x=\"10.7\" xlink:href=\"#m1b8a4fa0ff\" y=\"96.653004\"/>\r\n      </g>\r\n     </g>\r\n    </g>\r\n    <g id=\"ytick_5\">\r\n     <g id=\"line2d_19\">\r\n      <path clip-path=\"url(#p49b4ae5c53)\" d=\"M 10.7 56.548769 \r\nL 345.5 56.548769 \r\n\" style=\"fill:none;stroke:#b0b0b0;stroke-linecap:square;stroke-width:0.8;\"/>\r\n     </g>\r\n     <g id=\"line2d_20\">\r\n      <g>\r\n       <use style=\"stroke:#000000;stroke-width:0.8;\" x=\"10.7\" xlink:href=\"#m1b8a4fa0ff\" y=\"56.548769\"/>\r\n      </g>\r\n     </g>\r\n    </g>\r\n    <g id=\"ytick_6\">\r\n     <g id=\"line2d_21\">\r\n      <path clip-path=\"url(#p49b4ae5c53)\" d=\"M 10.7 16.444535 \r\nL 345.5 16.444535 \r\n\" style=\"fill:none;stroke:#b0b0b0;stroke-linecap:square;stroke-width:0.8;\"/>\r\n     </g>\r\n     <g id=\"line2d_22\">\r\n      <g>\r\n       <use style=\"stroke:#000000;stroke-width:0.8;\" x=\"10.7\" xlink:href=\"#m1b8a4fa0ff\" y=\"16.444535\"/>\r\n      </g>\r\n     </g>\r\n    </g>\r\n   </g>\r\n   <g id=\"line2d_23\">\r\n    <path clip-path=\"url(#p49b4ae5c53)\" d=\"M 145.844366 44.261594 \r\n\" style=\"fill:none;stroke:#ff0000;stroke-linecap:square;stroke-width:1.5;\"/>\r\n    <defs>\r\n     <path d=\"M 0 1.25 \r\nC 0.331504 1.25 0.649475 1.118292 0.883883 0.883883 \r\nC 1.118292 0.649475 1.25 0.331504 1.25 0 \r\nC 1.25 -0.331504 1.118292 -0.649475 0.883883 -0.883883 \r\nC 0.649475 -1.118292 0.331504 -1.25 0 -1.25 \r\nC -0.331504 -1.25 -0.649475 -1.118292 -0.883883 -0.883883 \r\nC -1.118292 -0.649475 -1.25 -0.331504 -1.25 0 \r\nC -1.25 0.331504 -1.118292 0.649475 -0.883883 0.883883 \r\nC -0.649475 1.118292 -0.331504 1.25 0 1.25 \r\nz\r\n\" id=\"mfad493a412\" style=\"stroke:#ff0000;\"/>\r\n    </defs>\r\n    <g clip-path=\"url(#p49b4ae5c53)\">\r\n     <use style=\"fill:#ff0000;stroke:#ff0000;\" x=\"145.844366\" xlink:href=\"#mfad493a412\" y=\"44.261594\"/>\r\n    </g>\r\n   </g>\r\n   <g id=\"line2d_24\">\r\n    <path clip-path=\"url(#p49b4ae5c53)\" d=\"M 102.407184 52.459341 \r\n\" style=\"fill:none;stroke:#ff0000;stroke-linecap:square;stroke-width:1.5;\"/>\r\n    <g clip-path=\"url(#p49b4ae5c53)\">\r\n     <use style=\"fill:#ff0000;stroke:#ff0000;\" x=\"102.407184\" xlink:href=\"#mfad493a412\" y=\"52.459341\"/>\r\n    </g>\r\n   </g>\r\n   <g id=\"line2d_25\">\r\n    <path clip-path=\"url(#p49b4ae5c53)\" d=\"M 95.625392 47.909395 \r\n\" style=\"fill:none;stroke:#ff0000;stroke-linecap:square;stroke-width:1.5;\"/>\r\n    <g clip-path=\"url(#p49b4ae5c53)\">\r\n     <use style=\"fill:#ff0000;stroke:#ff0000;\" x=\"95.625392\" xlink:href=\"#mfad493a412\" y=\"47.909395\"/>\r\n    </g>\r\n   </g>\r\n   <g id=\"line2d_26\">\r\n    <path clip-path=\"url(#p49b4ae5c53)\" d=\"M 87.35637 43.264282 \r\n\" style=\"fill:none;stroke:#ff0000;stroke-linecap:square;stroke-width:1.5;\"/>\r\n    <g clip-path=\"url(#p49b4ae5c53)\">\r\n     <use style=\"fill:#ff0000;stroke:#ff0000;\" x=\"87.35637\" xlink:href=\"#mfad493a412\" y=\"43.264282\"/>\r\n    </g>\r\n   </g>\r\n   <g id=\"line2d_27\">\r\n    <path clip-path=\"url(#p49b4ae5c53)\" d=\"M 100.94585 30.896898 \r\n\" style=\"fill:none;stroke:#ff0000;stroke-linecap:square;stroke-width:1.5;\"/>\r\n    <g clip-path=\"url(#p49b4ae5c53)\">\r\n     <use style=\"fill:#ff0000;stroke:#ff0000;\" x=\"100.94585\" xlink:href=\"#mfad493a412\" y=\"30.896898\"/>\r\n    </g>\r\n   </g>\r\n   <g id=\"line2d_28\">\r\n    <path clip-path=\"url(#p49b4ae5c53)\" d=\"M 138.101396 32.106562 \r\n\" style=\"fill:none;stroke:#ff0000;stroke-linecap:square;stroke-width:1.5;\"/>\r\n    <g clip-path=\"url(#p49b4ae5c53)\">\r\n     <use style=\"fill:#ff0000;stroke:#ff0000;\" x=\"138.101396\" xlink:href=\"#mfad493a412\" y=\"32.106562\"/>\r\n    </g>\r\n   </g>\r\n   <g id=\"line2d_29\">\r\n    <path clip-path=\"url(#p49b4ae5c53)\" d=\"M 89.292553 43.889066 \r\n\" style=\"fill:none;stroke:#ff0000;stroke-linecap:square;stroke-width:1.5;\"/>\r\n    <g clip-path=\"url(#p49b4ae5c53)\">\r\n     <use style=\"fill:#ff0000;stroke:#ff0000;\" x=\"89.292553\" xlink:href=\"#mfad493a412\" y=\"43.889066\"/>\r\n    </g>\r\n   </g>\r\n   <g id=\"line2d_30\">\r\n    <path clip-path=\"url(#p49b4ae5c53)\" d=\"M 143.291662 53.44029 \r\n\" style=\"fill:none;stroke:#ff0000;stroke-linecap:square;stroke-width:1.5;\"/>\r\n    <g clip-path=\"url(#p49b4ae5c53)\">\r\n     <use style=\"fill:#ff0000;stroke:#ff0000;\" x=\"143.291662\" xlink:href=\"#mfad493a412\" y=\"53.44029\"/>\r\n    </g>\r\n   </g>\r\n   <g id=\"line2d_31\">\r\n    <path clip-path=\"url(#p49b4ae5c53)\" d=\"M 109.950887 36.254262 \r\n\" style=\"fill:none;stroke:#ff0000;stroke-linecap:square;stroke-width:1.5;\"/>\r\n    <g clip-path=\"url(#p49b4ae5c53)\">\r\n     <use style=\"fill:#ff0000;stroke:#ff0000;\" x=\"109.950887\" xlink:href=\"#mfad493a412\" y=\"36.254262\"/>\r\n    </g>\r\n   </g>\r\n   <g id=\"line2d_32\">\r\n    <path clip-path=\"url(#p49b4ae5c53)\" d=\"M 98.610547 34.522441 \r\n\" style=\"fill:none;stroke:#ff0000;stroke-linecap:square;stroke-width:1.5;\"/>\r\n    <g clip-path=\"url(#p49b4ae5c53)\">\r\n     <use style=\"fill:#ff0000;stroke:#ff0000;\" x=\"98.610547\" xlink:href=\"#mfad493a412\" y=\"34.522441\"/>\r\n    </g>\r\n   </g>\r\n   <g id=\"line2d_33\">\r\n    <path clip-path=\"url(#p49b4ae5c53)\" d=\"M 134.179328 44.740278 \r\n\" style=\"fill:none;stroke:#ff0000;stroke-linecap:square;stroke-width:1.5;\"/>\r\n    <g clip-path=\"url(#p49b4ae5c53)\">\r\n     <use style=\"fill:#ff0000;stroke:#ff0000;\" x=\"134.179328\" xlink:href=\"#mfad493a412\" y=\"44.740278\"/>\r\n    </g>\r\n   </g>\r\n   <g id=\"line2d_34\">\r\n    <path clip-path=\"url(#p49b4ae5c53)\" d=\"M 130.721868 46.173363 \r\n\" style=\"fill:none;stroke:#ff0000;stroke-linecap:square;stroke-width:1.5;\"/>\r\n    <g clip-path=\"url(#p49b4ae5c53)\">\r\n     <use style=\"fill:#ff0000;stroke:#ff0000;\" x=\"130.721868\" xlink:href=\"#mfad493a412\" y=\"46.173363\"/>\r\n    </g>\r\n   </g>\r\n   <g id=\"line2d_35\">\r\n    <path clip-path=\"url(#p49b4ae5c53)\" d=\"M 142.678272 34.140609 \r\n\" style=\"fill:none;stroke:#ff0000;stroke-linecap:square;stroke-width:1.5;\"/>\r\n    <g clip-path=\"url(#p49b4ae5c53)\">\r\n     <use style=\"fill:#ff0000;stroke:#ff0000;\" x=\"142.678272\" xlink:href=\"#mfad493a412\" y=\"34.140609\"/>\r\n    </g>\r\n   </g>\r\n   <g id=\"line2d_36\">\r\n    <path clip-path=\"url(#p49b4ae5c53)\" d=\"M 101.319859 23.256159 \r\n\" style=\"fill:none;stroke:#ff0000;stroke-linecap:square;stroke-width:1.5;\"/>\r\n    <g clip-path=\"url(#p49b4ae5c53)\">\r\n     <use style=\"fill:#ff0000;stroke:#ff0000;\" x=\"101.319859\" xlink:href=\"#mfad493a412\" y=\"23.256159\"/>\r\n    </g>\r\n   </g>\r\n   <g id=\"line2d_37\">\r\n    <path clip-path=\"url(#p49b4ae5c53)\" d=\"M 139.484327 26.856356 \r\n\" style=\"fill:none;stroke:#ff0000;stroke-linecap:square;stroke-width:1.5;\"/>\r\n    <g clip-path=\"url(#p49b4ae5c53)\">\r\n     <use style=\"fill:#ff0000;stroke:#ff0000;\" x=\"139.484327\" xlink:href=\"#mfad493a412\" y=\"26.856356\"/>\r\n    </g>\r\n   </g>\r\n   <g id=\"line2d_38\">\r\n    <path clip-path=\"url(#p49b4ae5c53)\" d=\"M 137.731105 49.170433 \r\n\" style=\"fill:none;stroke:#ff0000;stroke-linecap:square;stroke-width:1.5;\"/>\r\n    <g clip-path=\"url(#p49b4ae5c53)\">\r\n     <use style=\"fill:#ff0000;stroke:#ff0000;\" x=\"137.731105\" xlink:href=\"#mfad493a412\" y=\"49.170433\"/>\r\n    </g>\r\n   </g>\r\n   <g id=\"line2d_39\">\r\n    <path clip-path=\"url(#p49b4ae5c53)\" d=\"M 137.896845 22.411604 \r\n\" style=\"fill:none;stroke:#ff0000;stroke-linecap:square;stroke-width:1.5;\"/>\r\n    <g clip-path=\"url(#p49b4ae5c53)\">\r\n     <use style=\"fill:#ff0000;stroke:#ff0000;\" x=\"137.896845\" xlink:href=\"#mfad493a412\" y=\"22.411604\"/>\r\n    </g>\r\n   </g>\r\n   <g id=\"line2d_40\">\r\n    <path clip-path=\"url(#p49b4ae5c53)\" d=\"M 91.78003 28.738889 \r\n\" style=\"fill:none;stroke:#ff0000;stroke-linecap:square;stroke-width:1.5;\"/>\r\n    <g clip-path=\"url(#p49b4ae5c53)\">\r\n     <use style=\"fill:#ff0000;stroke:#ff0000;\" x=\"91.78003\" xlink:href=\"#mfad493a412\" y=\"28.738889\"/>\r\n    </g>\r\n   </g>\r\n   <g id=\"line2d_41\">\r\n    <path clip-path=\"url(#p49b4ae5c53)\" d=\"M 126.875854 53.761285 \r\n\" style=\"fill:none;stroke:#ff0000;stroke-linecap:square;stroke-width:1.5;\"/>\r\n    <g clip-path=\"url(#p49b4ae5c53)\">\r\n     <use style=\"fill:#ff0000;stroke:#ff0000;\" x=\"126.875854\" xlink:href=\"#mfad493a412\" y=\"53.761285\"/>\r\n    </g>\r\n   </g>\r\n   <g id=\"line2d_42\">\r\n    <path clip-path=\"url(#p49b4ae5c53)\" d=\"M 143.271638 18.976677 \r\n\" style=\"fill:none;stroke:#ff0000;stroke-linecap:square;stroke-width:1.5;\"/>\r\n    <g clip-path=\"url(#p49b4ae5c53)\">\r\n     <use style=\"fill:#ff0000;stroke:#ff0000;\" x=\"143.271638\" xlink:href=\"#mfad493a412\" y=\"18.976677\"/>\r\n    </g>\r\n   </g>\r\n   <g id=\"line2d_43\">\r\n    <path clip-path=\"url(#p49b4ae5c53)\" d=\"M 96.898417 44.838975 \r\n\" style=\"fill:none;stroke:#ff0000;stroke-linecap:square;stroke-width:1.5;\"/>\r\n    <g clip-path=\"url(#p49b4ae5c53)\">\r\n     <use style=\"fill:#ff0000;stroke:#ff0000;\" x=\"96.898417\" xlink:href=\"#mfad493a412\" y=\"44.838975\"/>\r\n    </g>\r\n   </g>\r\n   <g id=\"line2d_44\">\r\n    <path clip-path=\"url(#p49b4ae5c53)\" d=\"M 111.088372 39.237737 \r\n\" style=\"fill:none;stroke:#ff0000;stroke-linecap:square;stroke-width:1.5;\"/>\r\n    <g clip-path=\"url(#p49b4ae5c53)\">\r\n     <use style=\"fill:#ff0000;stroke:#ff0000;\" x=\"111.088372\" xlink:href=\"#mfad493a412\" y=\"39.237737\"/>\r\n    </g>\r\n   </g>\r\n   <g id=\"line2d_45\">\r\n    <path clip-path=\"url(#p49b4ae5c53)\" d=\"M 139.816852 55.927675 \r\n\" style=\"fill:none;stroke:#ff0000;stroke-linecap:square;stroke-width:1.5;\"/>\r\n    <g clip-path=\"url(#p49b4ae5c53)\">\r\n     <use style=\"fill:#ff0000;stroke:#ff0000;\" x=\"139.816852\" xlink:href=\"#mfad493a412\" y=\"55.927675\"/>\r\n    </g>\r\n   </g>\r\n   <g id=\"line2d_46\">\r\n    <path clip-path=\"url(#p49b4ae5c53)\" d=\"M 137.989467 17.083636 \r\n\" style=\"fill:none;stroke:#ff0000;stroke-linecap:square;stroke-width:1.5;\"/>\r\n    <g clip-path=\"url(#p49b4ae5c53)\">\r\n     <use style=\"fill:#ff0000;stroke:#ff0000;\" x=\"137.989467\" xlink:href=\"#mfad493a412\" y=\"17.083636\"/>\r\n    </g>\r\n   </g>\r\n   <g id=\"line2d_47\">\r\n    <path clip-path=\"url(#p49b4ae5c53)\" d=\"M 89.533174 49.844625 \r\n\" style=\"fill:none;stroke:#ff0000;stroke-linecap:square;stroke-width:1.5;\"/>\r\n    <g clip-path=\"url(#p49b4ae5c53)\">\r\n     <use style=\"fill:#ff0000;stroke:#ff0000;\" x=\"89.533174\" xlink:href=\"#mfad493a412\" y=\"49.844625\"/>\r\n    </g>\r\n   </g>\r\n   <g id=\"line2d_48\">\r\n    <path clip-path=\"url(#p49b4ae5c53)\" d=\"M 111.631056 52.289058 \r\n\" style=\"fill:none;stroke:#ff0000;stroke-linecap:square;stroke-width:1.5;\"/>\r\n    <g clip-path=\"url(#p49b4ae5c53)\">\r\n     <use style=\"fill:#ff0000;stroke:#ff0000;\" x=\"111.631056\" xlink:href=\"#mfad493a412\" y=\"52.289058\"/>\r\n    </g>\r\n   </g>\r\n   <g id=\"line2d_49\">\r\n    <path clip-path=\"url(#p49b4ae5c53)\" d=\"M 119.955129 41.613552 \r\n\" style=\"fill:none;stroke:#ff0000;stroke-linecap:square;stroke-width:1.5;\"/>\r\n    <g clip-path=\"url(#p49b4ae5c53)\">\r\n     <use style=\"fill:#ff0000;stroke:#ff0000;\" x=\"119.955129\" xlink:href=\"#mfad493a412\" y=\"41.613552\"/>\r\n    </g>\r\n   </g>\r\n   <g id=\"line2d_50\">\r\n    <path clip-path=\"url(#p49b4ae5c53)\" d=\"M 112.775194 48.603399 \r\n\" style=\"fill:none;stroke:#ff0000;stroke-linecap:square;stroke-width:1.5;\"/>\r\n    <g clip-path=\"url(#p49b4ae5c53)\">\r\n     <use style=\"fill:#ff0000;stroke:#ff0000;\" x=\"112.775194\" xlink:href=\"#mfad493a412\" y=\"48.603399\"/>\r\n    </g>\r\n   </g>\r\n   <g id=\"line2d_51\">\r\n    <path clip-path=\"url(#p49b4ae5c53)\" d=\"M 128.433527 36.910207 \r\n\" style=\"fill:none;stroke:#ff0000;stroke-linecap:square;stroke-width:1.5;\"/>\r\n    <g clip-path=\"url(#p49b4ae5c53)\">\r\n     <use style=\"fill:#ff0000;stroke:#ff0000;\" x=\"128.433527\" xlink:href=\"#mfad493a412\" y=\"36.910207\"/>\r\n    </g>\r\n   </g>\r\n   <g id=\"line2d_52\">\r\n    <path clip-path=\"url(#p49b4ae5c53)\" d=\"M 126.54933 42.933663 \r\n\" style=\"fill:none;stroke:#ff0000;stroke-linecap:square;stroke-width:1.5;\"/>\r\n    <g clip-path=\"url(#p49b4ae5c53)\">\r\n     <use style=\"fill:#ff0000;stroke:#ff0000;\" x=\"126.54933\" xlink:href=\"#mfad493a412\" y=\"42.933663\"/>\r\n    </g>\r\n   </g>\r\n   <g id=\"line2d_53\">\r\n    <path clip-path=\"url(#p49b4ae5c53)\" d=\"M 199.06604 125.289833 \r\n\" style=\"fill:none;stroke:#0000ff;stroke-linecap:square;stroke-width:1.5;\"/>\r\n    <defs>\r\n     <path d=\"M 0 1.25 \r\nC 0.331504 1.25 0.649475 1.118292 0.883883 0.883883 \r\nC 1.118292 0.649475 1.25 0.331504 1.25 0 \r\nC 1.25 -0.331504 1.118292 -0.649475 0.883883 -0.883883 \r\nC 0.649475 -1.118292 0.331504 -1.25 0 -1.25 \r\nC -0.331504 -1.25 -0.649475 -1.118292 -0.883883 -0.883883 \r\nC -1.118292 -0.649475 -1.25 -0.331504 -1.25 0 \r\nC -1.25 0.331504 -1.118292 0.649475 -0.883883 0.883883 \r\nC -0.649475 1.118292 -0.331504 1.25 0 1.25 \r\nz\r\n\" id=\"m8324004afc\" style=\"stroke:#0000ff;\"/>\r\n    </defs>\r\n    <g clip-path=\"url(#p49b4ae5c53)\">\r\n     <use style=\"fill:#0000ff;stroke:#0000ff;\" x=\"199.06604\" xlink:href=\"#m8324004afc\" y=\"125.289833\"/>\r\n    </g>\r\n   </g>\r\n   <g id=\"line2d_54\">\r\n    <path clip-path=\"url(#p49b4ae5c53)\" d=\"M 211.851147 133.161492 \r\n\" style=\"fill:none;stroke:#0000ff;stroke-linecap:square;stroke-width:1.5;\"/>\r\n    <g clip-path=\"url(#p49b4ae5c53)\">\r\n     <use style=\"fill:#0000ff;stroke:#0000ff;\" x=\"211.851147\" xlink:href=\"#m8324004afc\" y=\"133.161492\"/>\r\n    </g>\r\n   </g>\r\n   <g id=\"line2d_55\">\r\n    <path clip-path=\"url(#p49b4ae5c53)\" d=\"M 151.219875 131.76791 \r\n\" style=\"fill:none;stroke:#0000ff;stroke-linecap:square;stroke-width:1.5;\"/>\r\n    <g clip-path=\"url(#p49b4ae5c53)\">\r\n     <use style=\"fill:#0000ff;stroke:#0000ff;\" x=\"151.219875\" xlink:href=\"#m8324004afc\" y=\"131.76791\"/>\r\n    </g>\r\n   </g>\r\n   <g id=\"line2d_56\">\r\n    <path clip-path=\"url(#p49b4ae5c53)\" d=\"M 161.351308 117.891805 \r\n\" style=\"fill:none;stroke:#0000ff;stroke-linecap:square;stroke-width:1.5;\"/>\r\n    <g clip-path=\"url(#p49b4ae5c53)\">\r\n     <use style=\"fill:#0000ff;stroke:#0000ff;\" x=\"161.351308\" xlink:href=\"#m8324004afc\" y=\"117.891805\"/>\r\n    </g>\r\n   </g>\r\n   <g id=\"line2d_57\">\r\n    <path clip-path=\"url(#p49b4ae5c53)\" d=\"M 210.619345 115.775745 \r\n\" style=\"fill:none;stroke:#0000ff;stroke-linecap:square;stroke-width:1.5;\"/>\r\n    <g clip-path=\"url(#p49b4ae5c53)\">\r\n     <use style=\"fill:#0000ff;stroke:#0000ff;\" x=\"210.619345\" xlink:href=\"#m8324004afc\" y=\"115.775745\"/>\r\n    </g>\r\n   </g>\r\n   <g id=\"line2d_58\">\r\n    <path clip-path=\"url(#p49b4ae5c53)\" d=\"M 156.268013 122.99174 \r\n\" style=\"fill:none;stroke:#0000ff;stroke-linecap:square;stroke-width:1.5;\"/>\r\n    <g clip-path=\"url(#p49b4ae5c53)\">\r\n     <use style=\"fill:#0000ff;stroke:#0000ff;\" x=\"156.268013\" xlink:href=\"#m8324004afc\" y=\"122.99174\"/>\r\n    </g>\r\n   </g>\r\n   <g id=\"line2d_59\">\r\n    <path clip-path=\"url(#p49b4ae5c53)\" d=\"M 173.902448 113.378595 \r\n\" style=\"fill:none;stroke:#0000ff;stroke-linecap:square;stroke-width:1.5;\"/>\r\n    <g clip-path=\"url(#p49b4ae5c53)\">\r\n     <use style=\"fill:#0000ff;stroke:#0000ff;\" x=\"173.902448\" xlink:href=\"#m8324004afc\" y=\"113.378595\"/>\r\n    </g>\r\n   </g>\r\n   <g id=\"line2d_60\">\r\n    <path clip-path=\"url(#p49b4ae5c53)\" d=\"M 168.80115 123.063085 \r\n\" style=\"fill:none;stroke:#0000ff;stroke-linecap:square;stroke-width:1.5;\"/>\r\n    <g clip-path=\"url(#p49b4ae5c53)\">\r\n     <use style=\"fill:#0000ff;stroke:#0000ff;\" x=\"168.80115\" xlink:href=\"#m8324004afc\" y=\"123.063085\"/>\r\n    </g>\r\n   </g>\r\n   <g id=\"line2d_61\">\r\n    <path clip-path=\"url(#p49b4ae5c53)\" d=\"M 163.549114 103.40018 \r\n\" style=\"fill:none;stroke:#0000ff;stroke-linecap:square;stroke-width:1.5;\"/>\r\n    <g clip-path=\"url(#p49b4ae5c53)\">\r\n     <use style=\"fill:#0000ff;stroke:#0000ff;\" x=\"163.549114\" xlink:href=\"#m8324004afc\" y=\"103.40018\"/>\r\n    </g>\r\n   </g>\r\n   <g id=\"line2d_62\">\r\n    <path clip-path=\"url(#p49b4ae5c53)\" d=\"M 174.150504 102.209405 \r\n\" style=\"fill:none;stroke:#0000ff;stroke-linecap:square;stroke-width:1.5;\"/>\r\n    <g clip-path=\"url(#p49b4ae5c53)\">\r\n     <use style=\"fill:#0000ff;stroke:#0000ff;\" x=\"174.150504\" xlink:href=\"#m8324004afc\" y=\"102.209405\"/>\r\n    </g>\r\n   </g>\r\n   <g id=\"line2d_63\">\r\n    <path clip-path=\"url(#p49b4ae5c53)\" d=\"M 298.304864 147.447503 \r\n\" style=\"fill:none;stroke:#006400;stroke-linecap:square;stroke-width:1.5;\"/>\r\n    <defs>\r\n     <path d=\"M 0 1.25 \r\nC 0.331504 1.25 0.649475 1.118292 0.883883 0.883883 \r\nC 1.118292 0.649475 1.25 0.331504 1.25 0 \r\nC 1.25 -0.331504 1.118292 -0.649475 0.883883 -0.883883 \r\nC 0.649475 -1.118292 0.331504 -1.25 0 -1.25 \r\nC -0.331504 -1.25 -0.649475 -1.118292 -0.883883 -0.883883 \r\nC -1.118292 -0.649475 -1.25 -0.331504 -1.25 0 \r\nC -1.25 0.331504 -1.118292 0.649475 -0.883883 0.883883 \r\nC -0.649475 1.118292 -0.331504 1.25 0 1.25 \r\nz\r\n\" id=\"m4f416de2bc\" style=\"stroke:#006400;\"/>\r\n    </defs>\r\n    <g clip-path=\"url(#p49b4ae5c53)\">\r\n     <use style=\"fill:#006400;stroke:#006400;\" x=\"298.304864\" xlink:href=\"#m4f416de2bc\" y=\"147.447503\"/>\r\n    </g>\r\n   </g>\r\n   <g id=\"line2d_64\">\r\n    <path clip-path=\"url(#p49b4ae5c53)\" d=\"M 283.620492 158.207709 \r\n\" style=\"fill:none;stroke:#006400;stroke-linecap:square;stroke-width:1.5;\"/>\r\n    <g clip-path=\"url(#p49b4ae5c53)\">\r\n     <use style=\"fill:#006400;stroke:#006400;\" x=\"283.620492\" xlink:href=\"#m4f416de2bc\" y=\"158.207709\"/>\r\n    </g>\r\n   </g>\r\n   <g id=\"line2d_65\">\r\n    <path clip-path=\"url(#p49b4ae5c53)\" d=\"M 305.280901 172.817281 \r\n\" style=\"fill:none;stroke:#006400;stroke-linecap:square;stroke-width:1.5;\"/>\r\n    <g clip-path=\"url(#p49b4ae5c53)\">\r\n     <use style=\"fill:#006400;stroke:#006400;\" x=\"305.280901\" xlink:href=\"#m4f416de2bc\" y=\"172.817281\"/>\r\n    </g>\r\n   </g>\r\n   <g id=\"line2d_66\">\r\n    <path clip-path=\"url(#p49b4ae5c53)\" d=\"M 311.994466 153.736207 \r\n\" style=\"fill:none;stroke:#006400;stroke-linecap:square;stroke-width:1.5;\"/>\r\n    <g clip-path=\"url(#p49b4ae5c53)\">\r\n     <use style=\"fill:#006400;stroke:#006400;\" x=\"311.994466\" xlink:href=\"#m4f416de2bc\" y=\"153.736207\"/>\r\n    </g>\r\n   </g>\r\n   <g id=\"line2d_67\">\r\n    <path clip-path=\"url(#p49b4ae5c53)\" d=\"M 302.91468 158.75814 \r\n\" style=\"fill:none;stroke:#006400;stroke-linecap:square;stroke-width:1.5;\"/>\r\n    <g clip-path=\"url(#p49b4ae5c53)\">\r\n     <use style=\"fill:#006400;stroke:#006400;\" x=\"302.91468\" xlink:href=\"#m4f416de2bc\" y=\"158.75814\"/>\r\n    </g>\r\n   </g>\r\n   <g id=\"line2d_68\">\r\n    <path clip-path=\"url(#p49b4ae5c53)\" d=\"M 326.852471 149.810083 \r\n\" style=\"fill:none;stroke:#006400;stroke-linecap:square;stroke-width:1.5;\"/>\r\n    <g clip-path=\"url(#p49b4ae5c53)\">\r\n     <use style=\"fill:#006400;stroke:#006400;\" x=\"326.852471\" xlink:href=\"#m4f416de2bc\" y=\"149.810083\"/>\r\n    </g>\r\n   </g>\r\n   <g id=\"line2d_69\">\r\n    <path clip-path=\"url(#p49b4ae5c53)\" d=\"M 300.845566 165.389575 \r\n\" style=\"fill:none;stroke:#006400;stroke-linecap:square;stroke-width:1.5;\"/>\r\n    <g clip-path=\"url(#p49b4ae5c53)\">\r\n     <use style=\"fill:#006400;stroke:#006400;\" x=\"300.845566\" xlink:href=\"#m4f416de2bc\" y=\"165.389575\"/>\r\n    </g>\r\n   </g>\r\n   <g id=\"line2d_70\">\r\n    <path clip-path=\"url(#p49b4ae5c53)\" d=\"M 297.563891 147.674212 \r\n\" style=\"fill:none;stroke:#006400;stroke-linecap:square;stroke-width:1.5;\"/>\r\n    <g clip-path=\"url(#p49b4ae5c53)\">\r\n     <use style=\"fill:#006400;stroke:#006400;\" x=\"297.563891\" xlink:href=\"#m4f416de2bc\" y=\"147.674212\"/>\r\n    </g>\r\n   </g>\r\n   <g id=\"line2d_71\">\r\n    <path clip-path=\"url(#p49b4ae5c53)\" d=\"M 330.281818 141.632389 \r\n\" style=\"fill:none;stroke:#006400;stroke-linecap:square;stroke-width:1.5;\"/>\r\n    <g clip-path=\"url(#p49b4ae5c53)\">\r\n     <use style=\"fill:#006400;stroke:#006400;\" x=\"330.281818\" xlink:href=\"#m4f416de2bc\" y=\"141.632389\"/>\r\n    </g>\r\n   </g>\r\n   <g id=\"line2d_72\">\r\n    <path clip-path=\"url(#p49b4ae5c53)\" d=\"M 309.037424 175.515453 \r\n\" style=\"fill:none;stroke:#006400;stroke-linecap:square;stroke-width:1.5;\"/>\r\n    <g clip-path=\"url(#p49b4ae5c53)\">\r\n     <use style=\"fill:#006400;stroke:#006400;\" x=\"309.037424\" xlink:href=\"#m4f416de2bc\" y=\"175.515453\"/>\r\n    </g>\r\n   </g>\r\n   <g id=\"line2d_73\">\r\n    <path clip-path=\"url(#p49b4ae5c53)\" d=\"M 80.79113 211.896049 \r\n\" style=\"fill:none;stroke:#ffd700;stroke-linecap:square;stroke-width:1.5;\"/>\r\n    <defs>\r\n     <path d=\"M 0 1.25 \r\nC 0.331504 1.25 0.649475 1.118292 0.883883 0.883883 \r\nC 1.118292 0.649475 1.25 0.331504 1.25 0 \r\nC 1.25 -0.331504 1.118292 -0.649475 0.883883 -0.883883 \r\nC 0.649475 -1.118292 0.331504 -1.25 0 -1.25 \r\nC -0.331504 -1.25 -0.649475 -1.118292 -0.883883 -0.883883 \r\nC -1.118292 -0.649475 -1.25 -0.331504 -1.25 0 \r\nC -1.25 0.331504 -1.118292 0.649475 -0.883883 0.883883 \r\nC -0.649475 1.118292 -0.331504 1.25 0 1.25 \r\nz\r\n\" id=\"m3c0675bacf\" style=\"stroke:#ffd700;\"/>\r\n    </defs>\r\n    <g clip-path=\"url(#p49b4ae5c53)\">\r\n     <use style=\"fill:#ffd700;stroke:#ffd700;\" x=\"80.79113\" xlink:href=\"#m3c0675bacf\" y=\"211.896049\"/>\r\n    </g>\r\n   </g>\r\n   <g id=\"line2d_74\">\r\n    <path clip-path=\"url(#p49b4ae5c53)\" d=\"M 29.801049 177.382065 \r\n\" style=\"fill:none;stroke:#ffd700;stroke-linecap:square;stroke-width:1.5;\"/>\r\n    <g clip-path=\"url(#p49b4ae5c53)\">\r\n     <use style=\"fill:#ffd700;stroke:#ffd700;\" x=\"29.801049\" xlink:href=\"#m3c0675bacf\" y=\"177.382065\"/>\r\n    </g>\r\n   </g>\r\n   <g id=\"line2d_75\">\r\n    <path clip-path=\"url(#p49b4ae5c53)\" d=\"M 60.661261 178.36137 \r\n\" style=\"fill:none;stroke:#ffd700;stroke-linecap:square;stroke-width:1.5;\"/>\r\n    <g clip-path=\"url(#p49b4ae5c53)\">\r\n     <use style=\"fill:#ffd700;stroke:#ffd700;\" x=\"60.661261\" xlink:href=\"#m3c0675bacf\" y=\"178.36137\"/>\r\n    </g>\r\n   </g>\r\n   <g id=\"line2d_76\">\r\n    <path clip-path=\"url(#p49b4ae5c53)\" d=\"M 44.161897 181.943641 \r\n\" style=\"fill:none;stroke:#ffd700;stroke-linecap:square;stroke-width:1.5;\"/>\r\n    <g clip-path=\"url(#p49b4ae5c53)\">\r\n     <use style=\"fill:#ffd700;stroke:#ffd700;\" x=\"44.161897\" xlink:href=\"#m3c0675bacf\" y=\"181.943641\"/>\r\n    </g>\r\n   </g>\r\n   <g id=\"line2d_77\">\r\n    <path clip-path=\"url(#p49b4ae5c53)\" d=\"M 73.641003 186.176322 \r\n\" style=\"fill:none;stroke:#ffd700;stroke-linecap:square;stroke-width:1.5;\"/>\r\n    <g clip-path=\"url(#p49b4ae5c53)\">\r\n     <use style=\"fill:#ffd700;stroke:#ffd700;\" x=\"73.641003\" xlink:href=\"#m3c0675bacf\" y=\"186.176322\"/>\r\n    </g>\r\n   </g>\r\n   <g id=\"line2d_78\">\r\n    <path clip-path=\"url(#p49b4ae5c53)\" d=\"M 57.440377 194.144151 \r\n\" style=\"fill:none;stroke:#ffd700;stroke-linecap:square;stroke-width:1.5;\"/>\r\n    <g clip-path=\"url(#p49b4ae5c53)\">\r\n     <use style=\"fill:#ffd700;stroke:#ffd700;\" x=\"57.440377\" xlink:href=\"#m3c0675bacf\" y=\"194.144151\"/>\r\n    </g>\r\n   </g>\r\n   <g id=\"line2d_79\">\r\n    <path clip-path=\"url(#p49b4ae5c53)\" d=\"M 84.698261 214.756364 \r\n\" style=\"fill:none;stroke:#ffd700;stroke-linecap:square;stroke-width:1.5;\"/>\r\n    <g clip-path=\"url(#p49b4ae5c53)\">\r\n     <use style=\"fill:#ffd700;stroke:#ffd700;\" x=\"84.698261\" xlink:href=\"#m3c0675bacf\" y=\"214.756364\"/>\r\n    </g>\r\n   </g>\r\n   <g id=\"line2d_80\">\r\n    <path clip-path=\"url(#p49b4ae5c53)\" d=\"M 62.961277 184.834274 \r\n\" style=\"fill:none;stroke:#ffd700;stroke-linecap:square;stroke-width:1.5;\"/>\r\n    <g clip-path=\"url(#p49b4ae5c53)\">\r\n     <use style=\"fill:#ffd700;stroke:#ffd700;\" x=\"62.961277\" xlink:href=\"#m3c0675bacf\" y=\"184.834274\"/>\r\n    </g>\r\n   </g>\r\n   <g id=\"line2d_81\">\r\n    <path clip-path=\"url(#p49b4ae5c53)\" d=\"M 33.355761 197.919363 \r\n\" style=\"fill:none;stroke:#ffd700;stroke-linecap:square;stroke-width:1.5;\"/>\r\n    <g clip-path=\"url(#p49b4ae5c53)\">\r\n     <use style=\"fill:#ffd700;stroke:#ffd700;\" x=\"33.355761\" xlink:href=\"#m3c0675bacf\" y=\"197.919363\"/>\r\n    </g>\r\n   </g>\r\n   <g id=\"line2d_82\">\r\n    <path clip-path=\"url(#p49b4ae5c53)\" d=\"M 25.918182 199.286677 \r\n\" style=\"fill:none;stroke:#ffd700;stroke-linecap:square;stroke-width:1.5;\"/>\r\n    <g clip-path=\"url(#p49b4ae5c53)\">\r\n     <use style=\"fill:#ffd700;stroke:#ffd700;\" x=\"25.918182\" xlink:href=\"#m3c0675bacf\" y=\"199.286677\"/>\r\n    </g>\r\n   </g>\r\n   <g id=\"line2d_83\">\r\n    <path clip-path=\"url(#p49b4ae5c53)\" d=\"M 119.067862 39.883744 \r\n\" style=\"fill:none;stroke:#ee82ee;stroke-linecap:square;stroke-width:1.5;\"/>\r\n    <defs>\r\n     <path d=\"M 0 -5 \r\nL -1.12257 -1.545085 \r\nL -4.755283 -1.545085 \r\nL -1.816356 0.59017 \r\nL -2.938926 4.045085 \r\nL -0 1.90983 \r\nL 2.938926 4.045085 \r\nL 1.816356 0.59017 \r\nL 4.755283 -1.545085 \r\nL 1.12257 -1.545085 \r\nz\r\n\" id=\"mb40028b0ac\" style=\"stroke:#ee82ee;stroke-linejoin:bevel;\"/>\r\n    </defs>\r\n    <g clip-path=\"url(#p49b4ae5c53)\">\r\n     <use style=\"fill:#ee82ee;stroke:#ee82ee;stroke-linejoin:bevel;\" x=\"119.067862\" xlink:href=\"#mb40028b0ac\" y=\"39.883744\"/>\r\n    </g>\r\n   </g>\r\n   <g id=\"line2d_84\">\r\n    <path clip-path=\"url(#p49b4ae5c53)\" d=\"M 177.077895 118.892979 \r\n\" style=\"fill:none;stroke:#ee82ee;stroke-linecap:square;stroke-width:1.5;\"/>\r\n    <g clip-path=\"url(#p49b4ae5c53)\">\r\n     <use style=\"fill:#ee82ee;stroke:#ee82ee;stroke-linejoin:bevel;\" x=\"177.077895\" xlink:href=\"#mb40028b0ac\" y=\"118.892979\"/>\r\n    </g>\r\n   </g>\r\n   <g id=\"line2d_85\">\r\n    <path clip-path=\"url(#p49b4ae5c53)\" d=\"M 306.669657 157.098855 \r\n\" style=\"fill:none;stroke:#ee82ee;stroke-linecap:square;stroke-width:1.5;\"/>\r\n    <g clip-path=\"url(#p49b4ae5c53)\">\r\n     <use style=\"fill:#ee82ee;stroke:#ee82ee;stroke-linejoin:bevel;\" x=\"306.669657\" xlink:href=\"#mb40028b0ac\" y=\"157.098855\"/>\r\n    </g>\r\n   </g>\r\n   <g id=\"line2d_86\">\r\n    <path clip-path=\"url(#p49b4ae5c53)\" d=\"M 55.34302 192.670027 \r\n\" style=\"fill:none;stroke:#ee82ee;stroke-linecap:square;stroke-width:1.5;\"/>\r\n    <g clip-path=\"url(#p49b4ae5c53)\">\r\n     <use style=\"fill:#ee82ee;stroke:#ee82ee;stroke-linejoin:bevel;\" x=\"55.34302\" xlink:href=\"#mb40028b0ac\" y=\"192.670027\"/>\r\n    </g>\r\n   </g>\r\n   <g id=\"patch_3\">\r\n    <path d=\"M 10.7 224.64 \r\nL 10.7 7.2 \r\n\" style=\"fill:none;stroke:#000000;stroke-linecap:square;stroke-linejoin:miter;stroke-width:0.8;\"/>\r\n   </g>\r\n   <g id=\"patch_4\">\r\n    <path d=\"M 345.5 224.64 \r\nL 345.5 7.2 \r\n\" style=\"fill:none;stroke:#000000;stroke-linecap:square;stroke-linejoin:miter;stroke-width:0.8;\"/>\r\n   </g>\r\n   <g id=\"patch_5\">\r\n    <path d=\"M 10.7 224.64 \r\nL 345.5 224.64 \r\n\" style=\"fill:none;stroke:#000000;stroke-linecap:square;stroke-linejoin:miter;stroke-width:0.8;\"/>\r\n   </g>\r\n   <g id=\"patch_6\">\r\n    <path d=\"M 10.7 7.2 \r\nL 345.5 7.2 \r\n\" style=\"fill:none;stroke:#000000;stroke-linecap:square;stroke-linejoin:miter;stroke-width:0.8;\"/>\r\n   </g>\r\n  </g>\r\n </g>\r\n <defs>\r\n  <clipPath id=\"p49b4ae5c53\">\r\n   <rect height=\"217.44\" width=\"334.8\" x=\"10.7\" y=\"7.2\"/>\r\n  </clipPath>\r\n </defs>\r\n</svg>\r\n",
      "image/png": "[encoded data removed]"
     },
     "metadata": {
      "needs_background": "light"
     }
    },
    {
     "output_type": "execute_result",
     "data": {
      "text/plain": "<Figure size 432x288 with 1 Axes>",
      "image/svg+xml": "<?xml version=\"1.0\" encoding=\"utf-8\" standalone=\"no\"?>\r\n<!DOCTYPE svg PUBLIC \"-//W3C//DTD SVG 1.1//EN\"\r\n  \"http://www.w3.org/Graphics/SVG/1.1/DTD/svg11.dtd\">\r\n<!-- Created with matplotlib (https://matplotlib.org/) -->\r\n<svg height=\"235.34pt\" version=\"1.1\" viewBox=\"0 0 352.7 235.34\" width=\"352.7pt\" xmlns=\"http://www.w3.org/2000/svg\" xmlns:xlink=\"http://www.w3.org/1999/xlink\">\r\n <defs>\r\n  <style type=\"text/css\">\r\n*{stroke-linecap:butt;stroke-linejoin:round;}\r\n  </style>\r\n </defs>\r\n <g id=\"figure_1\">\r\n  <g id=\"patch_1\">\r\n   <path d=\"M 0 235.34 \r\nL 352.7 235.34 \r\nL 352.7 0 \r\nL 0 0 \r\nz\r\n\" style=\"fill:none;\"/>\r\n  </g>\r\n  <g id=\"axes_1\">\r\n   <g id=\"patch_2\">\r\n    <path d=\"M 10.7 224.64 \r\nL 345.5 224.64 \r\nL 345.5 7.2 \r\nL 10.7 7.2 \r\nz\r\n\" style=\"fill:#ffffff;\"/>\r\n   </g>\r\n   <g id=\"matplotlib.axis_1\">\r\n    <g id=\"xtick_1\">\r\n     <g id=\"line2d_1\">\r\n      <path clip-path=\"url(#pdeec3c6c7d)\" d=\"M 20.362386 224.64 \r\nL 20.362386 7.2 \r\n\" style=\"fill:none;stroke:#b0b0b0;stroke-linecap:square;stroke-width:0.8;\"/>\r\n     </g>\r\n     <g id=\"line2d_2\">\r\n      <defs>\r\n       <path d=\"M 0 0 \r\nL 0 3.5 \r\n\" id=\"m9992d9e663\" style=\"stroke:#000000;stroke-width:0.8;\"/>\r\n      </defs>\r\n      <g>\r\n       <use style=\"stroke:#000000;stroke-width:0.8;\" x=\"20.362386\" xlink:href=\"#m9992d9e663\" y=\"224.64\"/>\r\n      </g>\r\n     </g>\r\n    </g>\r\n    <g id=\"xtick_2\">\r\n     <g id=\"line2d_3\">\r\n      <path clip-path=\"url(#pdeec3c6c7d)\" d=\"M 85.588863 224.64 \r\nL 85.588863 7.2 \r\n\" style=\"fill:none;stroke:#b0b0b0;stroke-linecap:square;stroke-width:0.8;\"/>\r\n     </g>\r\n     <g id=\"line2d_4\">\r\n      <g>\r\n       <use style=\"stroke:#000000;stroke-width:0.8;\" x=\"85.588863\" xlink:href=\"#m9992d9e663\" y=\"224.64\"/>\r\n      </g>\r\n     </g>\r\n    </g>\r\n    <g id=\"xtick_3\">\r\n     <g id=\"line2d_5\">\r\n      <path clip-path=\"url(#pdeec3c6c7d)\" d=\"M 150.815341 224.64 \r\nL 150.815341 7.2 \r\n\" style=\"fill:none;stroke:#b0b0b0;stroke-linecap:square;stroke-width:0.8;\"/>\r\n     </g>\r\n     <g id=\"line2d_6\">\r\n      <g>\r\n       <use style=\"stroke:#000000;stroke-width:0.8;\" x=\"150.815341\" xlink:href=\"#m9992d9e663\" y=\"224.64\"/>\r\n      </g>\r\n     </g>\r\n    </g>\r\n    <g id=\"xtick_4\">\r\n     <g id=\"line2d_7\">\r\n      <path clip-path=\"url(#pdeec3c6c7d)\" d=\"M 216.041818 224.64 \r\nL 216.041818 7.2 \r\n\" style=\"fill:none;stroke:#b0b0b0;stroke-linecap:square;stroke-width:0.8;\"/>\r\n     </g>\r\n     <g id=\"line2d_8\">\r\n      <g>\r\n       <use style=\"stroke:#000000;stroke-width:0.8;\" x=\"216.041818\" xlink:href=\"#m9992d9e663\" y=\"224.64\"/>\r\n      </g>\r\n     </g>\r\n    </g>\r\n    <g id=\"xtick_5\">\r\n     <g id=\"line2d_9\">\r\n      <path clip-path=\"url(#pdeec3c6c7d)\" d=\"M 281.268295 224.64 \r\nL 281.268295 7.2 \r\n\" style=\"fill:none;stroke:#b0b0b0;stroke-linecap:square;stroke-width:0.8;\"/>\r\n     </g>\r\n     <g id=\"line2d_10\">\r\n      <g>\r\n       <use style=\"stroke:#000000;stroke-width:0.8;\" x=\"281.268295\" xlink:href=\"#m9992d9e663\" y=\"224.64\"/>\r\n      </g>\r\n     </g>\r\n    </g>\r\n   </g>\r\n   <g id=\"matplotlib.axis_2\">\r\n    <g id=\"ytick_1\">\r\n     <g id=\"line2d_11\">\r\n      <path clip-path=\"url(#pdeec3c6c7d)\" d=\"M 10.7 216.965706 \r\nL 345.5 216.965706 \r\n\" style=\"fill:none;stroke:#b0b0b0;stroke-linecap:square;stroke-width:0.8;\"/>\r\n     </g>\r\n     <g id=\"line2d_12\">\r\n      <defs>\r\n       <path d=\"M 0 0 \r\nL -3.5 0 \r\n\" id=\"m1e74524857\" style=\"stroke:#000000;stroke-width:0.8;\"/>\r\n      </defs>\r\n      <g>\r\n       <use style=\"stroke:#000000;stroke-width:0.8;\" x=\"10.7\" xlink:href=\"#m1e74524857\" y=\"216.965706\"/>\r\n      </g>\r\n     </g>\r\n    </g>\r\n    <g id=\"ytick_2\">\r\n     <g id=\"line2d_13\">\r\n      <path clip-path=\"url(#pdeec3c6c7d)\" d=\"M 10.7 176.861472 \r\nL 345.5 176.861472 \r\n\" style=\"fill:none;stroke:#b0b0b0;stroke-linecap:square;stroke-width:0.8;\"/>\r\n     </g>\r\n     <g id=\"line2d_14\">\r\n      <g>\r\n       <use style=\"stroke:#000000;stroke-width:0.8;\" x=\"10.7\" xlink:href=\"#m1e74524857\" y=\"176.861472\"/>\r\n      </g>\r\n     </g>\r\n    </g>\r\n    <g id=\"ytick_3\">\r\n     <g id=\"line2d_15\">\r\n      <path clip-path=\"url(#pdeec3c6c7d)\" d=\"M 10.7 136.757238 \r\nL 345.5 136.757238 \r\n\" style=\"fill:none;stroke:#b0b0b0;stroke-linecap:square;stroke-width:0.8;\"/>\r\n     </g>\r\n     <g id=\"line2d_16\">\r\n      <g>\r\n       <use style=\"stroke:#000000;stroke-width:0.8;\" x=\"10.7\" xlink:href=\"#m1e74524857\" y=\"136.757238\"/>\r\n      </g>\r\n     </g>\r\n    </g>\r\n    <g id=\"ytick_4\">\r\n     <g id=\"line2d_17\">\r\n      <path clip-path=\"url(#pdeec3c6c7d)\" d=\"M 10.7 96.653004 \r\nL 345.5 96.653004 \r\n\" style=\"fill:none;stroke:#b0b0b0;stroke-linecap:square;stroke-width:0.8;\"/>\r\n     </g>\r\n     <g id=\"line2d_18\">\r\n      <g>\r\n       <use style=\"stroke:#000000;stroke-width:0.8;\" x=\"10.7\" xlink:href=\"#m1e74524857\" y=\"96.653004\"/>\r\n      </g>\r\n     </g>\r\n    </g>\r\n    <g id=\"ytick_5\">\r\n     <g id=\"line2d_19\">\r\n      <path clip-path=\"url(#pdeec3c6c7d)\" d=\"M 10.7 56.548769 \r\nL 345.5 56.548769 \r\n\" style=\"fill:none;stroke:#b0b0b0;stroke-linecap:square;stroke-width:0.8;\"/>\r\n     </g>\r\n     <g id=\"line2d_20\">\r\n      <g>\r\n       <use style=\"stroke:#000000;stroke-width:0.8;\" x=\"10.7\" xlink:href=\"#m1e74524857\" y=\"56.548769\"/>\r\n      </g>\r\n     </g>\r\n    </g>\r\n    <g id=\"ytick_6\">\r\n     <g id=\"line2d_21\">\r\n      <path clip-path=\"url(#pdeec3c6c7d)\" d=\"M 10.7 16.444535 \r\nL 345.5 16.444535 \r\n\" style=\"fill:none;stroke:#b0b0b0;stroke-linecap:square;stroke-width:0.8;\"/>\r\n     </g>\r\n     <g id=\"line2d_22\">\r\n      <g>\r\n       <use style=\"stroke:#000000;stroke-width:0.8;\" x=\"10.7\" xlink:href=\"#m1e74524857\" y=\"16.444535\"/>\r\n      </g>\r\n     </g>\r\n    </g>\r\n   </g>\r\n   <g id=\"line2d_23\">\r\n    <path clip-path=\"url(#pdeec3c6c7d)\" d=\"M 145.844366 44.261594 \r\n\" style=\"fill:none;stroke:#ff0000;stroke-linecap:square;stroke-width:1.5;\"/>\r\n    <defs>\r\n     <path d=\"M 0 1.25 \r\nC 0.331504 1.25 0.649475 1.118292 0.883883 0.883883 \r\nC 1.118292 0.649475 1.25 0.331504 1.25 0 \r\nC 1.25 -0.331504 1.118292 -0.649475 0.883883 -0.883883 \r\nC 0.649475 -1.118292 0.331504 -1.25 0 -1.25 \r\nC -0.331504 -1.25 -0.649475 -1.118292 -0.883883 -0.883883 \r\nC -1.118292 -0.649475 -1.25 -0.331504 -1.25 0 \r\nC -1.25 0.331504 -1.118292 0.649475 -0.883883 0.883883 \r\nC -0.649475 1.118292 -0.331504 1.25 0 1.25 \r\nz\r\n\" id=\"m49f7e75d7e\" style=\"stroke:#ff0000;\"/>\r\n    </defs>\r\n    <g clip-path=\"url(#pdeec3c6c7d)\">\r\n     <use style=\"fill:#ff0000;stroke:#ff0000;\" x=\"145.844366\" xlink:href=\"#m49f7e75d7e\" y=\"44.261594\"/>\r\n    </g>\r\n   </g>\r\n   <g id=\"line2d_24\">\r\n    <path clip-path=\"url(#pdeec3c6c7d)\" d=\"M 102.407184 52.459341 \r\n\" style=\"fill:none;stroke:#ff0000;stroke-linecap:square;stroke-width:1.5;\"/>\r\n    <g clip-path=\"url(#pdeec3c6c7d)\">\r\n     <use style=\"fill:#ff0000;stroke:#ff0000;\" x=\"102.407184\" xlink:href=\"#m49f7e75d7e\" y=\"52.459341\"/>\r\n    </g>\r\n   </g>\r\n   <g id=\"line2d_25\">\r\n    <path clip-path=\"url(#pdeec3c6c7d)\" d=\"M 95.625392 47.909395 \r\n\" style=\"fill:none;stroke:#ff0000;stroke-linecap:square;stroke-width:1.5;\"/>\r\n    <g clip-path=\"url(#pdeec3c6c7d)\">\r\n     <use style=\"fill:#ff0000;stroke:#ff0000;\" x=\"95.625392\" xlink:href=\"#m49f7e75d7e\" y=\"47.909395\"/>\r\n    </g>\r\n   </g>\r\n   <g id=\"line2d_26\">\r\n    <path clip-path=\"url(#pdeec3c6c7d)\" d=\"M 87.35637 43.264282 \r\n\" style=\"fill:none;stroke:#ff0000;stroke-linecap:square;stroke-width:1.5;\"/>\r\n    <g clip-path=\"url(#pdeec3c6c7d)\">\r\n     <use style=\"fill:#ff0000;stroke:#ff0000;\" x=\"87.35637\" xlink:href=\"#m49f7e75d7e\" y=\"43.264282\"/>\r\n    </g>\r\n   </g>\r\n   <g id=\"line2d_27\">\r\n    <path clip-path=\"url(#pdeec3c6c7d)\" d=\"M 100.94585 30.896898 \r\n\" style=\"fill:none;stroke:#ff0000;stroke-linecap:square;stroke-width:1.5;\"/>\r\n    <g clip-path=\"url(#pdeec3c6c7d)\">\r\n     <use style=\"fill:#ff0000;stroke:#ff0000;\" x=\"100.94585\" xlink:href=\"#m49f7e75d7e\" y=\"30.896898\"/>\r\n    </g>\r\n   </g>\r\n   <g id=\"line2d_28\">\r\n    <path clip-path=\"url(#pdeec3c6c7d)\" d=\"M 138.101396 32.106562 \r\n\" style=\"fill:none;stroke:#ff0000;stroke-linecap:square;stroke-width:1.5;\"/>\r\n    <g clip-path=\"url(#pdeec3c6c7d)\">\r\n     <use style=\"fill:#ff0000;stroke:#ff0000;\" x=\"138.101396\" xlink:href=\"#m49f7e75d7e\" y=\"32.106562\"/>\r\n    </g>\r\n   </g>\r\n   <g id=\"line2d_29\">\r\n    <path clip-path=\"url(#pdeec3c6c7d)\" d=\"M 89.292553 43.889066 \r\n\" style=\"fill:none;stroke:#ff0000;stroke-linecap:square;stroke-width:1.5;\"/>\r\n    <g clip-path=\"url(#pdeec3c6c7d)\">\r\n     <use style=\"fill:#ff0000;stroke:#ff0000;\" x=\"89.292553\" xlink:href=\"#m49f7e75d7e\" y=\"43.889066\"/>\r\n    </g>\r\n   </g>\r\n   <g id=\"line2d_30\">\r\n    <path clip-path=\"url(#pdeec3c6c7d)\" d=\"M 143.291662 53.44029 \r\n\" style=\"fill:none;stroke:#ff0000;stroke-linecap:square;stroke-width:1.5;\"/>\r\n    <g clip-path=\"url(#pdeec3c6c7d)\">\r\n     <use style=\"fill:#ff0000;stroke:#ff0000;\" x=\"143.291662\" xlink:href=\"#m49f7e75d7e\" y=\"53.44029\"/>\r\n    </g>\r\n   </g>\r\n   <g id=\"line2d_31\">\r\n    <path clip-path=\"url(#pdeec3c6c7d)\" d=\"M 109.950887 36.254262 \r\n\" style=\"fill:none;stroke:#ff0000;stroke-linecap:square;stroke-width:1.5;\"/>\r\n    <g clip-path=\"url(#pdeec3c6c7d)\">\r\n     <use style=\"fill:#ff0000;stroke:#ff0000;\" x=\"109.950887\" xlink:href=\"#m49f7e75d7e\" y=\"36.254262\"/>\r\n    </g>\r\n   </g>\r\n   <g id=\"line2d_32\">\r\n    <path clip-path=\"url(#pdeec3c6c7d)\" d=\"M 98.610547 34.522441 \r\n\" style=\"fill:none;stroke:#ff0000;stroke-linecap:square;stroke-width:1.5;\"/>\r\n    <g clip-path=\"url(#pdeec3c6c7d)\">\r\n     <use style=\"fill:#ff0000;stroke:#ff0000;\" x=\"98.610547\" xlink:href=\"#m49f7e75d7e\" y=\"34.522441\"/>\r\n    </g>\r\n   </g>\r\n   <g id=\"line2d_33\">\r\n    <path clip-path=\"url(#pdeec3c6c7d)\" d=\"M 134.179328 44.740278 \r\n\" style=\"fill:none;stroke:#ff0000;stroke-linecap:square;stroke-width:1.5;\"/>\r\n    <g clip-path=\"url(#pdeec3c6c7d)\">\r\n     <use style=\"fill:#ff0000;stroke:#ff0000;\" x=\"134.179328\" xlink:href=\"#m49f7e75d7e\" y=\"44.740278\"/>\r\n    </g>\r\n   </g>\r\n   <g id=\"line2d_34\">\r\n    <path clip-path=\"url(#pdeec3c6c7d)\" d=\"M 130.721868 46.173363 \r\n\" style=\"fill:none;stroke:#ff0000;stroke-linecap:square;stroke-width:1.5;\"/>\r\n    <g clip-path=\"url(#pdeec3c6c7d)\">\r\n     <use style=\"fill:#ff0000;stroke:#ff0000;\" x=\"130.721868\" xlink:href=\"#m49f7e75d7e\" y=\"46.173363\"/>\r\n    </g>\r\n   </g>\r\n   <g id=\"line2d_35\">\r\n    <path clip-path=\"url(#pdeec3c6c7d)\" d=\"M 142.678272 34.140609 \r\n\" style=\"fill:none;stroke:#ff0000;stroke-linecap:square;stroke-width:1.5;\"/>\r\n    <g clip-path=\"url(#pdeec3c6c7d)\">\r\n     <use style=\"fill:#ff0000;stroke:#ff0000;\" x=\"142.678272\" xlink:href=\"#m49f7e75d7e\" y=\"34.140609\"/>\r\n    </g>\r\n   </g>\r\n   <g id=\"line2d_36\">\r\n    <path clip-path=\"url(#pdeec3c6c7d)\" d=\"M 101.319859 23.256159 \r\n\" style=\"fill:none;stroke:#ff0000;stroke-linecap:square;stroke-width:1.5;\"/>\r\n    <g clip-path=\"url(#pdeec3c6c7d)\">\r\n     <use style=\"fill:#ff0000;stroke:#ff0000;\" x=\"101.319859\" xlink:href=\"#m49f7e75d7e\" y=\"23.256159\"/>\r\n    </g>\r\n   </g>\r\n   <g id=\"line2d_37\">\r\n    <path clip-path=\"url(#pdeec3c6c7d)\" d=\"M 139.484327 26.856356 \r\n\" style=\"fill:none;stroke:#ff0000;stroke-linecap:square;stroke-width:1.5;\"/>\r\n    <g clip-path=\"url(#pdeec3c6c7d)\">\r\n     <use style=\"fill:#ff0000;stroke:#ff0000;\" x=\"139.484327\" xlink:href=\"#m49f7e75d7e\" y=\"26.856356\"/>\r\n    </g>\r\n   </g>\r\n   <g id=\"line2d_38\">\r\n    <path clip-path=\"url(#pdeec3c6c7d)\" d=\"M 137.731105 49.170433 \r\n\" style=\"fill:none;stroke:#ff0000;stroke-linecap:square;stroke-width:1.5;\"/>\r\n    <g clip-path=\"url(#pdeec3c6c7d)\">\r\n     <use style=\"fill:#ff0000;stroke:#ff0000;\" x=\"137.731105\" xlink:href=\"#m49f7e75d7e\" y=\"49.170433\"/>\r\n    </g>\r\n   </g>\r\n   <g id=\"line2d_39\">\r\n    <path clip-path=\"url(#pdeec3c6c7d)\" d=\"M 137.896845 22.411604 \r\n\" style=\"fill:none;stroke:#ff0000;stroke-linecap:square;stroke-width:1.5;\"/>\r\n    <g clip-path=\"url(#pdeec3c6c7d)\">\r\n     <use style=\"fill:#ff0000;stroke:#ff0000;\" x=\"137.896845\" xlink:href=\"#m49f7e75d7e\" y=\"22.411604\"/>\r\n    </g>\r\n   </g>\r\n   <g id=\"line2d_40\">\r\n    <path clip-path=\"url(#pdeec3c6c7d)\" d=\"M 91.78003 28.738889 \r\n\" style=\"fill:none;stroke:#ff0000;stroke-linecap:square;stroke-width:1.5;\"/>\r\n    <g clip-path=\"url(#pdeec3c6c7d)\">\r\n     <use style=\"fill:#ff0000;stroke:#ff0000;\" x=\"91.78003\" xlink:href=\"#m49f7e75d7e\" y=\"28.738889\"/>\r\n    </g>\r\n   </g>\r\n   <g id=\"line2d_41\">\r\n    <path clip-path=\"url(#pdeec3c6c7d)\" d=\"M 126.875854 53.761285 \r\n\" style=\"fill:none;stroke:#ff0000;stroke-linecap:square;stroke-width:1.5;\"/>\r\n    <g clip-path=\"url(#pdeec3c6c7d)\">\r\n     <use style=\"fill:#ff0000;stroke:#ff0000;\" x=\"126.875854\" xlink:href=\"#m49f7e75d7e\" y=\"53.761285\"/>\r\n    </g>\r\n   </g>\r\n   <g id=\"line2d_42\">\r\n    <path clip-path=\"url(#pdeec3c6c7d)\" d=\"M 143.271638 18.976677 \r\n\" style=\"fill:none;stroke:#ff0000;stroke-linecap:square;stroke-width:1.5;\"/>\r\n    <g clip-path=\"url(#pdeec3c6c7d)\">\r\n     <use style=\"fill:#ff0000;stroke:#ff0000;\" x=\"143.271638\" xlink:href=\"#m49f7e75d7e\" y=\"18.976677\"/>\r\n    </g>\r\n   </g>\r\n   <g id=\"line2d_43\">\r\n    <path clip-path=\"url(#pdeec3c6c7d)\" d=\"M 96.898417 44.838975 \r\n\" style=\"fill:none;stroke:#ff0000;stroke-linecap:square;stroke-width:1.5;\"/>\r\n    <g clip-path=\"url(#pdeec3c6c7d)\">\r\n     <use style=\"fill:#ff0000;stroke:#ff0000;\" x=\"96.898417\" xlink:href=\"#m49f7e75d7e\" y=\"44.838975\"/>\r\n    </g>\r\n   </g>\r\n   <g id=\"line2d_44\">\r\n    <path clip-path=\"url(#pdeec3c6c7d)\" d=\"M 111.088372 39.237737 \r\n\" style=\"fill:none;stroke:#ff0000;stroke-linecap:square;stroke-width:1.5;\"/>\r\n    <g clip-path=\"url(#pdeec3c6c7d)\">\r\n     <use style=\"fill:#ff0000;stroke:#ff0000;\" x=\"111.088372\" xlink:href=\"#m49f7e75d7e\" y=\"39.237737\"/>\r\n    </g>\r\n   </g>\r\n   <g id=\"line2d_45\">\r\n    <path clip-path=\"url(#pdeec3c6c7d)\" d=\"M 139.816852 55.927675 \r\n\" style=\"fill:none;stroke:#ff0000;stroke-linecap:square;stroke-width:1.5;\"/>\r\n    <g clip-path=\"url(#pdeec3c6c7d)\">\r\n     <use style=\"fill:#ff0000;stroke:#ff0000;\" x=\"139.816852\" xlink:href=\"#m49f7e75d7e\" y=\"55.927675\"/>\r\n    </g>\r\n   </g>\r\n   <g id=\"line2d_46\">\r\n    <path clip-path=\"url(#pdeec3c6c7d)\" d=\"M 137.989467 17.083636 \r\n\" style=\"fill:none;stroke:#ff0000;stroke-linecap:square;stroke-width:1.5;\"/>\r\n    <g clip-path=\"url(#pdeec3c6c7d)\">\r\n     <use style=\"fill:#ff0000;stroke:#ff0000;\" x=\"137.989467\" xlink:href=\"#m49f7e75d7e\" y=\"17.083636\"/>\r\n    </g>\r\n   </g>\r\n   <g id=\"line2d_47\">\r\n    <path clip-path=\"url(#pdeec3c6c7d)\" d=\"M 89.533174 49.844625 \r\n\" style=\"fill:none;stroke:#ff0000;stroke-linecap:square;stroke-width:1.5;\"/>\r\n    <g clip-path=\"url(#pdeec3c6c7d)\">\r\n     <use style=\"fill:#ff0000;stroke:#ff0000;\" x=\"89.533174\" xlink:href=\"#m49f7e75d7e\" y=\"49.844625\"/>\r\n    </g>\r\n   </g>\r\n   <g id=\"line2d_48\">\r\n    <path clip-path=\"url(#pdeec3c6c7d)\" d=\"M 111.631056 52.289058 \r\n\" style=\"fill:none;stroke:#ff0000;stroke-linecap:square;stroke-width:1.5;\"/>\r\n    <g clip-path=\"url(#pdeec3c6c7d)\">\r\n     <use style=\"fill:#ff0000;stroke:#ff0000;\" x=\"111.631056\" xlink:href=\"#m49f7e75d7e\" y=\"52.289058\"/>\r\n    </g>\r\n   </g>\r\n   <g id=\"line2d_49\">\r\n    <path clip-path=\"url(#pdeec3c6c7d)\" d=\"M 119.955129 41.613552 \r\n\" style=\"fill:none;stroke:#ff0000;stroke-linecap:square;stroke-width:1.5;\"/>\r\n    <g clip-path=\"url(#pdeec3c6c7d)\">\r\n     <use style=\"fill:#ff0000;stroke:#ff0000;\" x=\"119.955129\" xlink:href=\"#m49f7e75d7e\" y=\"41.613552\"/>\r\n    </g>\r\n   </g>\r\n   <g id=\"line2d_50\">\r\n    <path clip-path=\"url(#pdeec3c6c7d)\" d=\"M 112.775194 48.603399 \r\n\" style=\"fill:none;stroke:#ff0000;stroke-linecap:square;stroke-width:1.5;\"/>\r\n    <g clip-path=\"url(#pdeec3c6c7d)\">\r\n     <use style=\"fill:#ff0000;stroke:#ff0000;\" x=\"112.775194\" xlink:href=\"#m49f7e75d7e\" y=\"48.603399\"/>\r\n    </g>\r\n   </g>\r\n   <g id=\"line2d_51\">\r\n    <path clip-path=\"url(#pdeec3c6c7d)\" d=\"M 128.433527 36.910207 \r\n\" style=\"fill:none;stroke:#ff0000;stroke-linecap:square;stroke-width:1.5;\"/>\r\n    <g clip-path=\"url(#pdeec3c6c7d)\">\r\n     <use style=\"fill:#ff0000;stroke:#ff0000;\" x=\"128.433527\" xlink:href=\"#m49f7e75d7e\" y=\"36.910207\"/>\r\n    </g>\r\n   </g>\r\n   <g id=\"line2d_52\">\r\n    <path clip-path=\"url(#pdeec3c6c7d)\" d=\"M 126.54933 42.933663 \r\n\" style=\"fill:none;stroke:#ff0000;stroke-linecap:square;stroke-width:1.5;\"/>\r\n    <g clip-path=\"url(#pdeec3c6c7d)\">\r\n     <use style=\"fill:#ff0000;stroke:#ff0000;\" x=\"126.54933\" xlink:href=\"#m49f7e75d7e\" y=\"42.933663\"/>\r\n    </g>\r\n   </g>\r\n   <g id=\"line2d_53\">\r\n    <path clip-path=\"url(#pdeec3c6c7d)\" d=\"M 199.06604 125.289833 \r\n\" style=\"fill:none;stroke:#0000ff;stroke-linecap:square;stroke-width:1.5;\"/>\r\n    <defs>\r\n     <path d=\"M 0 1.25 \r\nC 0.331504 1.25 0.649475 1.118292 0.883883 0.883883 \r\nC 1.118292 0.649475 1.25 0.331504 1.25 0 \r\nC 1.25 -0.331504 1.118292 -0.649475 0.883883 -0.883883 \r\nC 0.649475 -1.118292 0.331504 -1.25 0 -1.25 \r\nC -0.331504 -1.25 -0.649475 -1.118292 -0.883883 -0.883883 \r\nC -1.118292 -0.649475 -1.25 -0.331504 -1.25 0 \r\nC -1.25 0.331504 -1.118292 0.649475 -0.883883 0.883883 \r\nC -0.649475 1.118292 -0.331504 1.25 0 1.25 \r\nz\r\n\" id=\"mdf5190abba\" style=\"stroke:#0000ff;\"/>\r\n    </defs>\r\n    <g clip-path=\"url(#pdeec3c6c7d)\">\r\n     <use style=\"fill:#0000ff;stroke:#0000ff;\" x=\"199.06604\" xlink:href=\"#mdf5190abba\" y=\"125.289833\"/>\r\n    </g>\r\n   </g>\r\n   <g id=\"line2d_54\">\r\n    <path clip-path=\"url(#pdeec3c6c7d)\" d=\"M 211.851147 133.161492 \r\n\" style=\"fill:none;stroke:#0000ff;stroke-linecap:square;stroke-width:1.5;\"/>\r\n    <g clip-path=\"url(#pdeec3c6c7d)\">\r\n     <use style=\"fill:#0000ff;stroke:#0000ff;\" x=\"211.851147\" xlink:href=\"#mdf5190abba\" y=\"133.161492\"/>\r\n    </g>\r\n   </g>\r\n   <g id=\"line2d_55\">\r\n    <path clip-path=\"url(#pdeec3c6c7d)\" d=\"M 151.219875 131.76791 \r\n\" style=\"fill:none;stroke:#0000ff;stroke-linecap:square;stroke-width:1.5;\"/>\r\n    <g clip-path=\"url(#pdeec3c6c7d)\">\r\n     <use style=\"fill:#0000ff;stroke:#0000ff;\" x=\"151.219875\" xlink:href=\"#mdf5190abba\" y=\"131.76791\"/>\r\n    </g>\r\n   </g>\r\n   <g id=\"line2d_56\">\r\n    <path clip-path=\"url(#pdeec3c6c7d)\" d=\"M 161.351308 117.891805 \r\n\" style=\"fill:none;stroke:#0000ff;stroke-linecap:square;stroke-width:1.5;\"/>\r\n    <g clip-path=\"url(#pdeec3c6c7d)\">\r\n     <use style=\"fill:#0000ff;stroke:#0000ff;\" x=\"161.351308\" xlink:href=\"#mdf5190abba\" y=\"117.891805\"/>\r\n    </g>\r\n   </g>\r\n   <g id=\"line2d_57\">\r\n    <path clip-path=\"url(#pdeec3c6c7d)\" d=\"M 210.619345 115.775745 \r\n\" style=\"fill:none;stroke:#0000ff;stroke-linecap:square;stroke-width:1.5;\"/>\r\n    <g clip-path=\"url(#pdeec3c6c7d)\">\r\n     <use style=\"fill:#0000ff;stroke:#0000ff;\" x=\"210.619345\" xlink:href=\"#mdf5190abba\" y=\"115.775745\"/>\r\n    </g>\r\n   </g>\r\n   <g id=\"line2d_58\">\r\n    <path clip-path=\"url(#pdeec3c6c7d)\" d=\"M 156.268013 122.99174 \r\n\" style=\"fill:none;stroke:#0000ff;stroke-linecap:square;stroke-width:1.5;\"/>\r\n    <g clip-path=\"url(#pdeec3c6c7d)\">\r\n     <use style=\"fill:#0000ff;stroke:#0000ff;\" x=\"156.268013\" xlink:href=\"#mdf5190abba\" y=\"122.99174\"/>\r\n    </g>\r\n   </g>\r\n   <g id=\"line2d_59\">\r\n    <path clip-path=\"url(#pdeec3c6c7d)\" d=\"M 173.902448 113.378595 \r\n\" style=\"fill:none;stroke:#0000ff;stroke-linecap:square;stroke-width:1.5;\"/>\r\n    <g clip-path=\"url(#pdeec3c6c7d)\">\r\n     <use style=\"fill:#0000ff;stroke:#0000ff;\" x=\"173.902448\" xlink:href=\"#mdf5190abba\" y=\"113.378595\"/>\r\n    </g>\r\n   </g>\r\n   <g id=\"line2d_60\">\r\n    <path clip-path=\"url(#pdeec3c6c7d)\" d=\"M 168.80115 123.063085 \r\n\" style=\"fill:none;stroke:#0000ff;stroke-linecap:square;stroke-width:1.5;\"/>\r\n    <g clip-path=\"url(#pdeec3c6c7d)\">\r\n     <use style=\"fill:#0000ff;stroke:#0000ff;\" x=\"168.80115\" xlink:href=\"#mdf5190abba\" y=\"123.063085\"/>\r\n    </g>\r\n   </g>\r\n   <g id=\"line2d_61\">\r\n    <path clip-path=\"url(#pdeec3c6c7d)\" d=\"M 163.549114 103.40018 \r\n\" style=\"fill:none;stroke:#0000ff;stroke-linecap:square;stroke-width:1.5;\"/>\r\n    <g clip-path=\"url(#pdeec3c6c7d)\">\r\n     <use style=\"fill:#0000ff;stroke:#0000ff;\" x=\"163.549114\" xlink:href=\"#mdf5190abba\" y=\"103.40018\"/>\r\n    </g>\r\n   </g>\r\n   <g id=\"line2d_62\">\r\n    <path clip-path=\"url(#pdeec3c6c7d)\" d=\"M 174.150504 102.209405 \r\n\" style=\"fill:none;stroke:#0000ff;stroke-linecap:square;stroke-width:1.5;\"/>\r\n    <g clip-path=\"url(#pdeec3c6c7d)\">\r\n     <use style=\"fill:#0000ff;stroke:#0000ff;\" x=\"174.150504\" xlink:href=\"#mdf5190abba\" y=\"102.209405\"/>\r\n    </g>\r\n   </g>\r\n   <g id=\"line2d_63\">\r\n    <path clip-path=\"url(#pdeec3c6c7d)\" d=\"M 298.304864 147.447503 \r\n\" style=\"fill:none;stroke:#006400;stroke-linecap:square;stroke-width:1.5;\"/>\r\n    <defs>\r\n     <path d=\"M 0 1.25 \r\nC 0.331504 1.25 0.649475 1.118292 0.883883 0.883883 \r\nC 1.118292 0.649475 1.25 0.331504 1.25 0 \r\nC 1.25 -0.331504 1.118292 -0.649475 0.883883 -0.883883 \r\nC 0.649475 -1.118292 0.331504 -1.25 0 -1.25 \r\nC -0.331504 -1.25 -0.649475 -1.118292 -0.883883 -0.883883 \r\nC -1.118292 -0.649475 -1.25 -0.331504 -1.25 0 \r\nC -1.25 0.331504 -1.118292 0.649475 -0.883883 0.883883 \r\nC -0.649475 1.118292 -0.331504 1.25 0 1.25 \r\nz\r\n\" id=\"m9cb7ea0924\" style=\"stroke:#006400;\"/>\r\n    </defs>\r\n    <g clip-path=\"url(#pdeec3c6c7d)\">\r\n     <use style=\"fill:#006400;stroke:#006400;\" x=\"298.304864\" xlink:href=\"#m9cb7ea0924\" y=\"147.447503\"/>\r\n    </g>\r\n   </g>\r\n   <g id=\"line2d_64\">\r\n    <path clip-path=\"url(#pdeec3c6c7d)\" d=\"M 283.620492 158.207709 \r\n\" style=\"fill:none;stroke:#006400;stroke-linecap:square;stroke-width:1.5;\"/>\r\n    <g clip-path=\"url(#pdeec3c6c7d)\">\r\n     <use style=\"fill:#006400;stroke:#006400;\" x=\"283.620492\" xlink:href=\"#m9cb7ea0924\" y=\"158.207709\"/>\r\n    </g>\r\n   </g>\r\n   <g id=\"line2d_65\">\r\n    <path clip-path=\"url(#pdeec3c6c7d)\" d=\"M 305.280901 172.817281 \r\n\" style=\"fill:none;stroke:#006400;stroke-linecap:square;stroke-width:1.5;\"/>\r\n    <g clip-path=\"url(#pdeec3c6c7d)\">\r\n     <use style=\"fill:#006400;stroke:#006400;\" x=\"305.280901\" xlink:href=\"#m9cb7ea0924\" y=\"172.817281\"/>\r\n    </g>\r\n   </g>\r\n   <g id=\"line2d_66\">\r\n    <path clip-path=\"url(#pdeec3c6c7d)\" d=\"M 311.994466 153.736207 \r\n\" style=\"fill:none;stroke:#006400;stroke-linecap:square;stroke-width:1.5;\"/>\r\n    <g clip-path=\"url(#pdeec3c6c7d)\">\r\n     <use style=\"fill:#006400;stroke:#006400;\" x=\"311.994466\" xlink:href=\"#m9cb7ea0924\" y=\"153.736207\"/>\r\n    </g>\r\n   </g>\r\n   <g id=\"line2d_67\">\r\n    <path clip-path=\"url(#pdeec3c6c7d)\" d=\"M 302.91468 158.75814 \r\n\" style=\"fill:none;stroke:#006400;stroke-linecap:square;stroke-width:1.5;\"/>\r\n    <g clip-path=\"url(#pdeec3c6c7d)\">\r\n     <use style=\"fill:#006400;stroke:#006400;\" x=\"302.91468\" xlink:href=\"#m9cb7ea0924\" y=\"158.75814\"/>\r\n    </g>\r\n   </g>\r\n   <g id=\"line2d_68\">\r\n    <path clip-path=\"url(#pdeec3c6c7d)\" d=\"M 326.852471 149.810083 \r\n\" style=\"fill:none;stroke:#006400;stroke-linecap:square;stroke-width:1.5;\"/>\r\n    <g clip-path=\"url(#pdeec3c6c7d)\">\r\n     <use style=\"fill:#006400;stroke:#006400;\" x=\"326.852471\" xlink:href=\"#m9cb7ea0924\" y=\"149.810083\"/>\r\n    </g>\r\n   </g>\r\n   <g id=\"line2d_69\">\r\n    <path clip-path=\"url(#pdeec3c6c7d)\" d=\"M 300.845566 165.389575 \r\n\" style=\"fill:none;stroke:#006400;stroke-linecap:square;stroke-width:1.5;\"/>\r\n    <g clip-path=\"url(#pdeec3c6c7d)\">\r\n     <use style=\"fill:#006400;stroke:#006400;\" x=\"300.845566\" xlink:href=\"#m9cb7ea0924\" y=\"165.389575\"/>\r\n    </g>\r\n   </g>\r\n   <g id=\"line2d_70\">\r\n    <path clip-path=\"url(#pdeec3c6c7d)\" d=\"M 297.563891 147.674212 \r\n\" style=\"fill:none;stroke:#006400;stroke-linecap:square;stroke-width:1.5;\"/>\r\n    <g clip-path=\"url(#pdeec3c6c7d)\">\r\n     <use style=\"fill:#006400;stroke:#006400;\" x=\"297.563891\" xlink:href=\"#m9cb7ea0924\" y=\"147.674212\"/>\r\n    </g>\r\n   </g>\r\n   <g id=\"line2d_71\">\r\n    <path clip-path=\"url(#pdeec3c6c7d)\" d=\"M 330.281818 141.632389 \r\n\" style=\"fill:none;stroke:#006400;stroke-linecap:square;stroke-width:1.5;\"/>\r\n    <g clip-path=\"url(#pdeec3c6c7d)\">\r\n     <use style=\"fill:#006400;stroke:#006400;\" x=\"330.281818\" xlink:href=\"#m9cb7ea0924\" y=\"141.632389\"/>\r\n    </g>\r\n   </g>\r\n   <g id=\"line2d_72\">\r\n    <path clip-path=\"url(#pdeec3c6c7d)\" d=\"M 309.037424 175.515453 \r\n\" style=\"fill:none;stroke:#006400;stroke-linecap:square;stroke-width:1.5;\"/>\r\n    <g clip-path=\"url(#pdeec3c6c7d)\">\r\n     <use style=\"fill:#006400;stroke:#006400;\" x=\"309.037424\" xlink:href=\"#m9cb7ea0924\" y=\"175.515453\"/>\r\n    </g>\r\n   </g>\r\n   <g id=\"line2d_73\">\r\n    <path clip-path=\"url(#pdeec3c6c7d)\" d=\"M 80.79113 211.896049 \r\n\" style=\"fill:none;stroke:#ffd700;stroke-linecap:square;stroke-width:1.5;\"/>\r\n    <defs>\r\n     <path d=\"M 0 1.25 \r\nC 0.331504 1.25 0.649475 1.118292 0.883883 0.883883 \r\nC 1.118292 0.649475 1.25 0.331504 1.25 0 \r\nC 1.25 -0.331504 1.118292 -0.649475 0.883883 -0.883883 \r\nC 0.649475 -1.118292 0.331504 -1.25 0 -1.25 \r\nC -0.331504 -1.25 -0.649475 -1.118292 -0.883883 -0.883883 \r\nC -1.118292 -0.649475 -1.25 -0.331504 -1.25 0 \r\nC -1.25 0.331504 -1.118292 0.649475 -0.883883 0.883883 \r\nC -0.649475 1.118292 -0.331504 1.25 0 1.25 \r\nz\r\n\" id=\"mfe7a92216a\" style=\"stroke:#ffd700;\"/>\r\n    </defs>\r\n    <g clip-path=\"url(#pdeec3c6c7d)\">\r\n     <use style=\"fill:#ffd700;stroke:#ffd700;\" x=\"80.79113\" xlink:href=\"#mfe7a92216a\" y=\"211.896049\"/>\r\n    </g>\r\n   </g>\r\n   <g id=\"line2d_74\">\r\n    <path clip-path=\"url(#pdeec3c6c7d)\" d=\"M 29.801049 177.382065 \r\n\" style=\"fill:none;stroke:#ffd700;stroke-linecap:square;stroke-width:1.5;\"/>\r\n    <g clip-path=\"url(#pdeec3c6c7d)\">\r\n     <use style=\"fill:#ffd700;stroke:#ffd700;\" x=\"29.801049\" xlink:href=\"#mfe7a92216a\" y=\"177.382065\"/>\r\n    </g>\r\n   </g>\r\n   <g id=\"line2d_75\">\r\n    <path clip-path=\"url(#pdeec3c6c7d)\" d=\"M 60.661261 178.36137 \r\n\" style=\"fill:none;stroke:#ffd700;stroke-linecap:square;stroke-width:1.5;\"/>\r\n    <g clip-path=\"url(#pdeec3c6c7d)\">\r\n     <use style=\"fill:#ffd700;stroke:#ffd700;\" x=\"60.661261\" xlink:href=\"#mfe7a92216a\" y=\"178.36137\"/>\r\n    </g>\r\n   </g>\r\n   <g id=\"line2d_76\">\r\n    <path clip-path=\"url(#pdeec3c6c7d)\" d=\"M 44.161897 181.943641 \r\n\" style=\"fill:none;stroke:#ffd700;stroke-linecap:square;stroke-width:1.5;\"/>\r\n    <g clip-path=\"url(#pdeec3c6c7d)\">\r\n     <use style=\"fill:#ffd700;stroke:#ffd700;\" x=\"44.161897\" xlink:href=\"#mfe7a92216a\" y=\"181.943641\"/>\r\n    </g>\r\n   </g>\r\n   <g id=\"line2d_77\">\r\n    <path clip-path=\"url(#pdeec3c6c7d)\" d=\"M 73.641003 186.176322 \r\n\" style=\"fill:none;stroke:#ffd700;stroke-linecap:square;stroke-width:1.5;\"/>\r\n    <g clip-path=\"url(#pdeec3c6c7d)\">\r\n     <use style=\"fill:#ffd700;stroke:#ffd700;\" x=\"73.641003\" xlink:href=\"#mfe7a92216a\" y=\"186.176322\"/>\r\n    </g>\r\n   </g>\r\n   <g id=\"line2d_78\">\r\n    <path clip-path=\"url(#pdeec3c6c7d)\" d=\"M 57.440377 194.144151 \r\n\" style=\"fill:none;stroke:#ffd700;stroke-linecap:square;stroke-width:1.5;\"/>\r\n    <g clip-path=\"url(#pdeec3c6c7d)\">\r\n     <use style=\"fill:#ffd700;stroke:#ffd700;\" x=\"57.440377\" xlink:href=\"#mfe7a92216a\" y=\"194.144151\"/>\r\n    </g>\r\n   </g>\r\n   <g id=\"line2d_79\">\r\n    <path clip-path=\"url(#pdeec3c6c7d)\" d=\"M 84.698261 214.756364 \r\n\" style=\"fill:none;stroke:#ffd700;stroke-linecap:square;stroke-width:1.5;\"/>\r\n    <g clip-path=\"url(#pdeec3c6c7d)\">\r\n     <use style=\"fill:#ffd700;stroke:#ffd700;\" x=\"84.698261\" xlink:href=\"#mfe7a92216a\" y=\"214.756364\"/>\r\n    </g>\r\n   </g>\r\n   <g id=\"line2d_80\">\r\n    <path clip-path=\"url(#pdeec3c6c7d)\" d=\"M 62.961277 184.834274 \r\n\" style=\"fill:none;stroke:#ffd700;stroke-linecap:square;stroke-width:1.5;\"/>\r\n    <g clip-path=\"url(#pdeec3c6c7d)\">\r\n     <use style=\"fill:#ffd700;stroke:#ffd700;\" x=\"62.961277\" xlink:href=\"#mfe7a92216a\" y=\"184.834274\"/>\r\n    </g>\r\n   </g>\r\n   <g id=\"line2d_81\">\r\n    <path clip-path=\"url(#pdeec3c6c7d)\" d=\"M 33.355761 197.919363 \r\n\" style=\"fill:none;stroke:#ffd700;stroke-linecap:square;stroke-width:1.5;\"/>\r\n    <g clip-path=\"url(#pdeec3c6c7d)\">\r\n     <use style=\"fill:#ffd700;stroke:#ffd700;\" x=\"33.355761\" xlink:href=\"#mfe7a92216a\" y=\"197.919363\"/>\r\n    </g>\r\n   </g>\r\n   <g id=\"line2d_82\">\r\n    <path clip-path=\"url(#pdeec3c6c7d)\" d=\"M 25.918182 199.286677 \r\n\" style=\"fill:none;stroke:#ffd700;stroke-linecap:square;stroke-width:1.5;\"/>\r\n    <g clip-path=\"url(#pdeec3c6c7d)\">\r\n     <use style=\"fill:#ffd700;stroke:#ffd700;\" x=\"25.918182\" xlink:href=\"#mfe7a92216a\" y=\"199.286677\"/>\r\n    </g>\r\n   </g>\r\n   <g id=\"line2d_83\">\r\n    <path clip-path=\"url(#pdeec3c6c7d)\" d=\"M 119.067862 39.883744 \r\n\" style=\"fill:none;stroke:#ee82ee;stroke-linecap:square;stroke-width:1.5;\"/>\r\n    <defs>\r\n     <path d=\"M 0 -5 \r\nL -1.12257 -1.545085 \r\nL -4.755283 -1.545085 \r\nL -1.816356 0.59017 \r\nL -2.938926 4.045085 \r\nL -0 1.90983 \r\nL 2.938926 4.045085 \r\nL 1.816356 0.59017 \r\nL 4.755283 -1.545085 \r\nL 1.12257 -1.545085 \r\nz\r\n\" id=\"mf879e64129\" style=\"stroke:#ee82ee;stroke-linejoin:bevel;\"/>\r\n    </defs>\r\n    <g clip-path=\"url(#pdeec3c6c7d)\">\r\n     <use style=\"fill:#ee82ee;stroke:#ee82ee;stroke-linejoin:bevel;\" x=\"119.067862\" xlink:href=\"#mf879e64129\" y=\"39.883744\"/>\r\n    </g>\r\n   </g>\r\n   <g id=\"line2d_84\">\r\n    <path clip-path=\"url(#pdeec3c6c7d)\" d=\"M 177.077895 118.892979 \r\n\" style=\"fill:none;stroke:#ee82ee;stroke-linecap:square;stroke-width:1.5;\"/>\r\n    <g clip-path=\"url(#pdeec3c6c7d)\">\r\n     <use style=\"fill:#ee82ee;stroke:#ee82ee;stroke-linejoin:bevel;\" x=\"177.077895\" xlink:href=\"#mf879e64129\" y=\"118.892979\"/>\r\n    </g>\r\n   </g>\r\n   <g id=\"line2d_85\">\r\n    <path clip-path=\"url(#pdeec3c6c7d)\" d=\"M 306.669657 157.098855 \r\n\" style=\"fill:none;stroke:#ee82ee;stroke-linecap:square;stroke-width:1.5;\"/>\r\n    <g clip-path=\"url(#pdeec3c6c7d)\">\r\n     <use style=\"fill:#ee82ee;stroke:#ee82ee;stroke-linejoin:bevel;\" x=\"306.669657\" xlink:href=\"#mf879e64129\" y=\"157.098855\"/>\r\n    </g>\r\n   </g>\r\n   <g id=\"line2d_86\">\r\n    <path clip-path=\"url(#pdeec3c6c7d)\" d=\"M 55.34302 192.670027 \r\n\" style=\"fill:none;stroke:#ee82ee;stroke-linecap:square;stroke-width:1.5;\"/>\r\n    <g clip-path=\"url(#pdeec3c6c7d)\">\r\n     <use style=\"fill:#ee82ee;stroke:#ee82ee;stroke-linejoin:bevel;\" x=\"55.34302\" xlink:href=\"#mf879e64129\" y=\"192.670027\"/>\r\n    </g>\r\n   </g>\r\n   <g id=\"patch_3\">\r\n    <path d=\"M 10.7 224.64 \r\nL 10.7 7.2 \r\n\" style=\"fill:none;stroke:#000000;stroke-linecap:square;stroke-linejoin:miter;stroke-width:0.8;\"/>\r\n   </g>\r\n   <g id=\"patch_4\">\r\n    <path d=\"M 345.5 224.64 \r\nL 345.5 7.2 \r\n\" style=\"fill:none;stroke:#000000;stroke-linecap:square;stroke-linejoin:miter;stroke-width:0.8;\"/>\r\n   </g>\r\n   <g id=\"patch_5\">\r\n    <path d=\"M 10.7 224.64 \r\nL 345.5 224.64 \r\n\" style=\"fill:none;stroke:#000000;stroke-linecap:square;stroke-linejoin:miter;stroke-width:0.8;\"/>\r\n   </g>\r\n   <g id=\"patch_6\">\r\n    <path d=\"M 10.7 7.2 \r\nL 345.5 7.2 \r\n\" style=\"fill:none;stroke:#000000;stroke-linecap:square;stroke-linejoin:miter;stroke-width:0.8;\"/>\r\n   </g>\r\n  </g>\r\n </g>\r\n <defs>\r\n  <clipPath id=\"pdeec3c6c7d\">\r\n   <rect height=\"217.44\" width=\"334.8\" x=\"10.7\" y=\"7.2\"/>\r\n  </clipPath>\r\n </defs>\r\n</svg>\r\n",
      "image/png": "[encoded data removed]"
     },
     "metadata": {},
     "execution_count": 27
    }
   ],
   "source": [
    "# 参考 https://pyclustering.github.io/docs/0.9.0/html/dd/db4/classpyclustering_1_1cluster_1_1xmeans_1_1xmeans.html\n",
    "from pyclustering.cluster import cluster_visualizer\n",
    "from pyclustering.cluster.xmeans import xmeans\n",
    "from pyclustering.cluster.center_initializer import kmeans_plusplus_initializer\n",
    "from pyclustering.utils import read_sample\n",
    "from pyclustering.samples.definitions import SIMPLE_SAMPLES\n",
    "# Read sample 'simple3' from file.\n",
    "sample = read_sample(SIMPLE_SAMPLES.SAMPLE_SIMPLE3)\n",
    "# Prepare initial centers - amount of initial centers defines amount of clusters from which X-Means will\n",
    "# start analysis.\n",
    "amount_initial_centers = 2\n",
    "initial_centers = kmeans_plusplus_initializer(sample, amount_initial_centers).initialize()\n",
    "# Create instance of X-Means algorithm. The algorithm will start analysis from 2 clusters, the maximum\n",
    "# number of clusters that can be allocated is 20.\n",
    "xmeans_instance = xmeans(sample, initial_centers, 20)\n",
    "xmeans_instance.process()\n",
    "# Extract clustering results: clusters and their centers\n",
    "clusters = xmeans_instance.get_clusters()\n",
    "centers = xmeans_instance.get_centers()\n",
    "# Visualize clustering results\n",
    "visualizer = cluster_visualizer()\n",
    "visualizer.append_clusters(clusters, sample)\n",
    "visualizer.append_cluster(centers, None, marker='*', markersize=10)\n",
    "visualizer.show()"
   ]
  },
  {
   "cell_type": "code",
   "execution_count": 28,
   "metadata": {},
   "outputs": [
    {
     "output_type": "execute_result",
     "data": {
      "text/plain": "[[0], [3], [1, 2, 4]]"
     },
     "metadata": {},
     "execution_count": 28
    }
   ],
   "source": [
    "df_list = df_data_pct.T.values.tolist() #list(df_data_pct.T.values)\n",
    "\n",
    "# 固定できない...\n",
    "np.random.seed(100)\n",
    "random.seed(100)\n",
    "amount_initial_centers = 2\n",
    "initial_centers = kmeans_plusplus_initializer(df_list, amount_initial_centers).initialize()\n",
    "xmeans_instance = xmeans(df_list, initial_centers, 5)\n",
    "xmeans_instance.process()\n",
    "clusters = xmeans_instance.get_clusters()\n",
    "centers = xmeans_instance.get_centers()\n",
    "clusters"
   ]
  },
  {
   "cell_type": "code",
   "execution_count": 29,
   "metadata": {},
   "outputs": [
    {
     "output_type": "execute_result",
     "data": {
      "text/plain": "                 budget\nSPBDU10T Index  0.33333\nSPXT Index      0.11111\nTPXDDVD Index   0.11111\nSPJGBTR Index   0.33333\nSX5E Index      0.11111",
      "text/html": "<div>\n<style scoped>\n    .dataframe tbody tr th:only-of-type {\n        vertical-align: middle;\n    }\n\n    .dataframe tbody tr th {\n        vertical-align: top;\n    }\n\n    .dataframe thead th {\n        text-align: right;\n    }\n</style>\n<table border=\"1\" class=\"dataframe\">\n  <thead>\n    <tr style=\"text-align: right;\">\n      <th></th>\n      <th>budget</th>\n    </tr>\n  </thead>\n  <tbody>\n    <tr>\n      <th>SPBDU10T Index</th>\n      <td>0.33333</td>\n    </tr>\n    <tr>\n      <th>SPXT Index</th>\n      <td>0.11111</td>\n    </tr>\n    <tr>\n      <th>TPXDDVD Index</th>\n      <td>0.11111</td>\n    </tr>\n    <tr>\n      <th>SPJGBTR Index</th>\n      <td>0.33333</td>\n    </tr>\n    <tr>\n      <th>SX5E Index</th>\n      <td>0.11111</td>\n    </tr>\n  </tbody>\n</table>\n</div>"
     },
     "metadata": {},
     "execution_count": 29
    }
   ],
   "source": [
    "# num_clst = len(clusters)\n",
    "df_weight = pd.DataFrame([], columns=['budget'], index=target_name)\n",
    "for clst in clusters:\n",
    "    for c in clst:\n",
    "        df_weight.iloc[c] = np.round(1 / len(clst) / len(clusters), 5)\n",
    "df_weight"
   ]
  },
  {
   "cell_type": "code",
   "execution_count": 30,
   "metadata": {},
   "outputs": [
    {
     "output_type": "execute_result",
     "data": {
      "text/plain": "                 budget    weight\nSPBDU10T Index  0.33333  0.278785\nSPXT Index      0.11111  0.048596\nTPXDDVD Index   0.11111  0.051326\nSPJGBTR Index   0.33333  0.581251\nSX5E Index      0.11111  0.040041",
      "text/html": "<div>\n<style scoped>\n    .dataframe tbody tr th:only-of-type {\n        vertical-align: middle;\n    }\n\n    .dataframe tbody tr th {\n        vertical-align: top;\n    }\n\n    .dataframe thead th {\n        text-align: right;\n    }\n</style>\n<table border=\"1\" class=\"dataframe\">\n  <thead>\n    <tr style=\"text-align: right;\">\n      <th></th>\n      <th>budget</th>\n      <th>weight</th>\n    </tr>\n  </thead>\n  <tbody>\n    <tr>\n      <th>SPBDU10T Index</th>\n      <td>0.33333</td>\n      <td>0.278785</td>\n    </tr>\n    <tr>\n      <th>SPXT Index</th>\n      <td>0.11111</td>\n      <td>0.048596</td>\n    </tr>\n    <tr>\n      <th>TPXDDVD Index</th>\n      <td>0.11111</td>\n      <td>0.051326</td>\n    </tr>\n    <tr>\n      <th>SPJGBTR Index</th>\n      <td>0.33333</td>\n      <td>0.581251</td>\n    </tr>\n    <tr>\n      <th>SX5E Index</th>\n      <td>0.11111</td>\n      <td>0.040041</td>\n    </tr>\n  </tbody>\n</table>\n</div>"
     },
     "metadata": {},
     "execution_count": 30
    }
   ],
   "source": [
    "# 参考 https://github.com/jcrichard/pyrb\n",
    "from pyrb import RiskBudgeting\n",
    "covariance_matrix = df_data_pct.cov() * 52\n",
    "budgets = df_weight.values.reshape(-1).tolist()\n",
    "RB = RiskBudgeting(covariance_matrix, budgets)\n",
    "RB.solve()\n",
    "df_weight['weight'] = RB.x\n",
    "df_weight"
   ]
  }
 ],
 "metadata": {
  "kernelspec": {
   "display_name": "Python 3.7.7 64-bit ('mlfinlab': conda)",
   "language": "python",
   "name": "python_defaultSpec_1597049460145"
  },
  "language_info": {
   "codemirror_mode": {
    "name": "ipython",
    "version": 3
   },
   "file_extension": ".py",
   "mimetype": "text/x-python",
   "name": "python",
   "nbconvert_exporter": "python",
   "pygments_lexer": "ipython3",
   "version": "3.7.7-final"
  },
  "toc": {
   "nav_menu": {},
   "number_sections": true,
   "sideBar": true,
   "skip_h1_title": false,
   "toc_cell": false,
   "toc_position": {},
   "toc_section_display": "block",
   "toc_window_display": false
  },
  "widgets": {
   "application/vnd.jupyter.widget-state+json": {
    "state": {
     "02dc63d7b16c4b86a972c1391c143457": {
      "model_module": "@jupyter-widgets/controls",
      "model_module_version": "1.0.0",
      "model_name": "HBoxModel",
      "state": {
       "children": [
        "IPY_MODEL_e3914e7ecb7e40caa1ff03907f708f4e",
        "IPY_MODEL_390138f6c03641b0b4ef197479a0696c"
       ],
       "layout": "IPY_MODEL_3a717f1b0b424fb1b6f2c6712c02f20d"
      }
     },
     "0f8b46576dbf457baaee0c09b25b51bd": {
      "model_module": "@jupyter-widgets/base",
      "model_module_version": "1.0.0",
      "model_name": "LayoutModel",
      "state": {}
     },
     "19071b2635644ee697ec7fa01cfb6a63": {
      "model_module": "@jupyter-widgets/controls",
      "model_module_version": "1.0.0",
      "model_name": "IntProgressModel",
      "state": {
       "bar_style": "danger",
       "layout": "IPY_MODEL_41a1ed3953ba46558522f962796cc357",
       "max": 10,
       "style": "IPY_MODEL_a10fa46d1bbc4dc99213d833a82dd3d7"
      }
     },
     "1b49e3e3988a48ba831c3bdbe431ba2a": {
      "model_module": "@jupyter-widgets/controls",
      "model_module_version": "1.0.0",
      "model_name": "HBoxModel",
      "state": {
       "children": [
        "IPY_MODEL_fb82970841f34eb4a1b2e596c385b961",
        "IPY_MODEL_9c87d651527a48d9b9e8255ff13150a4"
       ],
       "layout": "IPY_MODEL_0f8b46576dbf457baaee0c09b25b51bd"
      }
     },
     "259d435a1556466aa46b84c7e2c4cf67": {
      "model_module": "@jupyter-widgets/controls",
      "model_module_version": "1.0.0",
      "model_name": "DescriptionStyleModel",
      "state": {
       "description_width": ""
      }
     },
     "29e6cab2f1df4d2381e5399abf2a6b96": {
      "model_module": "@jupyter-widgets/base",
      "model_module_version": "1.0.0",
      "model_name": "LayoutModel",
      "state": {}
     },
     "2e0ffd150c1d45d9af1e0a222f9cab04": {
      "model_module": "@jupyter-widgets/base",
      "model_module_version": "1.0.0",
      "model_name": "LayoutModel",
      "state": {}
     },
     "31b8389bc3c24276949edffa5a84e191": {
      "model_module": "@jupyter-widgets/base",
      "model_module_version": "1.0.0",
      "model_name": "LayoutModel",
      "state": {}
     },
     "3597487215904a158234f248b68c5f4e": {
      "model_module": "@jupyter-widgets/controls",
      "model_module_version": "1.0.0",
      "model_name": "HTMLModel",
      "state": {
       "layout": "IPY_MODEL_d28f10978b4e4858a9d6dd2003ac43b3",
       "style": "IPY_MODEL_c78977d8896740f0aac8254f418c8055",
       "value": "100% 10/10 [02:36&lt;00:00, 15.62s/it]"
      }
     },
     "3636ebc538c34ca2b56a62351ff2945c": {
      "model_module": "@jupyter-widgets/controls",
      "model_module_version": "1.0.0",
      "model_name": "DescriptionStyleModel",
      "state": {
       "description_width": ""
      }
     },
     "390138f6c03641b0b4ef197479a0696c": {
      "model_module": "@jupyter-widgets/controls",
      "model_module_version": "1.0.0",
      "model_name": "HTMLModel",
      "state": {
       "layout": "IPY_MODEL_f91ffd5998904ae88bdef760fb77ef56",
       "style": "IPY_MODEL_7fd23d0e8af543639b66a1f1b20e9b8b",
       "value": "100% 10/10 [02:31&lt;00:00, 15.19s/it]"
      }
     },
     "396f0db695cf4e14a08e042257a2c086": {
      "model_module": "@jupyter-widgets/controls",
      "model_module_version": "1.0.0",
      "model_name": "IntProgressModel",
      "state": {
       "bar_style": "danger",
       "layout": "IPY_MODEL_9a564185ad6347f080e890aa8c234d61",
       "max": 10,
       "style": "IPY_MODEL_3ddf51d6ca2e49ee99734bdef68ba3c3",
       "value": 4
      }
     },
     "3a717f1b0b424fb1b6f2c6712c02f20d": {
      "model_module": "@jupyter-widgets/base",
      "model_module_version": "1.0.0",
      "model_name": "LayoutModel",
      "state": {}
     },
     "3ddf51d6ca2e49ee99734bdef68ba3c3": {
      "model_module": "@jupyter-widgets/controls",
      "model_module_version": "1.0.0",
      "model_name": "ProgressStyleModel",
      "state": {
       "description_width": ""
      }
     },
     "41a1ed3953ba46558522f962796cc357": {
      "model_module": "@jupyter-widgets/base",
      "model_module_version": "1.0.0",
      "model_name": "LayoutModel",
      "state": {}
     },
     "4425cb683171444aa675ad8957918e1e": {
      "model_module": "@jupyter-widgets/base",
      "model_module_version": "1.0.0",
      "model_name": "LayoutModel",
      "state": {}
     },
     "47f8427a77674de699e769f156bfaadc": {
      "model_module": "@jupyter-widgets/controls",
      "model_module_version": "1.0.0",
      "model_name": "ProgressStyleModel",
      "state": {
       "description_width": ""
      }
     },
     "4cdf4434072240aa881ceacbdab3817f": {
      "model_module": "@jupyter-widgets/base",
      "model_module_version": "1.0.0",
      "model_name": "LayoutModel",
      "state": {}
     },
     "4eab3ef9ab5c4fc9bcf183e2e1e9ba6d": {
      "model_module": "@jupyter-widgets/controls",
      "model_module_version": "1.0.0",
      "model_name": "IntProgressModel",
      "state": {
       "bar_style": "danger",
       "layout": "IPY_MODEL_b176dbe197764c54a9307f32caf38ff9",
       "max": 10,
       "style": "IPY_MODEL_68591e99ee2b4a959b04945c4ca45c37",
       "value": 4
      }
     },
     "54782b1e83b742988899e0f40cd5de74": {
      "model_module": "@jupyter-widgets/base",
      "model_module_version": "1.0.0",
      "model_name": "LayoutModel",
      "state": {}
     },
     "5cbdac65cdfc4e3f802ab28f1d63df82": {
      "model_module": "@jupyter-widgets/base",
      "model_module_version": "1.0.0",
      "model_name": "LayoutModel",
      "state": {}
     },
     "5f8195086fca4981bcf5e6f7a244a1f8": {
      "model_module": "@jupyter-widgets/controls",
      "model_module_version": "1.0.0",
      "model_name": "HTMLModel",
      "state": {
       "layout": "IPY_MODEL_790d5997b10e4c3e9b213ed76129c86c",
       "style": "IPY_MODEL_259d435a1556466aa46b84c7e2c4cf67",
       "value": "  0% 0/10 [00:00&lt;?, ?it/s]"
      }
     },
     "6200af066ed84127ba1dc45440b50fbb": {
      "model_module": "@jupyter-widgets/controls",
      "model_module_version": "1.0.0",
      "model_name": "IntProgressModel",
      "state": {
       "bar_style": "danger",
       "layout": "IPY_MODEL_c14c9c958de744608c86eff70b9b24b3",
       "max": 10,
       "style": "IPY_MODEL_8f3b788cecc141b698c9d6b699233a1a"
      }
     },
     "63b71294368e4588b7288d4746f00773": {
      "model_module": "@jupyter-widgets/base",
      "model_module_version": "1.0.0",
      "model_name": "LayoutModel",
      "state": {}
     },
     "68591e99ee2b4a959b04945c4ca45c37": {
      "model_module": "@jupyter-widgets/controls",
      "model_module_version": "1.0.0",
      "model_name": "ProgressStyleModel",
      "state": {
       "description_width": ""
      }
     },
     "6a4a29ed03d543bcb559ec9bfda36fc4": {
      "model_module": "@jupyter-widgets/base",
      "model_module_version": "1.0.0",
      "model_name": "LayoutModel",
      "state": {}
     },
     "77d7b5466d9a4bfdbe9254299299fd11": {
      "model_module": "@jupyter-widgets/controls",
      "model_module_version": "1.0.0",
      "model_name": "HTMLModel",
      "state": {
       "layout": "IPY_MODEL_31b8389bc3c24276949edffa5a84e191",
       "style": "IPY_MODEL_f17ed4a5f9194692a8b1a78982eff104",
       "value": "  0% 0/10 [00:00&lt;?, ?it/s]"
      }
     },
     "790d5997b10e4c3e9b213ed76129c86c": {
      "model_module": "@jupyter-widgets/base",
      "model_module_version": "1.0.0",
      "model_name": "LayoutModel",
      "state": {}
     },
     "7fd23d0e8af543639b66a1f1b20e9b8b": {
      "model_module": "@jupyter-widgets/controls",
      "model_module_version": "1.0.0",
      "model_name": "DescriptionStyleModel",
      "state": {
       "description_width": ""
      }
     },
     "812ecfdaef034d109f2abca476509dbf": {
      "model_module": "@jupyter-widgets/controls",
      "model_module_version": "1.0.0",
      "model_name": "HTMLModel",
      "state": {
       "layout": "IPY_MODEL_4425cb683171444aa675ad8957918e1e",
       "style": "IPY_MODEL_992fe4c729fb4405bb15eddd6718218f",
       "value": " 20% 2/10 [00:35&lt;02:21, 17.69s/it]"
      }
     },
     "8f3b788cecc141b698c9d6b699233a1a": {
      "model_module": "@jupyter-widgets/controls",
      "model_module_version": "1.0.0",
      "model_name": "ProgressStyleModel",
      "state": {
       "description_width": ""
      }
     },
     "992fe4c729fb4405bb15eddd6718218f": {
      "model_module": "@jupyter-widgets/controls",
      "model_module_version": "1.0.0",
      "model_name": "DescriptionStyleModel",
      "state": {
       "description_width": ""
      }
     },
     "9a564185ad6347f080e890aa8c234d61": {
      "model_module": "@jupyter-widgets/base",
      "model_module_version": "1.0.0",
      "model_name": "LayoutModel",
      "state": {}
     },
     "9ba117a21a5f4c70bc12f9c517e95fec": {
      "model_module": "@jupyter-widgets/base",
      "model_module_version": "1.0.0",
      "model_name": "LayoutModel",
      "state": {}
     },
     "9c87d651527a48d9b9e8255ff13150a4": {
      "model_module": "@jupyter-widgets/controls",
      "model_module_version": "1.0.0",
      "model_name": "HTMLModel",
      "state": {
       "layout": "IPY_MODEL_9ba117a21a5f4c70bc12f9c517e95fec",
       "style": "IPY_MODEL_eb8c360920fc4e389d3eab7842997430",
       "value": "100% 10/10 [02:34&lt;00:00, 15.42s/it]"
      }
     },
     "9e2b51a322b44ee69c79687439e26bc8": {
      "model_module": "@jupyter-widgets/controls",
      "model_module_version": "1.0.0",
      "model_name": "IntProgressModel",
      "state": {
       "bar_style": "danger",
       "layout": "IPY_MODEL_2e0ffd150c1d45d9af1e0a222f9cab04",
       "max": 10,
       "style": "IPY_MODEL_c487924f7ae1422c803cf9210180a0af",
       "value": 2
      }
     },
     "a10fa46d1bbc4dc99213d833a82dd3d7": {
      "model_module": "@jupyter-widgets/controls",
      "model_module_version": "1.0.0",
      "model_name": "ProgressStyleModel",
      "state": {
       "description_width": ""
      }
     },
     "a149bb510333423d85a8155816832af2": {
      "model_module": "@jupyter-widgets/controls",
      "model_module_version": "1.0.0",
      "model_name": "DescriptionStyleModel",
      "state": {
       "description_width": ""
      }
     },
     "a22bd6cc4a9d4520b120a70699ec0062": {
      "model_module": "@jupyter-widgets/base",
      "model_module_version": "1.0.0",
      "model_name": "LayoutModel",
      "state": {}
     },
     "a40bb801418947d58374622819463007": {
      "model_module": "@jupyter-widgets/controls",
      "model_module_version": "1.0.0",
      "model_name": "HTMLModel",
      "state": {
       "layout": "IPY_MODEL_4cdf4434072240aa881ceacbdab3817f",
       "style": "IPY_MODEL_3636ebc538c34ca2b56a62351ff2945c",
       "value": " 40% 4/10 [01:10&lt;01:45, 17.51s/it]"
      }
     },
     "ab979ce0959d43869b2dad2ec6e0e4e8": {
      "model_module": "@jupyter-widgets/controls",
      "model_module_version": "1.0.0",
      "model_name": "HBoxModel",
      "state": {
       "children": [
        "IPY_MODEL_6200af066ed84127ba1dc45440b50fbb",
        "IPY_MODEL_77d7b5466d9a4bfdbe9254299299fd11"
       ],
       "layout": "IPY_MODEL_f53dce5170944d1a8268673a2ed80a3d"
      }
     },
     "b176dbe197764c54a9307f32caf38ff9": {
      "model_module": "@jupyter-widgets/base",
      "model_module_version": "1.0.0",
      "model_name": "LayoutModel",
      "state": {}
     },
     "b9cc0fa8ace54790b65b4c80c7c5becb": {
      "model_module": "@jupyter-widgets/controls",
      "model_module_version": "1.0.0",
      "model_name": "ProgressStyleModel",
      "state": {
       "description_width": ""
      }
     },
     "bf87c813d63a4929badd9b0e6d952668": {
      "model_module": "@jupyter-widgets/base",
      "model_module_version": "1.0.0",
      "model_name": "LayoutModel",
      "state": {}
     },
     "c14c9c958de744608c86eff70b9b24b3": {
      "model_module": "@jupyter-widgets/base",
      "model_module_version": "1.0.0",
      "model_name": "LayoutModel",
      "state": {}
     },
     "c487924f7ae1422c803cf9210180a0af": {
      "model_module": "@jupyter-widgets/controls",
      "model_module_version": "1.0.0",
      "model_name": "ProgressStyleModel",
      "state": {
       "description_width": ""
      }
     },
     "c78977d8896740f0aac8254f418c8055": {
      "model_module": "@jupyter-widgets/controls",
      "model_module_version": "1.0.0",
      "model_name": "DescriptionStyleModel",
      "state": {
       "description_width": ""
      }
     },
     "cd7b145bf0de496e890be8654824cd5a": {
      "model_module": "@jupyter-widgets/base",
      "model_module_version": "1.0.0",
      "model_name": "LayoutModel",
      "state": {}
     },
     "d28f10978b4e4858a9d6dd2003ac43b3": {
      "model_module": "@jupyter-widgets/base",
      "model_module_version": "1.0.0",
      "model_name": "LayoutModel",
      "state": {}
     },
     "d6237ce216e54851bf84effc5a0d5174": {
      "model_module": "@jupyter-widgets/controls",
      "model_module_version": "1.0.0",
      "model_name": "ProgressStyleModel",
      "state": {
       "description_width": ""
      }
     },
     "db5ad5cb3b784c05b730d015beaa3641": {
      "model_module": "@jupyter-widgets/base",
      "model_module_version": "1.0.0",
      "model_name": "LayoutModel",
      "state": {}
     },
     "dcc75ef270fa470bbd286cba4d1eab24": {
      "model_module": "@jupyter-widgets/controls",
      "model_module_version": "1.0.0",
      "model_name": "IntProgressModel",
      "state": {
       "bar_style": "success",
       "layout": "IPY_MODEL_54782b1e83b742988899e0f40cd5de74",
       "max": 10,
       "style": "IPY_MODEL_47f8427a77674de699e769f156bfaadc",
       "value": 10
      }
     },
     "e192f31099ec46be9daa447e3cb3459b": {
      "model_module": "@jupyter-widgets/controls",
      "model_module_version": "1.0.0",
      "model_name": "HBoxModel",
      "state": {
       "children": [
        "IPY_MODEL_396f0db695cf4e14a08e042257a2c086",
        "IPY_MODEL_a40bb801418947d58374622819463007"
       ],
       "layout": "IPY_MODEL_5cbdac65cdfc4e3f802ab28f1d63df82"
      }
     },
     "e3914e7ecb7e40caa1ff03907f708f4e": {
      "model_module": "@jupyter-widgets/controls",
      "model_module_version": "1.0.0",
      "model_name": "IntProgressModel",
      "state": {
       "bar_style": "success",
       "layout": "IPY_MODEL_a22bd6cc4a9d4520b120a70699ec0062",
       "max": 10,
       "style": "IPY_MODEL_d6237ce216e54851bf84effc5a0d5174",
       "value": 10
      }
     },
     "e72ccf5c31d44c14954d60de96bbccf7": {
      "model_module": "@jupyter-widgets/controls",
      "model_module_version": "1.0.0",
      "model_name": "HTMLModel",
      "state": {
       "layout": "IPY_MODEL_bf87c813d63a4929badd9b0e6d952668",
       "style": "IPY_MODEL_a149bb510333423d85a8155816832af2",
       "value": " 40% 4/10 [01:11&lt;01:46, 17.80s/it]"
      }
     },
     "e965c3e0aa5048658cc8e3fcc3667d3c": {
      "model_module": "@jupyter-widgets/controls",
      "model_module_version": "1.0.0",
      "model_name": "HBoxModel",
      "state": {
       "children": [
        "IPY_MODEL_dcc75ef270fa470bbd286cba4d1eab24",
        "IPY_MODEL_3597487215904a158234f248b68c5f4e"
       ],
       "layout": "IPY_MODEL_cd7b145bf0de496e890be8654824cd5a"
      }
     },
     "eb8c360920fc4e389d3eab7842997430": {
      "model_module": "@jupyter-widgets/controls",
      "model_module_version": "1.0.0",
      "model_name": "DescriptionStyleModel",
      "state": {
       "description_width": ""
      }
     },
     "f17ed4a5f9194692a8b1a78982eff104": {
      "model_module": "@jupyter-widgets/controls",
      "model_module_version": "1.0.0",
      "model_name": "DescriptionStyleModel",
      "state": {
       "description_width": ""
      }
     },
     "f53dce5170944d1a8268673a2ed80a3d": {
      "model_module": "@jupyter-widgets/base",
      "model_module_version": "1.0.0",
      "model_name": "LayoutModel",
      "state": {}
     },
     "f8ba6c9cc68c44bf9a20f08c40992542": {
      "model_module": "@jupyter-widgets/controls",
      "model_module_version": "1.0.0",
      "model_name": "HBoxModel",
      "state": {
       "children": [
        "IPY_MODEL_4eab3ef9ab5c4fc9bcf183e2e1e9ba6d",
        "IPY_MODEL_e72ccf5c31d44c14954d60de96bbccf7"
       ],
       "layout": "IPY_MODEL_db5ad5cb3b784c05b730d015beaa3641"
      }
     },
     "f90fada6bee54cbd9d6ac9fe57c0e7bf": {
      "model_module": "@jupyter-widgets/controls",
      "model_module_version": "1.0.0",
      "model_name": "HBoxModel",
      "state": {
       "children": [
        "IPY_MODEL_19071b2635644ee697ec7fa01cfb6a63",
        "IPY_MODEL_5f8195086fca4981bcf5e6f7a244a1f8"
       ],
       "layout": "IPY_MODEL_63b71294368e4588b7288d4746f00773"
      }
     },
     "f91ffd5998904ae88bdef760fb77ef56": {
      "model_module": "@jupyter-widgets/base",
      "model_module_version": "1.0.0",
      "model_name": "LayoutModel",
      "state": {}
     },
     "f934214e9b824d4bb84a2e5d0a1cea4e": {
      "model_module": "@jupyter-widgets/controls",
      "model_module_version": "1.0.0",
      "model_name": "HBoxModel",
      "state": {
       "children": [
        "IPY_MODEL_9e2b51a322b44ee69c79687439e26bc8",
        "IPY_MODEL_812ecfdaef034d109f2abca476509dbf"
       ],
       "layout": "IPY_MODEL_6a4a29ed03d543bcb559ec9bfda36fc4"
      }
     },
     "fb82970841f34eb4a1b2e596c385b961": {
      "model_module": "@jupyter-widgets/controls",
      "model_module_version": "1.0.0",
      "model_name": "IntProgressModel",
      "state": {
       "bar_style": "success",
       "layout": "IPY_MODEL_29e6cab2f1df4d2381e5399abf2a6b96",
       "max": 10,
       "style": "IPY_MODEL_b9cc0fa8ace54790b65b4c80c7c5becb",
       "value": 10
      }
     }
    },
    "version_major": 2,
    "version_minor": 0
   }
  }
 },
 "nbformat": 4,
 "nbformat_minor": 2
}