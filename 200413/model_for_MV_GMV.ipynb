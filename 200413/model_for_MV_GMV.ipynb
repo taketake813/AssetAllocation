{
 "cells": [
  {
   "cell_type": "code",
   "execution_count": 1,
   "metadata": {},
   "outputs": [],
   "source": [
    "import sys\n",
    "import os\n",
    "import pandas as pd\n",
    "import numpy as np\n",
    "import talib as ta\n",
    "import torch\n",
    "from torch.autograd import Variable\n",
    "import torch.nn as nn\n",
    "import torch.nn.functional as F\n",
    "import torch.optim as optim\n",
    "from sklearn import preprocessing\n",
    "scaler = preprocessing.StandardScaler()\n",
    "import matplotlib.pyplot as plt\n",
    "import datetime\n",
    "import random\n",
    "\n",
    "from pypfopt import expected_returns, risk_models\n",
    "from pypfopt import EfficientFrontier\n",
    "from pypfopt import HRPOpt"
   ]
  },
  {
   "cell_type": "code",
   "execution_count": 17,
   "metadata": {},
   "outputs": [],
   "source": [
    "# dataset = pd.read_csv('./IndexData.csv').set_index('Date')\n",
    "dataset = pd.read_excel('./Bloomberg_DRL.xlsx', sheet_name = 'Data',index_col='Date')\n",
    "dataset['UST_JPY'] = dataset['SPBDU10T Index'] * dataset['JPY BGN Curncy']\n",
    "dataset['SPX_JPY'] = dataset['SPXT Index'] * dataset['JPY BGN Curncy']"
   ]
  },
  {
   "cell_type": "code",
   "execution_count": 18,
   "metadata": {},
   "outputs": [],
   "source": [
    "target_name = ['UST_JPY', 'SPX_JPY', 'TPXDDVD Index', 'SPJGBTR Index']\n",
    "feature_name = dataset.columns.drop(target_name)"
   ]
  },
  {
   "cell_type": "code",
   "execution_count": 19,
   "metadata": {},
   "outputs": [
    {
     "output_type": "execute_result",
     "data": {
      "text/plain": "                     SPX Index  SX5E Index  TPX Index  MXEF Index  \\\nDate                                                                \nCode                      1.00        1.00       1.00        1.00   \n2003-01-03 00:00:00     908.59     2502.19     843.29      299.98   \n2003-01-10 00:00:00     927.57     2489.01     837.70      302.86   \n2003-01-17 00:00:00     901.78     2390.36     859.25      301.96   \n2003-01-24 00:00:00     861.40     2234.56     861.36      293.90   \n\n                     SHCOMP Index  HSI Index  ASX Index  JPY BGN Curncy  \\\nDate                                                                      \nCode                        1.000       1.00       1.00            1.00   \n2003-01-03 00:00:00      1319.868    9583.85    1923.75          119.63   \n2003-01-10 00:00:00      1384.859    9721.50    1911.39          119.32   \n2003-01-17 00:00:00      1478.675    9614.59    1844.77          117.83   \n2003-01-24 00:00:00      1479.070    9460.60    1749.49          117.82   \n\n                     EUR BGN Curncy  GBP BGN Curncy  ...  IMM3CNCN Index  \\\nDate                                                 ...                   \nCode                         1.0000          1.0000  ...               3   \n2003-01-03 00:00:00          1.0428          1.6113  ...           11519   \n2003-01-10 00:00:00          1.0576          1.6076  ...           13131   \n2003-01-17 00:00:00          1.0678          1.6131  ...           24982   \n2003-01-24 00:00:00          1.0827          1.6333  ...           31985   \n\n                     CESIEM Index  CESIJPY Index  CESIGL Index  \\\nDate                                                             \nCode                          3.0            3.0           3.0   \n2003-01-03 00:00:00          20.2          -11.8           4.4   \n2003-01-10 00:00:00          19.3           -4.2           3.6   \n2003-01-17 00:00:00          15.4           -6.5           2.3   \n2003-01-24 00:00:00          10.8          -13.6           9.1   \n\n                     SPBDU10T Index  SPXT Index  TPXDDVD Index  SPJGBTR Index  \\\nDate                                                                            \nCode                          1.000        1.00           1.00           1.00   \n2003-01-03 00:00:00         296.102     1302.55         942.45         124.04   \n2003-01-10 00:00:00         294.035     1330.29         936.20         123.82   \n2003-01-17 00:00:00         296.949     1293.63         960.29         124.34   \n2003-01-24 00:00:00         299.355     1235.84         962.65         124.61   \n\n                         UST_JPY      SPX_JPY  \nDate                                           \nCode                     1.00000       1.0000  \n2003-01-03 00:00:00  35422.68226  155824.0565  \n2003-01-10 00:00:00  35084.25620  158730.2028  \n2003-01-17 00:00:00  34989.50067  152428.4229  \n2003-01-24 00:00:00  35270.00610  145606.6688  \n\n[5 rows x 55 columns]",
      "text/html": "<div>\n<style scoped>\n    .dataframe tbody tr th:only-of-type {\n        vertical-align: middle;\n    }\n\n    .dataframe tbody tr th {\n        vertical-align: top;\n    }\n\n    .dataframe thead th {\n        text-align: right;\n    }\n</style>\n<table border=\"1\" class=\"dataframe\">\n  <thead>\n    <tr style=\"text-align: right;\">\n      <th></th>\n      <th>SPX Index</th>\n      <th>SX5E Index</th>\n      <th>TPX Index</th>\n      <th>MXEF Index</th>\n      <th>SHCOMP Index</th>\n      <th>HSI Index</th>\n      <th>ASX Index</th>\n      <th>JPY BGN Curncy</th>\n      <th>EUR BGN Curncy</th>\n      <th>GBP BGN Curncy</th>\n      <th>...</th>\n      <th>IMM3CNCN Index</th>\n      <th>CESIEM Index</th>\n      <th>CESIJPY Index</th>\n      <th>CESIGL Index</th>\n      <th>SPBDU10T Index</th>\n      <th>SPXT Index</th>\n      <th>TPXDDVD Index</th>\n      <th>SPJGBTR Index</th>\n      <th>UST_JPY</th>\n      <th>SPX_JPY</th>\n    </tr>\n    <tr>\n      <th>Date</th>\n      <th></th>\n      <th></th>\n      <th></th>\n      <th></th>\n      <th></th>\n      <th></th>\n      <th></th>\n      <th></th>\n      <th></th>\n      <th></th>\n      <th></th>\n      <th></th>\n      <th></th>\n      <th></th>\n      <th></th>\n      <th></th>\n      <th></th>\n      <th></th>\n      <th></th>\n      <th></th>\n      <th></th>\n    </tr>\n  </thead>\n  <tbody>\n    <tr>\n      <th>Code</th>\n      <td>1.00</td>\n      <td>1.00</td>\n      <td>1.00</td>\n      <td>1.00</td>\n      <td>1.000</td>\n      <td>1.00</td>\n      <td>1.00</td>\n      <td>1.00</td>\n      <td>1.0000</td>\n      <td>1.0000</td>\n      <td>...</td>\n      <td>3</td>\n      <td>3.0</td>\n      <td>3.0</td>\n      <td>3.0</td>\n      <td>1.000</td>\n      <td>1.00</td>\n      <td>1.00</td>\n      <td>1.00</td>\n      <td>1.00000</td>\n      <td>1.0000</td>\n    </tr>\n    <tr>\n      <th>2003-01-03 00:00:00</th>\n      <td>908.59</td>\n      <td>2502.19</td>\n      <td>843.29</td>\n      <td>299.98</td>\n      <td>1319.868</td>\n      <td>9583.85</td>\n      <td>1923.75</td>\n      <td>119.63</td>\n      <td>1.0428</td>\n      <td>1.6113</td>\n      <td>...</td>\n      <td>11519</td>\n      <td>20.2</td>\n      <td>-11.8</td>\n      <td>4.4</td>\n      <td>296.102</td>\n      <td>1302.55</td>\n      <td>942.45</td>\n      <td>124.04</td>\n      <td>35422.68226</td>\n      <td>155824.0565</td>\n    </tr>\n    <tr>\n      <th>2003-01-10 00:00:00</th>\n      <td>927.57</td>\n      <td>2489.01</td>\n      <td>837.70</td>\n      <td>302.86</td>\n      <td>1384.859</td>\n      <td>9721.50</td>\n      <td>1911.39</td>\n      <td>119.32</td>\n      <td>1.0576</td>\n      <td>1.6076</td>\n      <td>...</td>\n      <td>13131</td>\n      <td>19.3</td>\n      <td>-4.2</td>\n      <td>3.6</td>\n      <td>294.035</td>\n      <td>1330.29</td>\n      <td>936.20</td>\n      <td>123.82</td>\n      <td>35084.25620</td>\n      <td>158730.2028</td>\n    </tr>\n    <tr>\n      <th>2003-01-17 00:00:00</th>\n      <td>901.78</td>\n      <td>2390.36</td>\n      <td>859.25</td>\n      <td>301.96</td>\n      <td>1478.675</td>\n      <td>9614.59</td>\n      <td>1844.77</td>\n      <td>117.83</td>\n      <td>1.0678</td>\n      <td>1.6131</td>\n      <td>...</td>\n      <td>24982</td>\n      <td>15.4</td>\n      <td>-6.5</td>\n      <td>2.3</td>\n      <td>296.949</td>\n      <td>1293.63</td>\n      <td>960.29</td>\n      <td>124.34</td>\n      <td>34989.50067</td>\n      <td>152428.4229</td>\n    </tr>\n    <tr>\n      <th>2003-01-24 00:00:00</th>\n      <td>861.40</td>\n      <td>2234.56</td>\n      <td>861.36</td>\n      <td>293.90</td>\n      <td>1479.070</td>\n      <td>9460.60</td>\n      <td>1749.49</td>\n      <td>117.82</td>\n      <td>1.0827</td>\n      <td>1.6333</td>\n      <td>...</td>\n      <td>31985</td>\n      <td>10.8</td>\n      <td>-13.6</td>\n      <td>9.1</td>\n      <td>299.355</td>\n      <td>1235.84</td>\n      <td>962.65</td>\n      <td>124.61</td>\n      <td>35270.00610</td>\n      <td>145606.6688</td>\n    </tr>\n  </tbody>\n</table>\n<p>5 rows × 55 columns</p>\n</div>"
     },
     "metadata": {},
     "execution_count": 19
    }
   ],
   "source": [
    "dataset.head()"
   ]
  },
  {
   "cell_type": "code",
   "execution_count": 20,
   "metadata": {},
   "outputs": [],
   "source": [
    "window = 52 * 3\n",
    "StartDate = pd.to_datetime(datetime.datetime(2006, 12, 29)) - pd.offsets.Week(window)\n",
    "EndDate = pd.to_datetime(datetime.datetime(2019, 12, 31)) \n",
    "# dataset = dataset[1:]\n",
    "# dataset.index = pd.to_datetime(dataset.index)\n",
    "# dataset = dataset[dataset.index.weekday==4]\n",
    "df_data = dataset[target_name][1:][StartDate:EndDate]"
   ]
  },
  {
   "cell_type": "code",
   "execution_count": 21,
   "metadata": {},
   "outputs": [
    {
     "output_type": "execute_result",
     "data": {
      "text/plain": "                         UST_JPY      SPX_JPY  TPXDDVD Index  SPJGBTR Index\nDate                                                                       \n2004-01-02 00:00:00  32546.88236  173228.4330        1179.90         122.62\n2004-01-09 00:00:00  33137.58360  174953.3520        1204.88         122.82\n2004-01-16 00:00:00  33242.22239  177493.0991        1197.19         123.67\n2004-01-23 00:00:00  33180.46200  177980.0050        1217.49         123.36\n2004-01-30 00:00:00  32715.13080  174710.0883        1184.26         123.69",
      "text/html": "<div>\n<style scoped>\n    .dataframe tbody tr th:only-of-type {\n        vertical-align: middle;\n    }\n\n    .dataframe tbody tr th {\n        vertical-align: top;\n    }\n\n    .dataframe thead th {\n        text-align: right;\n    }\n</style>\n<table border=\"1\" class=\"dataframe\">\n  <thead>\n    <tr style=\"text-align: right;\">\n      <th></th>\n      <th>UST_JPY</th>\n      <th>SPX_JPY</th>\n      <th>TPXDDVD Index</th>\n      <th>SPJGBTR Index</th>\n    </tr>\n    <tr>\n      <th>Date</th>\n      <th></th>\n      <th></th>\n      <th></th>\n      <th></th>\n    </tr>\n  </thead>\n  <tbody>\n    <tr>\n      <th>2004-01-02 00:00:00</th>\n      <td>32546.88236</td>\n      <td>173228.4330</td>\n      <td>1179.90</td>\n      <td>122.62</td>\n    </tr>\n    <tr>\n      <th>2004-01-09 00:00:00</th>\n      <td>33137.58360</td>\n      <td>174953.3520</td>\n      <td>1204.88</td>\n      <td>122.82</td>\n    </tr>\n    <tr>\n      <th>2004-01-16 00:00:00</th>\n      <td>33242.22239</td>\n      <td>177493.0991</td>\n      <td>1197.19</td>\n      <td>123.67</td>\n    </tr>\n    <tr>\n      <th>2004-01-23 00:00:00</th>\n      <td>33180.46200</td>\n      <td>177980.0050</td>\n      <td>1217.49</td>\n      <td>123.36</td>\n    </tr>\n    <tr>\n      <th>2004-01-30 00:00:00</th>\n      <td>32715.13080</td>\n      <td>174710.0883</td>\n      <td>1184.26</td>\n      <td>123.69</td>\n    </tr>\n  </tbody>\n</table>\n</div>"
     },
     "metadata": {},
     "execution_count": 21
    }
   ],
   "source": [
    "df_data.head()"
   ]
  },
  {
   "cell_type": "code",
   "execution_count": 22,
   "metadata": {},
   "outputs": [
    {
     "output_type": "execute_result",
     "data": {
      "text/plain": "{'UST_JPY': 0.0182545735719728,\n 'SPX_JPY': 0.0129130509990589,\n 'TPXDDVD Index': 0.0441875416387381,\n 'SPJGBTR Index': 0.9246448337902302}"
     },
     "metadata": {},
     "execution_count": 22
    }
   ],
   "source": [
    "mu = expected_returns.mean_historical_return(df_data, frequency=50)\n",
    "S = risk_models.sample_cov(df_data)\n",
    "ef = EfficientFrontier(mu, S)\n",
    "ef.min_volatility()"
   ]
  },
  {
   "cell_type": "code",
   "execution_count": 23,
   "metadata": {},
   "outputs": [
    {
     "output_type": "execute_result",
     "data": {
      "text/plain": "{'UST_JPY': 0.359672401012882,\n 'SPX_JPY': 0.2296631891092218,\n 'TPXDDVD Index': 0.0,\n 'SPJGBTR Index': 0.410664409877896}"
     },
     "metadata": {},
     "execution_count": 23
    }
   ],
   "source": [
    "ef.efficient_return(target_return=0.05)"
   ]
  },
  {
   "cell_type": "code",
   "execution_count": 24,
   "metadata": {},
   "outputs": [
    {
     "output_type": "stream",
     "name": "stdout",
     "text": "UST_JPY          0.050222\nSPX_JPY          0.107719\nTPXDDVD Index    0.066975\nSPJGBTR Index    0.017527\ndtype: float64\n"
    },
    {
     "output_type": "execute_result",
     "data": {
      "text/plain": "                UST_JPY   SPX_JPY  TPXDDVD Index  SPJGBTR Index\nUST_JPY        0.036678  0.038779       0.027503       0.000156\nSPX_JPY        0.038779  0.221957       0.136424      -0.007649\nTPXDDVD Index  0.027503  0.136424       0.184611      -0.008534\nSPJGBTR Index  0.000156 -0.007649      -0.008534       0.003248",
      "text/html": "<div>\n<style scoped>\n    .dataframe tbody tr th:only-of-type {\n        vertical-align: middle;\n    }\n\n    .dataframe tbody tr th {\n        vertical-align: top;\n    }\n\n    .dataframe thead th {\n        text-align: right;\n    }\n</style>\n<table border=\"1\" class=\"dataframe\">\n  <thead>\n    <tr style=\"text-align: right;\">\n      <th></th>\n      <th>UST_JPY</th>\n      <th>SPX_JPY</th>\n      <th>TPXDDVD Index</th>\n      <th>SPJGBTR Index</th>\n    </tr>\n  </thead>\n  <tbody>\n    <tr>\n      <th>UST_JPY</th>\n      <td>0.036678</td>\n      <td>0.038779</td>\n      <td>0.027503</td>\n      <td>0.000156</td>\n    </tr>\n    <tr>\n      <th>SPX_JPY</th>\n      <td>0.038779</td>\n      <td>0.221957</td>\n      <td>0.136424</td>\n      <td>-0.007649</td>\n    </tr>\n    <tr>\n      <th>TPXDDVD Index</th>\n      <td>0.027503</td>\n      <td>0.136424</td>\n      <td>0.184611</td>\n      <td>-0.008534</td>\n    </tr>\n    <tr>\n      <th>SPJGBTR Index</th>\n      <td>0.000156</td>\n      <td>-0.007649</td>\n      <td>-0.008534</td>\n      <td>0.003248</td>\n    </tr>\n  </tbody>\n</table>\n</div>"
     },
     "metadata": {},
     "execution_count": 24
    }
   ],
   "source": [
    "print(mu)\n",
    "S"
   ]
  },
  {
   "cell_type": "code",
   "execution_count": 25,
   "metadata": {},
   "outputs": [
    {
     "output_type": "execute_result",
     "data": {
      "text/plain": "UST_JPY          0.050222\nSPX_JPY          0.107719\nTPXDDVD Index    0.066975\nSPJGBTR Index    0.017527\ndtype: float64"
     },
     "metadata": {},
     "execution_count": 25
    }
   ],
   "source": [
    "df_data.pct_change().mean(axis=0)*50"
   ]
  },
  {
   "cell_type": "code",
   "execution_count": 26,
   "metadata": {},
   "outputs": [
    {
     "output_type": "execute_result",
     "data": {
      "text/plain": "{'UST_JPY': 0.1305104808244413,\n 'SPX_JPY': 0.0897910251988108,\n 'TPXDDVD Index': 0.0174895030495256,\n 'SPJGBTR Index': 0.7622089909272224}"
     },
     "metadata": {},
     "execution_count": 26
    }
   ],
   "source": [
    "ef.max_sharpe(risk_free_rate=0.01)"
   ]
  },
  {
   "cell_type": "code",
   "execution_count": 45,
   "metadata": {
    "tags": [
     "outputPrepend",
     "outputPrepend",
     "outputPrepend",
     "outputPrepend",
     "outputPrepend",
     "outputPrepend",
     "outputPrepend",
     "outputPrepend",
     "outputPrepend",
     "outputPrepend",
     "outputPrepend",
     "outputPrepend",
     "outputPrepend",
     "outputPrepend",
     "outputPrepend",
     "outputPrepend",
     "outputPrepend",
     "outputPrepend",
     "outputPrepend",
     "outputPrepend",
     "outputPrepend",
     "outputPrepend",
     "outputPrepend",
     "outputPrepend",
     "outputPrepend",
     "outputPrepend",
     "outputPrepend",
     "outputPrepend",
     "outputPrepend",
     "outputPrepend",
     "outputPrepend",
     "outputPrepend",
     "outputPrepend",
     "outputPrepend",
     "outputPrepend",
     "outputPrepend",
     "outputPrepend",
     "outputPrepend",
     "outputPrepend",
     "outputPrepend",
     "outputPrepend",
     "outputPrepend",
     "outputPrepend",
     "outputPrepend",
     "outputPrepend",
     "outputPrepend",
     "outputPrepend",
     "outputPrepend",
     "outputPrepend",
     "outputPrepend",
     "outputPrepend",
     "outputPrepend",
     "outputPrepend",
     "outputPrepend",
     "outputPrepend",
     "outputPrepend",
     "outputPrepend",
     "outputPrepend",
     "outputPrepend",
     "outputPrepend",
     "outputPrepend",
     "outputPrepend",
     "outputPrepend",
     "outputPrepend",
     "outputPrepend",
     "outputPrepend",
     "outputPrepend",
     "outputPrepend",
     "outputPrepend",
     "outputPrepend",
     "outputPrepend",
     "outputPrepend",
     "outputPrepend",
     "outputPrepend",
     "outputPrepend",
     "outputPrepend",
     "outputPrepend",
     "outputPrepend",
     "outputPrepend",
     "outputPrepend",
     "outputPrepend",
     "outputPrepend",
     "outputPrepend",
     "outputPrepend",
     "outputPrepend",
     "outputPrepend",
     "outputPrepend",
     "outputPrepend",
     "outputPrepend",
     "outputPrepend",
     "outputPrepend",
     "outputPrepend",
     "outputPrepend",
     "outputPrepend",
     "outputPrepend",
     "outputPrepend",
     "outputPrepend",
     "outputPrepend",
     "outputPrepend",
     "outputPrepend",
     "outputPrepend",
     "outputPrepend",
     "outputPrepend",
     "outputPrepend",
     "outputPrepend",
     "outputPrepend",
     "outputPrepend",
     "outputPrepend",
     "outputPrepend",
     "outputPrepend",
     "outputPrepend",
     "outputPrepend",
     "outputPrepend",
     "outputPrepend",
     "outputPrepend",
     "outputPrepend",
     "outputPrepend",
     "outputPrepend",
     "outputPrepend",
     "outputPrepend",
     "outputPrepend",
     "outputPrepend",
     "outputPrepend",
     "outputPrepend",
     "outputPrepend",
     "outputPrepend",
     "outputPrepend",
     "outputPrepend",
     "outputPrepend",
     "outputPrepend",
     "outputPrepend",
     "outputPrepend",
     "outputPrepend",
     "outputPrepend",
     "outputPrepend",
     "outputPrepend",
     "outputPrepend",
     "outputPrepend",
     "outputPrepend",
     "outputPrepend",
     "outputPrepend",
     "outputPrepend"
    ]
   },
   "outputs": [],
   "source": [
    "weight = []\n",
    "for w in range(1, len(df_data)-window): # 時点注意\n",
    "    mu = expected_returns.mean_historical_return(df_data[w:w+window], frequency=52)\n",
    "    S = risk_models.sample_cov(df_data[w:w+window])\n",
    "    ef = EfficientFrontier(mu, S)\n",
    "    weight.append(ef.min_volatility())\n",
    "\n",
    "weight_df = pd.DataFrame([], columns=weight[0].keys())\n",
    "weight_df = pd.concat([weight_df, pd.DataFrame.from_dict(weight)])\n",
    "weight_df.index = df_data[window:-1].index\n",
    "weight_df.to_csv('weight_GMV.csv')"
   ]
  },
  {
   "cell_type": "code",
   "execution_count": 46,
   "metadata": {},
   "outputs": [
    {
     "output_type": "execute_result",
     "data": {
      "text/plain": "                     UST_JPY   SPX_JPY  TPXDDVD Index  SPJGBTR Index\nDate                                                                \n2019-11-22 00:00:00      0.0  0.002288       0.039547       0.958165\n2019-11-29 00:00:00      0.0  0.002925       0.039517       0.957558\n2019-12-06 00:00:00      0.0  0.000205       0.041697       0.958098\n2019-12-13 00:00:00      0.0  0.000233       0.041584       0.958183\n2019-12-20 00:00:00      0.0  0.002299       0.039201       0.958500",
      "text/html": "<div>\n<style scoped>\n    .dataframe tbody tr th:only-of-type {\n        vertical-align: middle;\n    }\n\n    .dataframe tbody tr th {\n        vertical-align: top;\n    }\n\n    .dataframe thead th {\n        text-align: right;\n    }\n</style>\n<table border=\"1\" class=\"dataframe\">\n  <thead>\n    <tr style=\"text-align: right;\">\n      <th></th>\n      <th>UST_JPY</th>\n      <th>SPX_JPY</th>\n      <th>TPXDDVD Index</th>\n      <th>SPJGBTR Index</th>\n    </tr>\n    <tr>\n      <th>Date</th>\n      <th></th>\n      <th></th>\n      <th></th>\n      <th></th>\n    </tr>\n  </thead>\n  <tbody>\n    <tr>\n      <th>2019-11-22 00:00:00</th>\n      <td>0.0</td>\n      <td>0.002288</td>\n      <td>0.039547</td>\n      <td>0.958165</td>\n    </tr>\n    <tr>\n      <th>2019-11-29 00:00:00</th>\n      <td>0.0</td>\n      <td>0.002925</td>\n      <td>0.039517</td>\n      <td>0.957558</td>\n    </tr>\n    <tr>\n      <th>2019-12-06 00:00:00</th>\n      <td>0.0</td>\n      <td>0.000205</td>\n      <td>0.041697</td>\n      <td>0.958098</td>\n    </tr>\n    <tr>\n      <th>2019-12-13 00:00:00</th>\n      <td>0.0</td>\n      <td>0.000233</td>\n      <td>0.041584</td>\n      <td>0.958183</td>\n    </tr>\n    <tr>\n      <th>2019-12-20 00:00:00</th>\n      <td>0.0</td>\n      <td>0.002299</td>\n      <td>0.039201</td>\n      <td>0.958500</td>\n    </tr>\n  </tbody>\n</table>\n</div>"
     },
     "metadata": {},
     "execution_count": 46
    }
   ],
   "source": [
    "weight_df.tail()"
   ]
  },
  {
   "cell_type": "code",
   "execution_count": 47,
   "metadata": {},
   "outputs": [],
   "source": [
    "weight = []\n",
    "for w in range(1, len(df_data)-window): # 時点注意\n",
    "    mu = expected_returns.mean_historical_return(df_data[w:w+window], frequency=52)\n",
    "    S = risk_models.sample_cov(df_data[w:w+window])\n",
    "    ef = EfficientFrontier(mu, S)\n",
    "    weight.append(ef.max_sharpe(risk_free_rate=0.001))\n",
    "\n",
    "weight_df = pd.DataFrame([], columns=weight[0].keys())\n",
    "weight_df = pd.concat([weight_df, pd.DataFrame.from_dict(weight)])\n",
    "weight_df.index = df_data[window:-1].index\n",
    "weight_df.to_csv('weight_MaxSharpe.csv')"
   ]
  },
  {
   "cell_type": "code",
   "execution_count": 48,
   "metadata": {},
   "outputs": [],
   "source": [
    "weight = []\n",
    "for w in range(1, len(df_data)-window): # 時点注意\n",
    "    mu = expected_returns.mean_historical_return(df_data[w:w+window], frequency=52)\n",
    "    S = risk_models.sample_cov(df_data[w:w+window])\n",
    "    ef = EfficientFrontier(mu, S)\n",
    "    weight.append(ef.max_quadratic_utility(risk_aversion=5.0))\n",
    "\n",
    "weight_df = pd.DataFrame([], columns=weight[0].keys())\n",
    "weight_df = pd.concat([weight_df, pd.DataFrame.from_dict(weight)])\n",
    "weight_df.index = df_data[window:-1].index\n",
    "weight_df.to_csv('weight_MV.csv')"
   ]
  },
  {
   "cell_type": "code",
   "execution_count": 49,
   "metadata": {},
   "outputs": [],
   "source": [
    "weight = []\n",
    "df_data_pct = df_data.pct_change().dropna()\n",
    "for w in range(len(df_data)-window-1): # 時点注意(HRPだけ0スタート)\n",
    "    returns = df_data_pct[w:w+window]\n",
    "    hrp = HRPOpt(returns)\n",
    "    weight.append(hrp.optimize())\n",
    "\n",
    "weight_df = pd.DataFrame([], columns=weight[0].keys())\n",
    "weight_df = pd.concat([weight_df, pd.DataFrame.from_dict(weight)])\n",
    "weight_df.index = df_data[window:-1].index\n",
    "weight_df.to_csv('weight_HRP.csv')"
   ]
  },
  {
   "cell_type": "code",
   "execution_count": 59,
   "metadata": {
    "tags": [
     "outputPrepend",
     "outputPrepend",
     "outputPrepend",
     "outputPrepend",
     "outputPrepend",
     "outputPrepend",
     "outputPrepend",
     "outputPrepend",
     "outputPrepend",
     "outputPrepend",
     "outputPrepend",
     "outputPrepend",
     "outputPrepend",
     "outputPrepend",
     "outputPrepend",
     "outputPrepend",
     "outputPrepend",
     "outputPrepend",
     "outputPrepend",
     "outputPrepend",
     "outputPrepend",
     "outputPrepend",
     "outputPrepend",
     "outputPrepend",
     "outputPrepend",
     "outputPrepend",
     "outputPrepend",
     "outputPrepend",
     "outputPrepend",
     "outputPrepend",
     "outputPrepend",
     "outputPrepend",
     "outputPrepend",
     "outputPrepend",
     "outputPrepend",
     "outputPrepend",
     "outputPrepend",
     "outputPrepend",
     "outputPrepend",
     "outputPrepend",
     "outputPrepend",
     "outputPrepend",
     "outputPrepend",
     "outputPrepend",
     "outputPrepend",
     "outputPrepend",
     "outputPrepend",
     "outputPrepend",
     "outputPrepend",
     "outputPrepend",
     "outputPrepend",
     "outputPrepend",
     "outputPrepend",
     "outputPrepend",
     "outputPrepend",
     "outputPrepend",
     "outputPrepend",
     "outputPrepend",
     "outputPrepend",
     "outputPrepend",
     "outputPrepend"
    ]
   },
   "outputs": [],
   "source": [
    "weight = []\n",
    "for w in range(1, len(df_data)-window): # 時点注意\n",
    "    mu = expected_returns.mean_historical_return(df_data[w:w+window], frequency=52)\n",
    "    S = risk_models.sample_cov(df_data[w:w+window])\n",
    "    # print(w, mu, df_data.index[w+window])\n",
    "    ef = EfficientFrontier(mu, S)\n",
    "    try:\n",
    "        weight.append(ef.efficient_return(0.05, market_neutral=False))\n",
    "    except:\n",
    "        try:\n",
    "            weight.append(ef.efficient_return(0.03, market_neutral=False))\n",
    "        except:\n",
    "            weight.append(ef.efficient_return(0.01, market_neutral=False))\n",
    "\n",
    "weight_df = pd.DataFrame([], columns=weight[0].keys())\n",
    "weight_df = pd.concat([weight_df, pd.DataFrame.from_dict(weight)])\n",
    "weight_df.index = df_data[window:-1].index\n",
    "weight_df.to_csv('weight_TargetReturn.csv')"
   ]
  }
 ],
 "metadata": {
  "kernelspec": {
   "display_name": "Python 3",
   "language": "python",
   "name": "python3"
  },
  "language_info": {
   "codemirror_mode": {
    "name": "ipython",
    "version": 3
   },
   "file_extension": ".py",
   "mimetype": "text/x-python",
   "name": "python",
   "nbconvert_exporter": "python",
   "pygments_lexer": "ipython3",
   "version": "3.7.3-final"
  },
  "toc": {
   "nav_menu": {},
   "number_sections": true,
   "sideBar": true,
   "skip_h1_title": false,
   "toc_cell": false,
   "toc_position": {},
   "toc_section_display": "block",
   "toc_window_display": false
  },
  "widgets": {
   "application/vnd.jupyter.widget-state+json": {
    "state": {
     "02dc63d7b16c4b86a972c1391c143457": {
      "model_module": "@jupyter-widgets/controls",
      "model_module_version": "1.0.0",
      "model_name": "HBoxModel",
      "state": {
       "children": [
        "IPY_MODEL_e3914e7ecb7e40caa1ff03907f708f4e",
        "IPY_MODEL_390138f6c03641b0b4ef197479a0696c"
       ],
       "layout": "IPY_MODEL_3a717f1b0b424fb1b6f2c6712c02f20d"
      }
     },
     "0f8b46576dbf457baaee0c09b25b51bd": {
      "model_module": "@jupyter-widgets/base",
      "model_module_version": "1.0.0",
      "model_name": "LayoutModel",
      "state": {}
     },
     "19071b2635644ee697ec7fa01cfb6a63": {
      "model_module": "@jupyter-widgets/controls",
      "model_module_version": "1.0.0",
      "model_name": "IntProgressModel",
      "state": {
       "bar_style": "danger",
       "layout": "IPY_MODEL_41a1ed3953ba46558522f962796cc357",
       "max": 10,
       "style": "IPY_MODEL_a10fa46d1bbc4dc99213d833a82dd3d7"
      }
     },
     "1b49e3e3988a48ba831c3bdbe431ba2a": {
      "model_module": "@jupyter-widgets/controls",
      "model_module_version": "1.0.0",
      "model_name": "HBoxModel",
      "state": {
       "children": [
        "IPY_MODEL_fb82970841f34eb4a1b2e596c385b961",
        "IPY_MODEL_9c87d651527a48d9b9e8255ff13150a4"
       ],
       "layout": "IPY_MODEL_0f8b46576dbf457baaee0c09b25b51bd"
      }
     },
     "259d435a1556466aa46b84c7e2c4cf67": {
      "model_module": "@jupyter-widgets/controls",
      "model_module_version": "1.0.0",
      "model_name": "DescriptionStyleModel",
      "state": {
       "description_width": ""
      }
     },
     "29e6cab2f1df4d2381e5399abf2a6b96": {
      "model_module": "@jupyter-widgets/base",
      "model_module_version": "1.0.0",
      "model_name": "LayoutModel",
      "state": {}
     },
     "2e0ffd150c1d45d9af1e0a222f9cab04": {
      "model_module": "@jupyter-widgets/base",
      "model_module_version": "1.0.0",
      "model_name": "LayoutModel",
      "state": {}
     },
     "31b8389bc3c24276949edffa5a84e191": {
      "model_module": "@jupyter-widgets/base",
      "model_module_version": "1.0.0",
      "model_name": "LayoutModel",
      "state": {}
     },
     "3597487215904a158234f248b68c5f4e": {
      "model_module": "@jupyter-widgets/controls",
      "model_module_version": "1.0.0",
      "model_name": "HTMLModel",
      "state": {
       "layout": "IPY_MODEL_d28f10978b4e4858a9d6dd2003ac43b3",
       "style": "IPY_MODEL_c78977d8896740f0aac8254f418c8055",
       "value": "100% 10/10 [02:36&lt;00:00, 15.62s/it]"
      }
     },
     "3636ebc538c34ca2b56a62351ff2945c": {
      "model_module": "@jupyter-widgets/controls",
      "model_module_version": "1.0.0",
      "model_name": "DescriptionStyleModel",
      "state": {
       "description_width": ""
      }
     },
     "390138f6c03641b0b4ef197479a0696c": {
      "model_module": "@jupyter-widgets/controls",
      "model_module_version": "1.0.0",
      "model_name": "HTMLModel",
      "state": {
       "layout": "IPY_MODEL_f91ffd5998904ae88bdef760fb77ef56",
       "style": "IPY_MODEL_7fd23d0e8af543639b66a1f1b20e9b8b",
       "value": "100% 10/10 [02:31&lt;00:00, 15.19s/it]"
      }
     },
     "396f0db695cf4e14a08e042257a2c086": {
      "model_module": "@jupyter-widgets/controls",
      "model_module_version": "1.0.0",
      "model_name": "IntProgressModel",
      "state": {
       "bar_style": "danger",
       "layout": "IPY_MODEL_9a564185ad6347f080e890aa8c234d61",
       "max": 10,
       "style": "IPY_MODEL_3ddf51d6ca2e49ee99734bdef68ba3c3",
       "value": 4
      }
     },
     "3a717f1b0b424fb1b6f2c6712c02f20d": {
      "model_module": "@jupyter-widgets/base",
      "model_module_version": "1.0.0",
      "model_name": "LayoutModel",
      "state": {}
     },
     "3ddf51d6ca2e49ee99734bdef68ba3c3": {
      "model_module": "@jupyter-widgets/controls",
      "model_module_version": "1.0.0",
      "model_name": "ProgressStyleModel",
      "state": {
       "description_width": ""
      }
     },
     "41a1ed3953ba46558522f962796cc357": {
      "model_module": "@jupyter-widgets/base",
      "model_module_version": "1.0.0",
      "model_name": "LayoutModel",
      "state": {}
     },
     "4425cb683171444aa675ad8957918e1e": {
      "model_module": "@jupyter-widgets/base",
      "model_module_version": "1.0.0",
      "model_name": "LayoutModel",
      "state": {}
     },
     "47f8427a77674de699e769f156bfaadc": {
      "model_module": "@jupyter-widgets/controls",
      "model_module_version": "1.0.0",
      "model_name": "ProgressStyleModel",
      "state": {
       "description_width": ""
      }
     },
     "4cdf4434072240aa881ceacbdab3817f": {
      "model_module": "@jupyter-widgets/base",
      "model_module_version": "1.0.0",
      "model_name": "LayoutModel",
      "state": {}
     },
     "4eab3ef9ab5c4fc9bcf183e2e1e9ba6d": {
      "model_module": "@jupyter-widgets/controls",
      "model_module_version": "1.0.0",
      "model_name": "IntProgressModel",
      "state": {
       "bar_style": "danger",
       "layout": "IPY_MODEL_b176dbe197764c54a9307f32caf38ff9",
       "max": 10,
       "style": "IPY_MODEL_68591e99ee2b4a959b04945c4ca45c37",
       "value": 4
      }
     },
     "54782b1e83b742988899e0f40cd5de74": {
      "model_module": "@jupyter-widgets/base",
      "model_module_version": "1.0.0",
      "model_name": "LayoutModel",
      "state": {}
     },
     "5cbdac65cdfc4e3f802ab28f1d63df82": {
      "model_module": "@jupyter-widgets/base",
      "model_module_version": "1.0.0",
      "model_name": "LayoutModel",
      "state": {}
     },
     "5f8195086fca4981bcf5e6f7a244a1f8": {
      "model_module": "@jupyter-widgets/controls",
      "model_module_version": "1.0.0",
      "model_name": "HTMLModel",
      "state": {
       "layout": "IPY_MODEL_790d5997b10e4c3e9b213ed76129c86c",
       "style": "IPY_MODEL_259d435a1556466aa46b84c7e2c4cf67",
       "value": "  0% 0/10 [00:00&lt;?, ?it/s]"
      }
     },
     "6200af066ed84127ba1dc45440b50fbb": {
      "model_module": "@jupyter-widgets/controls",
      "model_module_version": "1.0.0",
      "model_name": "IntProgressModel",
      "state": {
       "bar_style": "danger",
       "layout": "IPY_MODEL_c14c9c958de744608c86eff70b9b24b3",
       "max": 10,
       "style": "IPY_MODEL_8f3b788cecc141b698c9d6b699233a1a"
      }
     },
     "63b71294368e4588b7288d4746f00773": {
      "model_module": "@jupyter-widgets/base",
      "model_module_version": "1.0.0",
      "model_name": "LayoutModel",
      "state": {}
     },
     "68591e99ee2b4a959b04945c4ca45c37": {
      "model_module": "@jupyter-widgets/controls",
      "model_module_version": "1.0.0",
      "model_name": "ProgressStyleModel",
      "state": {
       "description_width": ""
      }
     },
     "6a4a29ed03d543bcb559ec9bfda36fc4": {
      "model_module": "@jupyter-widgets/base",
      "model_module_version": "1.0.0",
      "model_name": "LayoutModel",
      "state": {}
     },
     "77d7b5466d9a4bfdbe9254299299fd11": {
      "model_module": "@jupyter-widgets/controls",
      "model_module_version": "1.0.0",
      "model_name": "HTMLModel",
      "state": {
       "layout": "IPY_MODEL_31b8389bc3c24276949edffa5a84e191",
       "style": "IPY_MODEL_f17ed4a5f9194692a8b1a78982eff104",
       "value": "  0% 0/10 [00:00&lt;?, ?it/s]"
      }
     },
     "790d5997b10e4c3e9b213ed76129c86c": {
      "model_module": "@jupyter-widgets/base",
      "model_module_version": "1.0.0",
      "model_name": "LayoutModel",
      "state": {}
     },
     "7fd23d0e8af543639b66a1f1b20e9b8b": {
      "model_module": "@jupyter-widgets/controls",
      "model_module_version": "1.0.0",
      "model_name": "DescriptionStyleModel",
      "state": {
       "description_width": ""
      }
     },
     "812ecfdaef034d109f2abca476509dbf": {
      "model_module": "@jupyter-widgets/controls",
      "model_module_version": "1.0.0",
      "model_name": "HTMLModel",
      "state": {
       "layout": "IPY_MODEL_4425cb683171444aa675ad8957918e1e",
       "style": "IPY_MODEL_992fe4c729fb4405bb15eddd6718218f",
       "value": " 20% 2/10 [00:35&lt;02:21, 17.69s/it]"
      }
     },
     "8f3b788cecc141b698c9d6b699233a1a": {
      "model_module": "@jupyter-widgets/controls",
      "model_module_version": "1.0.0",
      "model_name": "ProgressStyleModel",
      "state": {
       "description_width": ""
      }
     },
     "992fe4c729fb4405bb15eddd6718218f": {
      "model_module": "@jupyter-widgets/controls",
      "model_module_version": "1.0.0",
      "model_name": "DescriptionStyleModel",
      "state": {
       "description_width": ""
      }
     },
     "9a564185ad6347f080e890aa8c234d61": {
      "model_module": "@jupyter-widgets/base",
      "model_module_version": "1.0.0",
      "model_name": "LayoutModel",
      "state": {}
     },
     "9ba117a21a5f4c70bc12f9c517e95fec": {
      "model_module": "@jupyter-widgets/base",
      "model_module_version": "1.0.0",
      "model_name": "LayoutModel",
      "state": {}
     },
     "9c87d651527a48d9b9e8255ff13150a4": {
      "model_module": "@jupyter-widgets/controls",
      "model_module_version": "1.0.0",
      "model_name": "HTMLModel",
      "state": {
       "layout": "IPY_MODEL_9ba117a21a5f4c70bc12f9c517e95fec",
       "style": "IPY_MODEL_eb8c360920fc4e389d3eab7842997430",
       "value": "100% 10/10 [02:34&lt;00:00, 15.42s/it]"
      }
     },
     "9e2b51a322b44ee69c79687439e26bc8": {
      "model_module": "@jupyter-widgets/controls",
      "model_module_version": "1.0.0",
      "model_name": "IntProgressModel",
      "state": {
       "bar_style": "danger",
       "layout": "IPY_MODEL_2e0ffd150c1d45d9af1e0a222f9cab04",
       "max": 10,
       "style": "IPY_MODEL_c487924f7ae1422c803cf9210180a0af",
       "value": 2
      }
     },
     "a10fa46d1bbc4dc99213d833a82dd3d7": {
      "model_module": "@jupyter-widgets/controls",
      "model_module_version": "1.0.0",
      "model_name": "ProgressStyleModel",
      "state": {
       "description_width": ""
      }
     },
     "a149bb510333423d85a8155816832af2": {
      "model_module": "@jupyter-widgets/controls",
      "model_module_version": "1.0.0",
      "model_name": "DescriptionStyleModel",
      "state": {
       "description_width": ""
      }
     },
     "a22bd6cc4a9d4520b120a70699ec0062": {
      "model_module": "@jupyter-widgets/base",
      "model_module_version": "1.0.0",
      "model_name": "LayoutModel",
      "state": {}
     },
     "a40bb801418947d58374622819463007": {
      "model_module": "@jupyter-widgets/controls",
      "model_module_version": "1.0.0",
      "model_name": "HTMLModel",
      "state": {
       "layout": "IPY_MODEL_4cdf4434072240aa881ceacbdab3817f",
       "style": "IPY_MODEL_3636ebc538c34ca2b56a62351ff2945c",
       "value": " 40% 4/10 [01:10&lt;01:45, 17.51s/it]"
      }
     },
     "ab979ce0959d43869b2dad2ec6e0e4e8": {
      "model_module": "@jupyter-widgets/controls",
      "model_module_version": "1.0.0",
      "model_name": "HBoxModel",
      "state": {
       "children": [
        "IPY_MODEL_6200af066ed84127ba1dc45440b50fbb",
        "IPY_MODEL_77d7b5466d9a4bfdbe9254299299fd11"
       ],
       "layout": "IPY_MODEL_f53dce5170944d1a8268673a2ed80a3d"
      }
     },
     "b176dbe197764c54a9307f32caf38ff9": {
      "model_module": "@jupyter-widgets/base",
      "model_module_version": "1.0.0",
      "model_name": "LayoutModel",
      "state": {}
     },
     "b9cc0fa8ace54790b65b4c80c7c5becb": {
      "model_module": "@jupyter-widgets/controls",
      "model_module_version": "1.0.0",
      "model_name": "ProgressStyleModel",
      "state": {
       "description_width": ""
      }
     },
     "bf87c813d63a4929badd9b0e6d952668": {
      "model_module": "@jupyter-widgets/base",
      "model_module_version": "1.0.0",
      "model_name": "LayoutModel",
      "state": {}
     },
     "c14c9c958de744608c86eff70b9b24b3": {
      "model_module": "@jupyter-widgets/base",
      "model_module_version": "1.0.0",
      "model_name": "LayoutModel",
      "state": {}
     },
     "c487924f7ae1422c803cf9210180a0af": {
      "model_module": "@jupyter-widgets/controls",
      "model_module_version": "1.0.0",
      "model_name": "ProgressStyleModel",
      "state": {
       "description_width": ""
      }
     },
     "c78977d8896740f0aac8254f418c8055": {
      "model_module": "@jupyter-widgets/controls",
      "model_module_version": "1.0.0",
      "model_name": "DescriptionStyleModel",
      "state": {
       "description_width": ""
      }
     },
     "cd7b145bf0de496e890be8654824cd5a": {
      "model_module": "@jupyter-widgets/base",
      "model_module_version": "1.0.0",
      "model_name": "LayoutModel",
      "state": {}
     },
     "d28f10978b4e4858a9d6dd2003ac43b3": {
      "model_module": "@jupyter-widgets/base",
      "model_module_version": "1.0.0",
      "model_name": "LayoutModel",
      "state": {}
     },
     "d6237ce216e54851bf84effc5a0d5174": {
      "model_module": "@jupyter-widgets/controls",
      "model_module_version": "1.0.0",
      "model_name": "ProgressStyleModel",
      "state": {
       "description_width": ""
      }
     },
     "db5ad5cb3b784c05b730d015beaa3641": {
      "model_module": "@jupyter-widgets/base",
      "model_module_version": "1.0.0",
      "model_name": "LayoutModel",
      "state": {}
     },
     "dcc75ef270fa470bbd286cba4d1eab24": {
      "model_module": "@jupyter-widgets/controls",
      "model_module_version": "1.0.0",
      "model_name": "IntProgressModel",
      "state": {
       "bar_style": "success",
       "layout": "IPY_MODEL_54782b1e83b742988899e0f40cd5de74",
       "max": 10,
       "style": "IPY_MODEL_47f8427a77674de699e769f156bfaadc",
       "value": 10
      }
     },
     "e192f31099ec46be9daa447e3cb3459b": {
      "model_module": "@jupyter-widgets/controls",
      "model_module_version": "1.0.0",
      "model_name": "HBoxModel",
      "state": {
       "children": [
        "IPY_MODEL_396f0db695cf4e14a08e042257a2c086",
        "IPY_MODEL_a40bb801418947d58374622819463007"
       ],
       "layout": "IPY_MODEL_5cbdac65cdfc4e3f802ab28f1d63df82"
      }
     },
     "e3914e7ecb7e40caa1ff03907f708f4e": {
      "model_module": "@jupyter-widgets/controls",
      "model_module_version": "1.0.0",
      "model_name": "IntProgressModel",
      "state": {
       "bar_style": "success",
       "layout": "IPY_MODEL_a22bd6cc4a9d4520b120a70699ec0062",
       "max": 10,
       "style": "IPY_MODEL_d6237ce216e54851bf84effc5a0d5174",
       "value": 10
      }
     },
     "e72ccf5c31d44c14954d60de96bbccf7": {
      "model_module": "@jupyter-widgets/controls",
      "model_module_version": "1.0.0",
      "model_name": "HTMLModel",
      "state": {
       "layout": "IPY_MODEL_bf87c813d63a4929badd9b0e6d952668",
       "style": "IPY_MODEL_a149bb510333423d85a8155816832af2",
       "value": " 40% 4/10 [01:11&lt;01:46, 17.80s/it]"
      }
     },
     "e965c3e0aa5048658cc8e3fcc3667d3c": {
      "model_module": "@jupyter-widgets/controls",
      "model_module_version": "1.0.0",
      "model_name": "HBoxModel",
      "state": {
       "children": [
        "IPY_MODEL_dcc75ef270fa470bbd286cba4d1eab24",
        "IPY_MODEL_3597487215904a158234f248b68c5f4e"
       ],
       "layout": "IPY_MODEL_cd7b145bf0de496e890be8654824cd5a"
      }
     },
     "eb8c360920fc4e389d3eab7842997430": {
      "model_module": "@jupyter-widgets/controls",
      "model_module_version": "1.0.0",
      "model_name": "DescriptionStyleModel",
      "state": {
       "description_width": ""
      }
     },
     "f17ed4a5f9194692a8b1a78982eff104": {
      "model_module": "@jupyter-widgets/controls",
      "model_module_version": "1.0.0",
      "model_name": "DescriptionStyleModel",
      "state": {
       "description_width": ""
      }
     },
     "f53dce5170944d1a8268673a2ed80a3d": {
      "model_module": "@jupyter-widgets/base",
      "model_module_version": "1.0.0",
      "model_name": "LayoutModel",
      "state": {}
     },
     "f8ba6c9cc68c44bf9a20f08c40992542": {
      "model_module": "@jupyter-widgets/controls",
      "model_module_version": "1.0.0",
      "model_name": "HBoxModel",
      "state": {
       "children": [
        "IPY_MODEL_4eab3ef9ab5c4fc9bcf183e2e1e9ba6d",
        "IPY_MODEL_e72ccf5c31d44c14954d60de96bbccf7"
       ],
       "layout": "IPY_MODEL_db5ad5cb3b784c05b730d015beaa3641"
      }
     },
     "f90fada6bee54cbd9d6ac9fe57c0e7bf": {
      "model_module": "@jupyter-widgets/controls",
      "model_module_version": "1.0.0",
      "model_name": "HBoxModel",
      "state": {
       "children": [
        "IPY_MODEL_19071b2635644ee697ec7fa01cfb6a63",
        "IPY_MODEL_5f8195086fca4981bcf5e6f7a244a1f8"
       ],
       "layout": "IPY_MODEL_63b71294368e4588b7288d4746f00773"
      }
     },
     "f91ffd5998904ae88bdef760fb77ef56": {
      "model_module": "@jupyter-widgets/base",
      "model_module_version": "1.0.0",
      "model_name": "LayoutModel",
      "state": {}
     },
     "f934214e9b824d4bb84a2e5d0a1cea4e": {
      "model_module": "@jupyter-widgets/controls",
      "model_module_version": "1.0.0",
      "model_name": "HBoxModel",
      "state": {
       "children": [
        "IPY_MODEL_9e2b51a322b44ee69c79687439e26bc8",
        "IPY_MODEL_812ecfdaef034d109f2abca476509dbf"
       ],
       "layout": "IPY_MODEL_6a4a29ed03d543bcb559ec9bfda36fc4"
      }
     },
     "fb82970841f34eb4a1b2e596c385b961": {
      "model_module": "@jupyter-widgets/controls",
      "model_module_version": "1.0.0",
      "model_name": "IntProgressModel",
      "state": {
       "bar_style": "success",
       "layout": "IPY_MODEL_29e6cab2f1df4d2381e5399abf2a6b96",
       "max": 10,
       "style": "IPY_MODEL_b9cc0fa8ace54790b65b4c80c7c5becb",
       "value": 10
      }
     }
    },
    "version_major": 2,
    "version_minor": 0
   }
  }
 },
 "nbformat": 4,
 "nbformat_minor": 2
}